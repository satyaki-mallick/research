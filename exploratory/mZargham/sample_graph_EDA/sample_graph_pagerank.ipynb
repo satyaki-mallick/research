{
 "cells": [
  {
   "cell_type": "code",
   "execution_count": 1,
   "metadata": {},
   "outputs": [],
   "source": [
    "import json\n",
    "import os\n",
    "import pandas as pd\n",
    "import networkx as nx\n",
    "\n",
    "import numpy as np\n",
    "import matplotlib as mpl\n",
    "import matplotlib.pyplot as plt\n",
    "from collections import Counter\n",
    "\n",
    "\n",
    "%matplotlib inline"
   ]
  },
  {
   "cell_type": "code",
   "execution_count": 2,
   "metadata": {},
   "outputs": [],
   "source": [
    "cwd = os.getcwd()\n",
    "\n",
    "rel_path = \"sample_graphs/sourcecred_sourcecred.json\"\n",
    "rel_path2 = \"sample_graphs/sourcecred_research.json\"\n",
    "abs_file_path = os.path.abspath(os.path.join(cwd, '..', rel_path))\n",
    "abs_file_path2 = os.path.abspath(os.path.join(cwd, '..', rel_path2))\n",
    "\n",
    "with open(abs_file_path) as json_file:  \n",
    "    data = json.load(json_file)\n",
    "    \n",
    "with open(abs_file_path2) as json_file:  \n",
    "    data2 = json.load(json_file)"
   ]
  },
  {
   "cell_type": "code",
   "execution_count": 3,
   "metadata": {},
   "outputs": [
    {
     "data": {
      "text/plain": [
       "5932"
      ]
     },
     "execution_count": 3,
     "metadata": {},
     "output_type": "execute_result"
    }
   ],
   "source": [
    "len(data[1][\"nodes\"])"
   ]
  },
  {
   "cell_type": "code",
   "execution_count": 4,
   "metadata": {},
   "outputs": [],
   "source": [
    "def jsonToMultiDiGraph(json):\n",
    "    [compat, data] = json\n",
    "    assert compat[\"type\"] == \"sourcecred/graph\"\n",
    "    assert compat[\"version\"] == \"0.4.0\"\n",
    "    \n",
    "    def propertyDict(address):\n",
    "        # Note: This code \"happens to work\" for the sourcecred/git and sourcecred/github\n",
    "        # plugins. However, it is not a requirement that e.g. the third element of the address\n",
    "        # is a type, so this code should not be used in production or with general user-provided\n",
    "        # plugins\n",
    "        plugin = address[1]\n",
    "        type = address[2]\n",
    "        if type == \"REACTS\":\n",
    "            type = type + \"/\" + address[3]\n",
    "        return {\"address\": tuple(address), \"plugin\": plugin, \"type\": type}\n",
    "\n",
    "    \n",
    "    nodes = data[\"nodes\"]\n",
    "    edges = data[\"edges\"]\n",
    "    g = nx.MultiDiGraph()\n",
    "    for (i, n) in enumerate(nodes):\n",
    "        g.add_node(i, **propertyDict(n))\n",
    "    for e in edges:\n",
    "        g.add_edge(e[\"srcIndex\"], e[\"dstIndex\"], **propertyDict(e[\"address\"]))\n",
    "    return g"
   ]
  },
  {
   "cell_type": "code",
   "execution_count": 5,
   "metadata": {},
   "outputs": [
    {
     "data": {
      "text/plain": [
       "{'address': ['sourcecred',\n",
       "  'git',\n",
       "  'HAS_PARENT',\n",
       "  '2',\n",
       "  'COMMIT',\n",
       "  '00bc9a94616d867c9e66ef77bfb239e578d3569e',\n",
       "  '2',\n",
       "  'COMMIT',\n",
       "  'f100cd02ccabdab93a502f777fdce268b88a0db5'],\n",
       " 'dstIndex': 844,\n",
       " 'srcIndex': 1}"
      ]
     },
     "execution_count": 5,
     "metadata": {},
     "output_type": "execute_result"
    }
   ],
   "source": [
    "data[1]['edges'][1]"
   ]
  },
  {
   "cell_type": "code",
   "execution_count": 6,
   "metadata": {},
   "outputs": [],
   "source": [
    "Gs = jsonToMultiDiGraph(data)"
   ]
  },
  {
   "cell_type": "code",
   "execution_count": 7,
   "metadata": {},
   "outputs": [],
   "source": [
    "Gr = jsonToMultiDiGraph(data2)"
   ]
  },
  {
   "cell_type": "code",
   "execution_count": 8,
   "metadata": {},
   "outputs": [],
   "source": [
    "G = nx.disjoint_union(Gs,Gr)"
   ]
  },
  {
   "cell_type": "code",
   "execution_count": 9,
   "metadata": {},
   "outputs": [
    {
     "data": {
      "text/plain": [
       "{'address': ('sourcecred',\n",
       "  'git',\n",
       "  'HAS_PARENT',\n",
       "  '2',\n",
       "  'COMMIT',\n",
       "  '007cf88172d7ea9b0cdada78f124f7a41b811b30',\n",
       "  '2',\n",
       "  'COMMIT',\n",
       "  'd310561b9473ecaa0e22da3dac089ab61df2f723'),\n",
       " 'plugin': 'git',\n",
       " 'type': 'HAS_PARENT'}"
      ]
     },
     "execution_count": 9,
     "metadata": {},
     "output_type": "execute_result"
    }
   ],
   "source": [
    "G.edges[(0,736,0)]"
   ]
  },
  {
   "cell_type": "code",
   "execution_count": null,
   "metadata": {},
   "outputs": [],
   "source": []
  },
  {
   "cell_type": "markdown",
   "metadata": {},
   "source": [
    "I think it would make sense to try to structure the data in one of these formats. What you have alread isn't that far from the first one in the link below.\n",
    "\n",
    "https://networkx.github.io/documentation/stable/reference/readwrite/json_graph.html\n",
    "\n",
    "the fact is we'll probably want to be doing both graph generators and graph analysis with networkX \n",
    "\n",
    "https://networkx.github.io/documentation/stable/_downloads/networkx_reference.pdf\n",
    "\n",
    "so it would make it a lot smoother to move between reality and R&D if the data formats matched."
   ]
  },
  {
   "cell_type": "code",
   "execution_count": 10,
   "metadata": {
    "scrolled": false
   },
   "outputs": [
    {
     "data": {
      "image/png": "[encoded data removed]",
      "text/plain": [
       "<matplotlib.figure.Figure at 0x11240da20>"
      ]
     },
     "metadata": {},
     "output_type": "display_data"
    }
   ],
   "source": [
    "def nodeDegreeHistogram():\n",
    "    h = nx.degree_histogram(G)\n",
    "    plt.hist(h)\n",
    "    plt.yscale('log')\n",
    "    plt.suptitle(\"Nodes by degree\")\n",
    "    plt.show()\n",
    "nodeDegreeHistogram()"
   ]
  },
  {
   "cell_type": "code",
   "execution_count": 11,
   "metadata": {},
   "outputs": [
    {
     "data": {
      "image/png": "[encoded data removed]",
      "text/plain": [
       "<matplotlib.figure.Figure at 0x15207abef0>"
      ]
     },
     "metadata": {},
     "output_type": "display_data"
    }
   ],
   "source": [
    "def nodeCountBarChart():\n",
    "    node_count = Counter()\n",
    "    for n in G.nodes(data=True):\n",
    "        node_count[n[1][\"type\"]] += 1\n",
    "\n",
    "    (fig, ax) = plt.subplots(figsize=(12,3))\n",
    "    ax.bar(node_count.keys(), node_count.values())\n",
    "    fig.suptitle('Node count by node type')\n",
    "    plt.show()\n",
    "nodeCountBarChart()"
   ]
  },
  {
   "cell_type": "code",
   "execution_count": 12,
   "metadata": {
    "scrolled": true
   },
   "outputs": [
    {
     "data": {
      "image/png": "[encoded data removed]",
      "text/plain": [
       "<matplotlib.figure.Figure at 0x1520901828>"
      ]
     },
     "metadata": {},
     "output_type": "display_data"
    }
   ],
   "source": [
    "def edgeCountBarChart():\n",
    "    edge_count = Counter()\n",
    "    for e in G.edges(data=True):\n",
    "        edge_count[e[2][\"type\"]] += 1\n",
    "\n",
    "    (fig, ax) = plt.subplots(figsize=(12,3))\n",
    "    ax.bar(edge_count.keys(), edge_count.values())\n",
    "    fig.suptitle('Edge count by edge type')\n",
    "    plt.show()\n",
    "    \n",
    "edgeCountBarChart()"
   ]
  },
  {
   "cell_type": "code",
   "execution_count": 13,
   "metadata": {},
   "outputs": [
    {
     "data": {
      "text/plain": [
       "15649"
      ]
     },
     "execution_count": 13,
     "metadata": {},
     "output_type": "execute_result"
    }
   ],
   "source": [
    "len(G.edges(data=True))"
   ]
  },
  {
   "cell_type": "code",
   "execution_count": 14,
   "metadata": {},
   "outputs": [
    {
     "data": {
      "image/png": "[encoded data removed]",
      "text/plain": [
       "<matplotlib.figure.Figure at 0x151515df60>"
      ]
     },
     "metadata": {},
     "output_type": "display_data"
    }
   ],
   "source": [
    "def nodeDegreeByTypeChart():\n",
    "    type_count = Counter()\n",
    "    node_type_degree = Counter()\n",
    "    for n in G.nodes(data=True):\n",
    "        type = n[1][\"type\"]\n",
    "        type_count[type] += 1\n",
    "        node_type_degree[type] += G.degree(n[0])\n",
    "    \n",
    "    average_degree = {}\n",
    "    for type in type_count.keys():\n",
    "        average_degree[type] = node_type_degree[type] / type_count[type]\n",
    "    \n",
    "    (fig, ax) = plt.subplots(figsize=(12,3))\n",
    "    ax.bar(average_degree.keys(), average_degree.values())\n",
    "    ax.set_yscale(\"log\")\n",
    "    fig.suptitle('Average degree by node type (log scaled)')\n",
    "    plt.show()\n",
    "nodeDegreeByTypeChart()"
   ]
  },
  {
   "cell_type": "code",
   "execution_count": 15,
   "metadata": {},
   "outputs": [],
   "source": [
    "#drawing here is pretty lame without more attention to layout but you solve for you own positions\n",
    "#this is a hybrid of random and circular because the simple algs were trivially useless\n",
    "#and the complex algorithms couldn't compute in reasonable time\n",
    "\n",
    "deg = dict(nx.degree(G))\n",
    "N = len(G.nodes)\n",
    "\n",
    "\n",
    "\n",
    "r1 = 1\n",
    "t1 = 10\n",
    "r2 = 400\n",
    "t2 = 20\n",
    "r3 = 1000\n",
    "\n",
    "def get_pos(r, n, rv=True):\n",
    "    if rv:\n",
    "        rvx = np.random.rand()\n",
    "        rvy = np.random.rand()\n",
    "    else:\n",
    "        rvx = 1\n",
    "        rvy = 1\n",
    "    \n",
    "    return np.array([r*rvx*np.cos(2*np.pi*n/N) , r*rvy*np.sin(2*np.pi*n/N) ])\n",
    "\n",
    "pos = {}\n",
    "for n in G.nodes:\n",
    "    if deg[n]<t1:\n",
    "        pos[n] = get_pos(r1, n)\n",
    "    elif deg[n]<t2:\n",
    "        pos[n] = get_pos(r2, n)\n",
    "    else :\n",
    "        pos[n] = get_pos(r3, n)\n",
    "\n",
    "#squelched to save runtime but not deleting,\n",
    "#still referencing the above while working on plotting\n",
    "#nx.draw(G, pos)"
   ]
  },
  {
   "cell_type": "markdown",
   "metadata": {},
   "source": [
    "Nothing particularly interesting until we get the Graph objects \"G\" correctly labeled with all the meta data so we can use the more fun features of networkX.\n",
    "\n",
    "Ongoing work below"
   ]
  },
  {
   "cell_type": "code",
   "execution_count": 16,
   "metadata": {},
   "outputs": [
    {
     "data": {
      "text/plain": [
       "{'address': ('sourcecred',\n",
       "  'git',\n",
       "  'COMMIT',\n",
       "  '007cf88172d7ea9b0cdada78f124f7a41b811b30'),\n",
       " 'plugin': 'git',\n",
       " 'type': 'COMMIT'}"
      ]
     },
     "execution_count": 16,
     "metadata": {},
     "output_type": "execute_result"
    }
   ],
   "source": [
    "#this is stored in a relatively intuitive way\n",
    "#though I see some redundancy between the top level field\n",
    "#I assuming we'll put anything we need for analysis as a top level field\n",
    "\n",
    "G.nodes(data=True)[0]"
   ]
  },
  {
   "cell_type": "code",
   "execution_count": 17,
   "metadata": {},
   "outputs": [],
   "source": [
    "#inspection helper function\n",
    "def getNodeAttributeUniques(g, attr):\n",
    "    print(type(attr))\n",
    "    return set(nx.get_node_attributes(g,attr).values())"
   ]
  },
  {
   "cell_type": "code",
   "execution_count": 18,
   "metadata": {},
   "outputs": [
    {
     "name": "stdout",
     "output_type": "stream",
     "text": [
      "{'COMMIT', 'REPO', 'PULL', 'ISSUE', 'REVIEW', 'USERLIKE', 'COMMENT'}\n"
     ]
    }
   ],
   "source": [
    "node_types = set(nx.get_node_attributes(G,'type').values())\n",
    "node_sources = set(nx.get_node_attributes(G,'plugin').values())\n",
    "\n",
    "print(node_types)\n",
    "cmap = plt.cm.jet\n",
    "Nc = cmap.N\n",
    "Nt = len(node_types)\n",
    "dN = int(Nc/Nt)\n",
    "cmaplist = [cmap(i*dN) for i in range(Nt)]"
   ]
  },
  {
   "cell_type": "code",
   "execution_count": 19,
   "metadata": {},
   "outputs": [
    {
     "name": "stdout",
     "output_type": "stream",
     "text": [
      "<class 'str'>\n"
     ]
    },
    {
     "data": {
      "text/plain": [
       "{'git', 'github'}"
      ]
     },
     "execution_count": 19,
     "metadata": {},
     "output_type": "execute_result"
    }
   ],
   "source": [
    "getNodeAttributeUniques(G, 'plugin')"
   ]
  },
  {
   "cell_type": "code",
   "execution_count": 20,
   "metadata": {},
   "outputs": [
    {
     "name": "stdout",
     "output_type": "stream",
     "text": [
      "plugin\n",
      "<class 'str'>\n",
      "{'github', 'git'}\n",
      "type\n",
      "<class 'str'>\n",
      "{'COMMIT', 'REPO', 'PULL', 'ISSUE', 'REVIEW', 'USERLIKE', 'COMMENT'}\n"
     ]
    }
   ],
   "source": [
    "for k in ['plugin', 'type']:\n",
    "    print(k)\n",
    "    print(getNodeAttributeUniques(G, k))"
   ]
  },
  {
   "cell_type": "code",
   "execution_count": 21,
   "metadata": {},
   "outputs": [
    {
     "data": {
      "text/plain": [
       "{'AUTHORS',\n",
       " 'HAS_PARENT',\n",
       " 'MENTIONS_AUTHOR',\n",
       " 'MERGED_AS',\n",
       " 'REACTS/HEART',\n",
       " 'REACTS/HOORAY',\n",
       " 'REACTS/ROCKET',\n",
       " 'REACTS/THUMBS_UP',\n",
       " 'REFERENCES'}"
      ]
     },
     "execution_count": 21,
     "metadata": {},
     "output_type": "execute_result"
    }
   ],
   "source": [
    "set([G.edges[e]['type'] for e in G.edges ])"
   ]
  },
  {
   "cell_type": "code",
   "execution_count": 22,
   "metadata": {},
   "outputs": [],
   "source": [
    "#fair warning\n",
    "#this is not a very efficient implementaiton\n",
    "#took a few passes to get it working\n",
    "\n",
    "colors = {}\n",
    "bunches = {}\n",
    "\n",
    "counter = 0\n",
    "for nt in node_types:\n",
    "    bunches[nt] = [x for x,y in G.nodes(data=True) if y['type']==nt]\n",
    "    colors[nt]  = cmaplist[counter]\n",
    "    counter = counter + 1    \n",
    "    \n",
    "node_color = {}\n",
    "for x,y in G.nodes(data=True):\n",
    "    G.nodes[x]['color'] = colors[y['type']]\n",
    "    if (y['type']==\"REPO\") or (y['type']==\"USERLIKE\"):\n",
    "        G.nodes[x]['label']= y['address'][4]\n",
    "    else :\n",
    "        G.nodes[x]['label']=y['type']\n",
    "    \n",
    "\n",
    "\n",
    "markers = [\".\",\",\",\"o\",\"v\",\"^\",\"<\",\">\",\"1\",\"2\",\"3\",\"4\",\"8\",\"s\",\"p\",\"P\",\"*\",\"h\",\"H\",\"+\",\"x\",\"X\",\"D\",\"d\"]\n",
    "\n",
    "node_shape = {}\n",
    "shapes= {}\n",
    "\n",
    "counter = 0\n",
    "for ns in node_sources:\n",
    "    bunches[ns] = [x for x,y in G.nodes(data=True) if y['plugin']==ns]\n",
    "    shapes[ns]  = markers[counter]\n",
    "    counter = counter+1\n",
    "\n",
    "for x,y in G.nodes(data=True):\n",
    "    G.nodes[x]['shape'] = shapes[y['plugin']]"
   ]
  },
  {
   "cell_type": "code",
   "execution_count": 23,
   "metadata": {},
   "outputs": [
    {
     "data": {
      "text/plain": [
       "(0.0, 0.0, 0.5, 1.0)"
      ]
     },
     "execution_count": 23,
     "metadata": {},
     "output_type": "execute_result"
    }
   ],
   "source": [
    "nx.get_node_attributes(G, 'color')[0]"
   ]
  },
  {
   "cell_type": "code",
   "execution_count": 24,
   "metadata": {},
   "outputs": [],
   "source": [
    "def inspectSubGraph(g, seed, expand=True, verbose=False, label=True,pos = \"kk\"):\n",
    "    \n",
    "    nbunch = seed\n",
    "    if expand:\n",
    "        for s in seed:\n",
    "            nbunch = list(nx.all_neighbors(g,s))+nbunch\n",
    "            \n",
    "    #print(nbunch)\n",
    "    sg = nx.subgraph(g,set(nbunch))\n",
    "    sgc = np.array(list(nx.get_node_attributes(sg,'color').values()))\n",
    "    #sgs = nx.get_node_attributes(sg,'shape')\n",
    "    #print(sgc)\n",
    "    #nx.draw_kamada_kawai(sg, node_color =sgc, node_shape=sgs , alpha=.5)\n",
    "    \n",
    "    if verbose:\n",
    "        print(\"nodes\")\n",
    "        for n in sg.nodes:\n",
    "            print(n)\n",
    "            print(sg.nodes[n])\n",
    "        \n",
    "        print(\"\")\n",
    "        print(\"edges\")\n",
    "        for e in sg.edges:\n",
    "            print(e)\n",
    "            print(sg.edges[e])\n",
    "    \n",
    "    labels = None\n",
    "    if label:\n",
    "        labels = nx.get_node_attributes(sg, 'label')\n",
    "        \n",
    "    if pos == \"kk\":\n",
    "        nx.draw_kamada_kawai(sg, node_color =sgc, node_shape = '.',alpha=.5, labels=labels, font_size=8)\n",
    "    elif pos ==\"spring\":\n",
    "        nx.draw_spring(sg, node_color =sgc, node_shape = '.',alpha=.5, labels=labels, font_size=8)\n",
    "    elif pos == \"spectral\":\n",
    "        nx.draw_spectral(sg, node_color =sgc, node_shape = '.',alpha=.5, labels=labels, font_size=8)\n",
    "    else:\n",
    "        nx.draw_circular(sg, node_color =sgc, node_shape = '.',alpha=.5, labels=labels, font_size=8)"
   ]
  },
  {
   "cell_type": "code",
   "execution_count": 25,
   "metadata": {},
   "outputs": [],
   "source": [
    "#tuples are (to_weight, from_weight)\n",
    "edge_wt_by_type = {\n",
    "    'AUTHORS': (0.5,1),\n",
    "    'HAS_PARENT':(1,1/4),\n",
    "    'MENTIONS_AUTHOR': (1,1/32),\n",
    "    'MERGED_AS':(.5,1),\n",
    "    'REFERENCES':(1,1/16),\n",
    "    'REACTS/HEART':(2,1/32),\n",
    "    'REACTS/HOORAY':(4,1/32),\n",
    "    'REACTS/ROCKET':(1,0), #appears to be missing from current implementation\n",
    "    'REACTS/THUMBS_UP':(1,1/32)\n",
    "    }\n",
    "\n",
    "node_wt_by_type = {\n",
    "    'ISSUE':2.0, \n",
    "    'REPO':4.0, \n",
    "    'COMMENT': 1.0, \n",
    "    'COMMIT':2.0, \n",
    "    'USERLIKE':1.0, \n",
    "    'REVIEW': 1.0, \n",
    "    'PULL': 4.0\n",
    "    \n",
    "}"
   ]
  },
  {
   "cell_type": "code",
   "execution_count": 26,
   "metadata": {},
   "outputs": [],
   "source": [
    "def edge_count(src,dst):\n",
    "    i =0\n",
    "    stop = False\n",
    "    while not(stop):\n",
    "        try:\n",
    "            x = G.edges[(src,dst,i)]\n",
    "            i=i+1\n",
    "        except:\n",
    "            stop = True\n",
    "            return i"
   ]
  },
  {
   "cell_type": "code",
   "execution_count": 27,
   "metadata": {},
   "outputs": [
    {
     "data": {
      "text/plain": [
       "1"
      ]
     },
     "execution_count": 27,
     "metadata": {},
     "output_type": "execute_result"
    }
   ],
   "source": [
    "edge_count(0, 736)"
   ]
  },
  {
   "cell_type": "code",
   "execution_count": null,
   "metadata": {},
   "outputs": [],
   "source": []
  },
  {
   "cell_type": "code",
   "execution_count": 28,
   "metadata": {},
   "outputs": [],
   "source": [
    "#set up for a pagerank calculation\n",
    "N = len(G.nodes)\n",
    "\n",
    "alpha = 0\n",
    "seed = {n:1.0/N for n in G.nodes}\n",
    "\n",
    "self_loop_wt = 10**(-3)\n",
    "\n",
    "for n in G.nodes:\n",
    "    #G.nodes[n]['seed']=seed[n]\n",
    "    G.nodes[n]['score'] = seed[n]\n",
    "\n",
    "for e in G.edges:\n",
    "    e_wts = edge_wt_by_type[G.edges[e]['type']]\n",
    "    src_wt = node_wt_by_type[G.nodes[e[0]]['type']]\n",
    "    dst_wt = node_wt_by_type[G.nodes[e[1]]['type']]\n",
    "    \n",
    "    G.edges[e]['in_weight'] = e_wts[0]*dst_wt\n",
    "    G.edges[e]['out_weight'] = e_wts[1]*src_wt\n",
    "\n",
    "for n in G.nodes:\n",
    "    wt = self_loop_wt\n",
    "    for nb in nx.all_neighbors(G,n):\n",
    "        #outbound neighbor\n",
    "        if nb in G.neighbors(n):\n",
    "            e_count = edge_count(n,nb)\n",
    "            for e3 in range(e_count):\n",
    "                wt = wt + G.edges[(n,nb,e3)]['out_weight']\n",
    "        #inbound neighbor\n",
    "        else:\n",
    "            e_count = edge_count(nb,n)\n",
    "            for e3 in range(e_count):\n",
    "                wt = wt + G.edges[(nb,n,e3)]['in_weight']\n",
    "            \n",
    "    G.nodes[n]['denominator']=wt"
   ]
  },
  {
   "cell_type": "code",
   "execution_count": 29,
   "metadata": {},
   "outputs": [
    {
     "data": {
      "text/plain": [
       "{'address': ('sourcecred',\n",
       "  'git',\n",
       "  'HAS_PARENT',\n",
       "  '2',\n",
       "  'COMMIT',\n",
       "  '007cf88172d7ea9b0cdada78f124f7a41b811b30',\n",
       "  '2',\n",
       "  'COMMIT',\n",
       "  'd310561b9473ecaa0e22da3dac089ab61df2f723'),\n",
       " 'in_weight': 2.0,\n",
       " 'out_weight': 0.5,\n",
       " 'plugin': 'git',\n",
       " 'type': 'HAS_PARENT'}"
      ]
     },
     "execution_count": 29,
     "metadata": {},
     "output_type": "execute_result"
    }
   ],
   "source": [
    "G.edges[(0, 736, 0)]"
   ]
  },
  {
   "cell_type": "code",
   "execution_count": 30,
   "metadata": {},
   "outputs": [
    {
     "data": {
      "text/plain": [
       "[736, 3423]"
      ]
     },
     "execution_count": 30,
     "metadata": {},
     "output_type": "execute_result"
    }
   ],
   "source": [
    "#out\n",
    "list(G.neighbors(0))"
   ]
  },
  {
   "cell_type": "code",
   "execution_count": 31,
   "metadata": {},
   "outputs": [
    {
     "data": {
      "text/plain": [
       "[158, 3423, 5930, 736, 3423]"
      ]
     },
     "execution_count": 31,
     "metadata": {},
     "output_type": "execute_result"
    }
   ],
   "source": [
    "list(nx.all_neighbors(G,0))"
   ]
  },
  {
   "cell_type": "code",
   "execution_count": 32,
   "metadata": {},
   "outputs": [],
   "source": [
    "def update_x(g):\n",
    "    prior_x = nx.get_node_attributes(g,'score')\n",
    "    for n in g.nodes:\n",
    "        val = (self_loop_wt/g.nodes[n]['denominator']*prior_x[n] + alpha*seed[n])/(1-alpha)\n",
    "        \n",
    "        for nb in nx.all_neighbors(g,n):\n",
    "            #outbound neighbor\n",
    "            if nb in g.neighbors(n):\n",
    "                e_count = edge_count(n,nb)\n",
    "                for e3 in range(e_count):\n",
    "                    val = val + g.edges[(n,nb,e3)]['out_weight']*prior_x[nb]/g.nodes[nb]['denominator']\n",
    "            #inbound neighbor\n",
    "            else:\n",
    "                e_count = edge_count(nb,n)\n",
    "                for e3 in range(e_count):\n",
    "                    val = val + g.edges[(nb,n,e3)]['in_weight']*prior_x[nb]/g.nodes[nb]['denominator']\n",
    "        g.nodes[n]['score']=val*(1-alpha)\n",
    "    \n",
    "    return g\n"
   ]
  },
  {
   "cell_type": "code",
   "execution_count": 92,
   "metadata": {},
   "outputs": [],
   "source": [
    "x0 = nx.get_node_attributes(G,'score')\n",
    "graph = G\n",
    "K=10\n",
    "x_dict = {0:seed}\n",
    "for k in range(0,K):\n",
    "    graph = update_x(graph)\n",
    "    x_dict[k+1] = nx.get_node_attributes(graph,'score')"
   ]
  },
  {
   "cell_type": "code",
   "execution_count": 93,
   "metadata": {},
   "outputs": [],
   "source": [
    "X = pd.DataFrame(x_dict).T"
   ]
  },
  {
   "cell_type": "code",
   "execution_count": 94,
   "metadata": {},
   "outputs": [
    {
     "data": {
      "text/html": [
       "<div>\n",
       "<style scoped>\n",
       "    .dataframe tbody tr th:only-of-type {\n",
       "        vertical-align: middle;\n",
       "    }\n",
       "\n",
       "    .dataframe tbody tr th {\n",
       "        vertical-align: top;\n",
       "    }\n",
       "\n",
       "    .dataframe thead th {\n",
       "        text-align: right;\n",
       "    }\n",
       "</style>\n",
       "<table border=\"1\" class=\"dataframe\">\n",
       "  <thead>\n",
       "    <tr style=\"text-align: right;\">\n",
       "      <th></th>\n",
       "      <th>0</th>\n",
       "      <th>1</th>\n",
       "      <th>2</th>\n",
       "      <th>3</th>\n",
       "      <th>4</th>\n",
       "      <th>5</th>\n",
       "      <th>6</th>\n",
       "      <th>7</th>\n",
       "      <th>8</th>\n",
       "      <th>9</th>\n",
       "      <th>...</th>\n",
       "      <th>5952</th>\n",
       "      <th>5953</th>\n",
       "      <th>5954</th>\n",
       "      <th>5955</th>\n",
       "      <th>5956</th>\n",
       "      <th>5957</th>\n",
       "      <th>5958</th>\n",
       "      <th>5959</th>\n",
       "      <th>5960</th>\n",
       "      <th>5961</th>\n",
       "    </tr>\n",
       "  </thead>\n",
       "  <tbody>\n",
       "    <tr>\n",
       "      <th>count</th>\n",
       "      <td>11.000000</td>\n",
       "      <td>11.000000</td>\n",
       "      <td>11.000000</td>\n",
       "      <td>11.000000</td>\n",
       "      <td>11.000000</td>\n",
       "      <td>11.000000</td>\n",
       "      <td>11.000000</td>\n",
       "      <td>11.000000</td>\n",
       "      <td>11.000000</td>\n",
       "      <td>11.000000</td>\n",
       "      <td>...</td>\n",
       "      <td>11.000000</td>\n",
       "      <td>11.000000</td>\n",
       "      <td>11.000000</td>\n",
       "      <td>11.000000</td>\n",
       "      <td>11.000000</td>\n",
       "      <td>11.000000</td>\n",
       "      <td>11.000000</td>\n",
       "      <td>11.000000</td>\n",
       "      <td>11.000000</td>\n",
       "      <td>11.000000</td>\n",
       "    </tr>\n",
       "    <tr>\n",
       "      <th>mean</th>\n",
       "      <td>0.000264</td>\n",
       "      <td>0.000274</td>\n",
       "      <td>0.000266</td>\n",
       "      <td>0.000266</td>\n",
       "      <td>0.000264</td>\n",
       "      <td>0.000264</td>\n",
       "      <td>0.000263</td>\n",
       "      <td>0.000250</td>\n",
       "      <td>0.000272</td>\n",
       "      <td>0.000267</td>\n",
       "      <td>...</td>\n",
       "      <td>0.000164</td>\n",
       "      <td>0.000165</td>\n",
       "      <td>0.000165</td>\n",
       "      <td>0.000165</td>\n",
       "      <td>0.000165</td>\n",
       "      <td>0.000165</td>\n",
       "      <td>0.000165</td>\n",
       "      <td>0.000612</td>\n",
       "      <td>0.001553</td>\n",
       "      <td>0.000702</td>\n",
       "    </tr>\n",
       "    <tr>\n",
       "      <th>std</th>\n",
       "      <td>0.000032</td>\n",
       "      <td>0.000035</td>\n",
       "      <td>0.000033</td>\n",
       "      <td>0.000033</td>\n",
       "      <td>0.000032</td>\n",
       "      <td>0.000032</td>\n",
       "      <td>0.000032</td>\n",
       "      <td>0.000027</td>\n",
       "      <td>0.000035</td>\n",
       "      <td>0.000033</td>\n",
       "      <td>...</td>\n",
       "      <td>0.000001</td>\n",
       "      <td>0.000001</td>\n",
       "      <td>0.000001</td>\n",
       "      <td>0.000001</td>\n",
       "      <td>0.000001</td>\n",
       "      <td>0.000001</td>\n",
       "      <td>0.000001</td>\n",
       "      <td>0.000147</td>\n",
       "      <td>0.000459</td>\n",
       "      <td>0.000178</td>\n",
       "    </tr>\n",
       "    <tr>\n",
       "      <th>min</th>\n",
       "      <td>0.000168</td>\n",
       "      <td>0.000168</td>\n",
       "      <td>0.000168</td>\n",
       "      <td>0.000168</td>\n",
       "      <td>0.000168</td>\n",
       "      <td>0.000168</td>\n",
       "      <td>0.000168</td>\n",
       "      <td>0.000168</td>\n",
       "      <td>0.000168</td>\n",
       "      <td>0.000168</td>\n",
       "      <td>...</td>\n",
       "      <td>0.000162</td>\n",
       "      <td>0.000164</td>\n",
       "      <td>0.000164</td>\n",
       "      <td>0.000164</td>\n",
       "      <td>0.000164</td>\n",
       "      <td>0.000164</td>\n",
       "      <td>0.000164</td>\n",
       "      <td>0.000168</td>\n",
       "      <td>0.000168</td>\n",
       "      <td>0.000168</td>\n",
       "    </tr>\n",
       "    <tr>\n",
       "      <th>25%</th>\n",
       "      <td>0.000271</td>\n",
       "      <td>0.000282</td>\n",
       "      <td>0.000274</td>\n",
       "      <td>0.000274</td>\n",
       "      <td>0.000271</td>\n",
       "      <td>0.000272</td>\n",
       "      <td>0.000270</td>\n",
       "      <td>0.000257</td>\n",
       "      <td>0.000281</td>\n",
       "      <td>0.000276</td>\n",
       "      <td>...</td>\n",
       "      <td>0.000164</td>\n",
       "      <td>0.000164</td>\n",
       "      <td>0.000164</td>\n",
       "      <td>0.000164</td>\n",
       "      <td>0.000164</td>\n",
       "      <td>0.000164</td>\n",
       "      <td>0.000164</td>\n",
       "      <td>0.000653</td>\n",
       "      <td>0.001688</td>\n",
       "      <td>0.000744</td>\n",
       "    </tr>\n",
       "    <tr>\n",
       "      <th>50%</th>\n",
       "      <td>0.000273</td>\n",
       "      <td>0.000285</td>\n",
       "      <td>0.000275</td>\n",
       "      <td>0.000276</td>\n",
       "      <td>0.000273</td>\n",
       "      <td>0.000273</td>\n",
       "      <td>0.000273</td>\n",
       "      <td>0.000259</td>\n",
       "      <td>0.000283</td>\n",
       "      <td>0.000277</td>\n",
       "      <td>...</td>\n",
       "      <td>0.000164</td>\n",
       "      <td>0.000165</td>\n",
       "      <td>0.000165</td>\n",
       "      <td>0.000165</td>\n",
       "      <td>0.000165</td>\n",
       "      <td>0.000165</td>\n",
       "      <td>0.000165</td>\n",
       "      <td>0.000656</td>\n",
       "      <td>0.001690</td>\n",
       "      <td>0.000750</td>\n",
       "    </tr>\n",
       "    <tr>\n",
       "      <th>75%</th>\n",
       "      <td>0.000275</td>\n",
       "      <td>0.000286</td>\n",
       "      <td>0.000277</td>\n",
       "      <td>0.000277</td>\n",
       "      <td>0.000275</td>\n",
       "      <td>0.000275</td>\n",
       "      <td>0.000274</td>\n",
       "      <td>0.000260</td>\n",
       "      <td>0.000284</td>\n",
       "      <td>0.000278</td>\n",
       "      <td>...</td>\n",
       "      <td>0.000165</td>\n",
       "      <td>0.000165</td>\n",
       "      <td>0.000165</td>\n",
       "      <td>0.000165</td>\n",
       "      <td>0.000165</td>\n",
       "      <td>0.000165</td>\n",
       "      <td>0.000165</td>\n",
       "      <td>0.000658</td>\n",
       "      <td>0.001693</td>\n",
       "      <td>0.000761</td>\n",
       "    </tr>\n",
       "    <tr>\n",
       "      <th>max</th>\n",
       "      <td>0.000276</td>\n",
       "      <td>0.000287</td>\n",
       "      <td>0.000278</td>\n",
       "      <td>0.000278</td>\n",
       "      <td>0.000276</td>\n",
       "      <td>0.000276</td>\n",
       "      <td>0.000276</td>\n",
       "      <td>0.000260</td>\n",
       "      <td>0.000285</td>\n",
       "      <td>0.000279</td>\n",
       "      <td>...</td>\n",
       "      <td>0.000168</td>\n",
       "      <td>0.000168</td>\n",
       "      <td>0.000168</td>\n",
       "      <td>0.000168</td>\n",
       "      <td>0.000168</td>\n",
       "      <td>0.000168</td>\n",
       "      <td>0.000168</td>\n",
       "      <td>0.000665</td>\n",
       "      <td>0.001701</td>\n",
       "      <td>0.000787</td>\n",
       "    </tr>\n",
       "  </tbody>\n",
       "</table>\n",
       "<p>8 rows × 5962 columns</p>\n",
       "</div>"
      ],
      "text/plain": [
       "            0          1          2          3          4          5     \\\n",
       "count  11.000000  11.000000  11.000000  11.000000  11.000000  11.000000   \n",
       "mean    0.000264   0.000274   0.000266   0.000266   0.000264   0.000264   \n",
       "std     0.000032   0.000035   0.000033   0.000033   0.000032   0.000032   \n",
       "min     0.000168   0.000168   0.000168   0.000168   0.000168   0.000168   \n",
       "25%     0.000271   0.000282   0.000274   0.000274   0.000271   0.000272   \n",
       "50%     0.000273   0.000285   0.000275   0.000276   0.000273   0.000273   \n",
       "75%     0.000275   0.000286   0.000277   0.000277   0.000275   0.000275   \n",
       "max     0.000276   0.000287   0.000278   0.000278   0.000276   0.000276   \n",
       "\n",
       "            6          7          8          9       ...           5952  \\\n",
       "count  11.000000  11.000000  11.000000  11.000000    ...      11.000000   \n",
       "mean    0.000263   0.000250   0.000272   0.000267    ...       0.000164   \n",
       "std     0.000032   0.000027   0.000035   0.000033    ...       0.000001   \n",
       "min     0.000168   0.000168   0.000168   0.000168    ...       0.000162   \n",
       "25%     0.000270   0.000257   0.000281   0.000276    ...       0.000164   \n",
       "50%     0.000273   0.000259   0.000283   0.000277    ...       0.000164   \n",
       "75%     0.000274   0.000260   0.000284   0.000278    ...       0.000165   \n",
       "max     0.000276   0.000260   0.000285   0.000279    ...       0.000168   \n",
       "\n",
       "            5953       5954       5955       5956       5957       5958  \\\n",
       "count  11.000000  11.000000  11.000000  11.000000  11.000000  11.000000   \n",
       "mean    0.000165   0.000165   0.000165   0.000165   0.000165   0.000165   \n",
       "std     0.000001   0.000001   0.000001   0.000001   0.000001   0.000001   \n",
       "min     0.000164   0.000164   0.000164   0.000164   0.000164   0.000164   \n",
       "25%     0.000164   0.000164   0.000164   0.000164   0.000164   0.000164   \n",
       "50%     0.000165   0.000165   0.000165   0.000165   0.000165   0.000165   \n",
       "75%     0.000165   0.000165   0.000165   0.000165   0.000165   0.000165   \n",
       "max     0.000168   0.000168   0.000168   0.000168   0.000168   0.000168   \n",
       "\n",
       "            5959       5960       5961  \n",
       "count  11.000000  11.000000  11.000000  \n",
       "mean    0.000612   0.001553   0.000702  \n",
       "std     0.000147   0.000459   0.000178  \n",
       "min     0.000168   0.000168   0.000168  \n",
       "25%     0.000653   0.001688   0.000744  \n",
       "50%     0.000656   0.001690   0.000750  \n",
       "75%     0.000658   0.001693   0.000761  \n",
       "max     0.000665   0.001701   0.000787  \n",
       "\n",
       "[8 rows x 5962 columns]"
      ]
     },
     "execution_count": 94,
     "metadata": {},
     "output_type": "execute_result"
    }
   ],
   "source": [
    "X.describe()"
   ]
  },
  {
   "cell_type": "code",
   "execution_count": 95,
   "metadata": {},
   "outputs": [],
   "source": [
    "X.columns = ['n'+str(n) for n in X.columns]\n",
    "cols = X.columns"
   ]
  },
  {
   "cell_type": "code",
   "execution_count": 96,
   "metadata": {},
   "outputs": [
    {
     "data": {
      "text/html": [
       "<div>\n",
       "<style scoped>\n",
       "    .dataframe tbody tr th:only-of-type {\n",
       "        vertical-align: middle;\n",
       "    }\n",
       "\n",
       "    .dataframe tbody tr th {\n",
       "        vertical-align: top;\n",
       "    }\n",
       "\n",
       "    .dataframe thead th {\n",
       "        text-align: right;\n",
       "    }\n",
       "</style>\n",
       "<table border=\"1\" class=\"dataframe\">\n",
       "  <thead>\n",
       "    <tr style=\"text-align: right;\">\n",
       "      <th></th>\n",
       "      <th>n0</th>\n",
       "      <th>n1</th>\n",
       "      <th>n2</th>\n",
       "      <th>n3</th>\n",
       "      <th>n4</th>\n",
       "      <th>n5</th>\n",
       "      <th>n6</th>\n",
       "      <th>n7</th>\n",
       "      <th>n8</th>\n",
       "      <th>n9</th>\n",
       "      <th>...</th>\n",
       "      <th>n5952</th>\n",
       "      <th>n5953</th>\n",
       "      <th>n5954</th>\n",
       "      <th>n5955</th>\n",
       "      <th>n5956</th>\n",
       "      <th>n5957</th>\n",
       "      <th>n5958</th>\n",
       "      <th>n5959</th>\n",
       "      <th>n5960</th>\n",
       "      <th>n5961</th>\n",
       "    </tr>\n",
       "  </thead>\n",
       "  <tbody>\n",
       "    <tr>\n",
       "      <th>0</th>\n",
       "      <td>0.000168</td>\n",
       "      <td>0.000168</td>\n",
       "      <td>0.000168</td>\n",
       "      <td>0.000168</td>\n",
       "      <td>0.000168</td>\n",
       "      <td>0.000168</td>\n",
       "      <td>0.000168</td>\n",
       "      <td>0.000168</td>\n",
       "      <td>0.000168</td>\n",
       "      <td>0.000168</td>\n",
       "      <td>...</td>\n",
       "      <td>0.000168</td>\n",
       "      <td>0.000168</td>\n",
       "      <td>0.000168</td>\n",
       "      <td>0.000168</td>\n",
       "      <td>0.000168</td>\n",
       "      <td>0.000168</td>\n",
       "      <td>0.000168</td>\n",
       "      <td>0.000168</td>\n",
       "      <td>0.000168</td>\n",
       "      <td>0.000168</td>\n",
       "    </tr>\n",
       "    <tr>\n",
       "      <th>1</th>\n",
       "      <td>0.000269</td>\n",
       "      <td>0.000282</td>\n",
       "      <td>0.000272</td>\n",
       "      <td>0.000272</td>\n",
       "      <td>0.000267</td>\n",
       "      <td>0.000268</td>\n",
       "      <td>0.000269</td>\n",
       "      <td>0.000253</td>\n",
       "      <td>0.000279</td>\n",
       "      <td>0.000273</td>\n",
       "      <td>...</td>\n",
       "      <td>0.000166</td>\n",
       "      <td>0.000166</td>\n",
       "      <td>0.000166</td>\n",
       "      <td>0.000166</td>\n",
       "      <td>0.000166</td>\n",
       "      <td>0.000166</td>\n",
       "      <td>0.000166</td>\n",
       "      <td>0.000665</td>\n",
       "      <td>0.001701</td>\n",
       "      <td>0.000787</td>\n",
       "    </tr>\n",
       "    <tr>\n",
       "      <th>2</th>\n",
       "      <td>0.000270</td>\n",
       "      <td>0.000281</td>\n",
       "      <td>0.000273</td>\n",
       "      <td>0.000274</td>\n",
       "      <td>0.000272</td>\n",
       "      <td>0.000273</td>\n",
       "      <td>0.000269</td>\n",
       "      <td>0.000259</td>\n",
       "      <td>0.000279</td>\n",
       "      <td>0.000276</td>\n",
       "      <td>...</td>\n",
       "      <td>0.000162</td>\n",
       "      <td>0.000164</td>\n",
       "      <td>0.000164</td>\n",
       "      <td>0.000164</td>\n",
       "      <td>0.000164</td>\n",
       "      <td>0.000164</td>\n",
       "      <td>0.000164</td>\n",
       "      <td>0.000648</td>\n",
       "      <td>0.001684</td>\n",
       "      <td>0.000733</td>\n",
       "    </tr>\n",
       "    <tr>\n",
       "      <th>3</th>\n",
       "      <td>0.000272</td>\n",
       "      <td>0.000284</td>\n",
       "      <td>0.000274</td>\n",
       "      <td>0.000275</td>\n",
       "      <td>0.000271</td>\n",
       "      <td>0.000271</td>\n",
       "      <td>0.000271</td>\n",
       "      <td>0.000256</td>\n",
       "      <td>0.000282</td>\n",
       "      <td>0.000276</td>\n",
       "      <td>...</td>\n",
       "      <td>0.000165</td>\n",
       "      <td>0.000165</td>\n",
       "      <td>0.000165</td>\n",
       "      <td>0.000165</td>\n",
       "      <td>0.000165</td>\n",
       "      <td>0.000165</td>\n",
       "      <td>0.000165</td>\n",
       "      <td>0.000661</td>\n",
       "      <td>0.001696</td>\n",
       "      <td>0.000772</td>\n",
       "    </tr>\n",
       "    <tr>\n",
       "      <th>4</th>\n",
       "      <td>0.000272</td>\n",
       "      <td>0.000283</td>\n",
       "      <td>0.000275</td>\n",
       "      <td>0.000275</td>\n",
       "      <td>0.000273</td>\n",
       "      <td>0.000273</td>\n",
       "      <td>0.000271</td>\n",
       "      <td>0.000259</td>\n",
       "      <td>0.000282</td>\n",
       "      <td>0.000277</td>\n",
       "      <td>...</td>\n",
       "      <td>0.000163</td>\n",
       "      <td>0.000164</td>\n",
       "      <td>0.000164</td>\n",
       "      <td>0.000164</td>\n",
       "      <td>0.000164</td>\n",
       "      <td>0.000164</td>\n",
       "      <td>0.000164</td>\n",
       "      <td>0.000652</td>\n",
       "      <td>0.001687</td>\n",
       "      <td>0.000741</td>\n",
       "    </tr>\n",
       "  </tbody>\n",
       "</table>\n",
       "<p>5 rows × 5962 columns</p>\n",
       "</div>"
      ],
      "text/plain": [
       "         n0        n1        n2        n3        n4        n5        n6  \\\n",
       "0  0.000168  0.000168  0.000168  0.000168  0.000168  0.000168  0.000168   \n",
       "1  0.000269  0.000282  0.000272  0.000272  0.000267  0.000268  0.000269   \n",
       "2  0.000270  0.000281  0.000273  0.000274  0.000272  0.000273  0.000269   \n",
       "3  0.000272  0.000284  0.000274  0.000275  0.000271  0.000271  0.000271   \n",
       "4  0.000272  0.000283  0.000275  0.000275  0.000273  0.000273  0.000271   \n",
       "\n",
       "         n7        n8        n9    ...        n5952     n5953     n5954  \\\n",
       "0  0.000168  0.000168  0.000168    ...     0.000168  0.000168  0.000168   \n",
       "1  0.000253  0.000279  0.000273    ...     0.000166  0.000166  0.000166   \n",
       "2  0.000259  0.000279  0.000276    ...     0.000162  0.000164  0.000164   \n",
       "3  0.000256  0.000282  0.000276    ...     0.000165  0.000165  0.000165   \n",
       "4  0.000259  0.000282  0.000277    ...     0.000163  0.000164  0.000164   \n",
       "\n",
       "      n5955     n5956     n5957     n5958     n5959     n5960     n5961  \n",
       "0  0.000168  0.000168  0.000168  0.000168  0.000168  0.000168  0.000168  \n",
       "1  0.000166  0.000166  0.000166  0.000166  0.000665  0.001701  0.000787  \n",
       "2  0.000164  0.000164  0.000164  0.000164  0.000648  0.001684  0.000733  \n",
       "3  0.000165  0.000165  0.000165  0.000165  0.000661  0.001696  0.000772  \n",
       "4  0.000164  0.000164  0.000164  0.000164  0.000652  0.001687  0.000741  \n",
       "\n",
       "[5 rows x 5962 columns]"
      ]
     },
     "execution_count": 96,
     "metadata": {},
     "output_type": "execute_result"
    }
   ],
   "source": [
    "X.head()"
   ]
  },
  {
   "cell_type": "code",
   "execution_count": 104,
   "metadata": {},
   "outputs": [],
   "source": [
    "relevant = [c for c in cols if X[c].values[-1] > .01]"
   ]
  },
  {
   "cell_type": "code",
   "execution_count": 105,
   "metadata": {},
   "outputs": [
    {
     "data": {
      "text/plain": [
       "5"
      ]
     },
     "execution_count": 105,
     "metadata": {},
     "output_type": "execute_result"
    }
   ],
   "source": [
    "len(relevant)"
   ]
  },
  {
   "cell_type": "code",
   "execution_count": 106,
   "metadata": {
    "scrolled": false
   },
   "outputs": [
    {
     "data": {
      "text/plain": [
       "<matplotlib.axes._subplots.AxesSubplot at 0x1523e1bb00>"
      ]
     },
     "execution_count": 106,
     "metadata": {},
     "output_type": "execute_result"
    },
    {
     "data": {
      "image/png": "[encoded data removed]",
      "text/plain": [
       "<matplotlib.figure.Figure at 0x1523c96780>"
      ]
     },
     "metadata": {},
     "output_type": "display_data"
    }
   ],
   "source": [
    "X[relevant].apply(np.log10).plot(figsize=(20,10))"
   ]
  },
  {
   "cell_type": "code",
   "execution_count": null,
   "metadata": {},
   "outputs": [],
   "source": [
    "X.apply(np.log10).plot(figsize=(20,10),legend=False)"
   ]
  },
  {
   "cell_type": "code",
   "execution_count": 103,
   "metadata": {},
   "outputs": [
    {
     "data": {
      "text/plain": [
       "(array([5.000e+00, 0.000e+00, 0.000e+00, 0.000e+00, 0.000e+00, 1.000e+00,\n",
       "        0.000e+00, 0.000e+00, 0.000e+00, 0.000e+00, 0.000e+00, 0.000e+00,\n",
       "        0.000e+00, 0.000e+00, 0.000e+00, 0.000e+00, 0.000e+00, 0.000e+00,\n",
       "        0.000e+00, 0.000e+00, 0.000e+00, 0.000e+00, 0.000e+00, 0.000e+00,\n",
       "        0.000e+00, 0.000e+00, 2.555e+03, 1.930e+02, 3.700e+01, 4.800e+01,\n",
       "        7.000e+00, 2.000e+00, 9.000e+00, 7.510e+02, 4.700e+01, 1.200e+01,\n",
       "        3.000e+00, 1.210e+02, 2.100e+01, 4.500e+01, 8.010e+02, 3.500e+01,\n",
       "        1.170e+02, 6.800e+01, 3.000e+00, 1.800e+01, 4.900e+01, 1.000e+01,\n",
       "        2.200e+01, 2.300e+01, 7.000e+00, 3.030e+02, 1.540e+02, 9.200e+01,\n",
       "        6.600e+01, 9.300e+01, 6.700e+01, 1.300e+01, 4.500e+01, 3.300e+01,\n",
       "        3.000e+01, 1.500e+01, 1.500e+01, 5.000e+00, 6.000e+00, 2.000e+00,\n",
       "        4.000e+00, 2.000e+00, 2.000e+00, 1.000e+00, 0.000e+00, 1.000e+00,\n",
       "        0.000e+00, 0.000e+00, 0.000e+00, 0.000e+00, 0.000e+00, 0.000e+00,\n",
       "        0.000e+00, 0.000e+00, 0.000e+00, 0.000e+00, 0.000e+00, 0.000e+00,\n",
       "        0.000e+00, 0.000e+00, 0.000e+00, 0.000e+00, 0.000e+00, 0.000e+00,\n",
       "        0.000e+00, 0.000e+00, 0.000e+00, 0.000e+00, 0.000e+00, 0.000e+00,\n",
       "        1.000e+00, 1.000e+00, 0.000e+00, 1.000e+00]),\n",
       " array([-3.43423724e+00, -3.31592880e+00, -3.19762036e+00, -3.07931193e+00,\n",
       "        -2.96100349e+00, -2.84269505e+00, -2.72438661e+00, -2.60607818e+00,\n",
       "        -2.48776974e+00, -2.36946130e+00, -2.25115287e+00, -2.13284443e+00,\n",
       "        -2.01453599e+00, -1.89622756e+00, -1.77791912e+00, -1.65961068e+00,\n",
       "        -1.54130225e+00, -1.42299381e+00, -1.30468537e+00, -1.18637693e+00,\n",
       "        -1.06806850e+00, -9.49760061e-01, -8.31451624e-01, -7.13143187e-01,\n",
       "        -5.94834750e-01, -4.76526313e-01, -3.58217876e-01, -2.39909439e-01,\n",
       "        -1.21601003e-01, -3.29256570e-03,  1.15015871e-01,  2.33324308e-01,\n",
       "         3.51632745e-01,  4.69941182e-01,  5.88249619e-01,  7.06558056e-01,\n",
       "         8.24866493e-01,  9.43174929e-01,  1.06148337e+00,  1.17979180e+00,\n",
       "         1.29810024e+00,  1.41640868e+00,  1.53471711e+00,  1.65302555e+00,\n",
       "         1.77133399e+00,  1.88964242e+00,  2.00795086e+00,  2.12625930e+00,\n",
       "         2.24456774e+00,  2.36287617e+00,  2.48118461e+00,  2.59949305e+00,\n",
       "         2.71780148e+00,  2.83610992e+00,  2.95441836e+00,  3.07272679e+00,\n",
       "         3.19103523e+00,  3.30934367e+00,  3.42765210e+00,  3.54596054e+00,\n",
       "         3.66426898e+00,  3.78257742e+00,  3.90088585e+00,  4.01919429e+00,\n",
       "         4.13750273e+00,  4.25581116e+00,  4.37411960e+00,  4.49242804e+00,\n",
       "         4.61073647e+00,  4.72904491e+00,  4.84735335e+00,  4.96566178e+00,\n",
       "         5.08397022e+00,  5.20227866e+00,  5.32058709e+00,  5.43889553e+00,\n",
       "         5.55720397e+00,  5.67551241e+00,  5.79382084e+00,  5.91212928e+00,\n",
       "         6.03043772e+00,  6.14874615e+00,  6.26705459e+00,  6.38536303e+00,\n",
       "         6.50367146e+00,  6.62197990e+00,  6.74028834e+00,  6.85859677e+00,\n",
       "         6.97690521e+00,  7.09521365e+00,  7.21352209e+00,  7.33183052e+00,\n",
       "         7.45013896e+00,  7.56844740e+00,  7.68675583e+00,  7.80506427e+00,\n",
       "         7.92337271e+00,  8.04168114e+00,  8.15998958e+00,  8.27829802e+00,\n",
       "         8.39660645e+00]),\n",
       " <a list of 100 Patch objects>)"
      ]
     },
     "execution_count": 103,
     "metadata": {},
     "output_type": "execute_result"
    },
    {
     "data": {
      "image/png": "[encoded data removed]",
      "text/plain": [
       "<matplotlib.figure.Figure at 0x1523c72a90>"
      ]
     },
     "metadata": {},
     "output_type": "display_data"
    }
   ],
   "source": [
    "plt.hist([np.log(x) for x in nx.get_node_attributes(G,'denominator').values()], bins=100)"
   ]
  },
  {
   "cell_type": "code",
   "execution_count": 40,
   "metadata": {},
   "outputs": [
    {
     "data": {
      "text/plain": [
       "(array([2.000e+00, 0.000e+00, 0.000e+00, 0.000e+00, 0.000e+00, 0.000e+00,\n",
       "        0.000e+00, 0.000e+00, 1.000e+00, 0.000e+00, 0.000e+00, 0.000e+00,\n",
       "        1.000e+00, 0.000e+00, 0.000e+00, 0.000e+00, 0.000e+00, 0.000e+00,\n",
       "        0.000e+00, 0.000e+00, 0.000e+00, 0.000e+00, 0.000e+00, 1.000e+00,\n",
       "        1.824e+03, 8.650e+02, 6.300e+01, 6.700e+01, 1.000e+01, 6.000e+00,\n",
       "        9.000e+00, 2.030e+02, 5.640e+02, 3.200e+01, 1.500e+01, 7.200e+01,\n",
       "        6.700e+01, 1.600e+01, 7.370e+02, 1.120e+02, 1.190e+02, 4.300e+01,\n",
       "        4.100e+01, 1.500e+01, 3.900e+01, 2.200e+01, 2.400e+01, 8.000e+00,\n",
       "        2.400e+01, 7.000e+00, 3.990e+02, 5.600e+01, 1.290e+02, 2.900e+01,\n",
       "        9.100e+01, 6.700e+01, 3.800e+01, 2.900e+01, 2.600e+01, 2.200e+01,\n",
       "        2.200e+01, 1.300e+01, 7.000e+00, 9.000e+00, 2.000e+00, 3.000e+00,\n",
       "        3.000e+00, 0.000e+00, 3.000e+00, 0.000e+00, 1.000e+00, 0.000e+00,\n",
       "        0.000e+00, 0.000e+00, 0.000e+00, 1.000e+00, 0.000e+00, 0.000e+00,\n",
       "        0.000e+00, 0.000e+00, 0.000e+00, 0.000e+00, 0.000e+00, 0.000e+00,\n",
       "        0.000e+00, 0.000e+00, 0.000e+00, 0.000e+00, 0.000e+00, 0.000e+00,\n",
       "        0.000e+00, 0.000e+00, 0.000e+00, 0.000e+00, 0.000e+00, 0.000e+00,\n",
       "        2.000e+00, 0.000e+00, 0.000e+00, 1.000e+00]),\n",
       " array([-12.67499185, -12.5594862 , -12.44398056, -12.32847492,\n",
       "        -12.21296927, -12.09746363, -11.98195798, -11.86645234,\n",
       "        -11.7509467 , -11.63544105, -11.51993541, -11.40442976,\n",
       "        -11.28892412, -11.17341848, -11.05791283, -10.94240719,\n",
       "        -10.82690154, -10.7113959 , -10.59589026, -10.48038461,\n",
       "        -10.36487897, -10.24937332, -10.13386768, -10.01836203,\n",
       "         -9.90285639,  -9.78735075,  -9.6718451 ,  -9.55633946,\n",
       "         -9.44083381,  -9.32532817,  -9.20982253,  -9.09431688,\n",
       "         -8.97881124,  -8.86330559,  -8.74779995,  -8.63229431,\n",
       "         -8.51678866,  -8.40128302,  -8.28577737,  -8.17027173,\n",
       "         -8.05476608,  -7.93926044,  -7.8237548 ,  -7.70824915,\n",
       "         -7.59274351,  -7.47723786,  -7.36173222,  -7.24622658,\n",
       "         -7.13072093,  -7.01521529,  -6.89970964,  -6.784204  ,\n",
       "         -6.66869836,  -6.55319271,  -6.43768707,  -6.32218142,\n",
       "         -6.20667578,  -6.09117014,  -5.97566449,  -5.86015885,\n",
       "         -5.7446532 ,  -5.62914756,  -5.51364191,  -5.39813627,\n",
       "         -5.28263063,  -5.16712498,  -5.05161934,  -4.93611369,\n",
       "         -4.82060805,  -4.70510241,  -4.58959676,  -4.47409112,\n",
       "         -4.35858547,  -4.24307983,  -4.12757419,  -4.01206854,\n",
       "         -3.8965629 ,  -3.78105725,  -3.66555161,  -3.55004597,\n",
       "         -3.43454032,  -3.31903468,  -3.20352903,  -3.08802339,\n",
       "         -2.97251774,  -2.8570121 ,  -2.74150646,  -2.62600081,\n",
       "         -2.51049517,  -2.39498952,  -2.27948388,  -2.16397824,\n",
       "         -2.04847259,  -1.93296695,  -1.8174613 ,  -1.70195566,\n",
       "         -1.58645002,  -1.47094437,  -1.35543873,  -1.23993308,\n",
       "         -1.12442744]),\n",
       " <a list of 100 Patch objects>)"
      ]
     },
     "execution_count": 40,
     "metadata": {},
     "output_type": "execute_result"
    },
    {
     "data": {
      "image/png": "[encoded data removed]",
      "text/plain": [
       "<matplotlib.figure.Figure at 0x1520bb4128>"
      ]
     },
     "metadata": {},
     "output_type": "display_data"
    }
   ],
   "source": [
    "plt.hist([np.log(x) for x in nx.get_node_attributes(G,'score').values()], bins=100)"
   ]
  },
  {
   "cell_type": "code",
   "execution_count": 41,
   "metadata": {},
   "outputs": [],
   "source": [
    "for n in G.nodes:\n",
    "    G.nodes[n]['pagerank'] = graph.nodes[n]['score']"
   ]
  },
  {
   "cell_type": "code",
   "execution_count": 65,
   "metadata": {},
   "outputs": [],
   "source": [
    "log_avg_pr_by_node_type = {}\n",
    "avg_pr_by_node_type={}\n",
    "for nt in node_types:\n",
    "    sg = nx.subgraph(G, bunches[nt])\n",
    "    prs = nx.get_node_attributes(sg,'pagerank')\n",
    "    prs_val = np.fromiter(prs.values(), dtype=float)\n",
    "    avg_pr_by_node_type[nt]= np.mean(prs_val)\n",
    "    log_avg_pr_by_node_type[nt] = np.log10(np.mean(prs_val))\n",
    "    "
   ]
  },
  {
   "cell_type": "code",
   "execution_count": 66,
   "metadata": {},
   "outputs": [
    {
     "data": {
      "text/plain": [
       "{'COMMENT': -4.14775280078342,\n",
       " 'COMMIT': -3.5460480163893338,\n",
       " 'ISSUE': -3.07753446481097,\n",
       " 'PULL': -2.7938284219055487,\n",
       " 'REPO': -0.7879335988026354,\n",
       " 'REVIEW': -3.925993965849672,\n",
       " 'USERLIKE': -1.8741519752811968}"
      ]
     },
     "execution_count": 66,
     "metadata": {},
     "output_type": "execute_result"
    }
   ],
   "source": [
    "log_avg_pr_by_node_type"
   ]
  },
  {
   "cell_type": "code",
   "execution_count": null,
   "metadata": {},
   "outputs": [],
   "source": []
  }
 ],
 "metadata": {
  "kernelspec": {
   "display_name": "Python 3",
   "language": "python",
   "name": "python3"
  },
  "language_info": {
   "codemirror_mode": {
    "name": "ipython",
    "version": 3
   },
   "file_extension": ".py",
   "mimetype": "text/x-python",
   "name": "python",
   "nbconvert_exporter": "python",
   "pygments_lexer": "ipython3",
   "version": "3.6.8"
  }
 },
 "nbformat": 4,
 "nbformat_minor": 2
}
