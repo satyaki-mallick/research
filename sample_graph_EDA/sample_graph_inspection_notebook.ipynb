{
 "cells": [
  {
   "cell_type": "code",
   "execution_count": 1,
   "metadata": {},
   "outputs": [],
   "source": [
    "import json\n",
    "import os\n",
    "import pandas as pd\n",
    "import networkx as nx\n",
    "\n",
    "import numpy as np\n",
    "import matplotlib as mpl\n",
    "import matplotlib.pyplot as plt\n",
    "from collections import Counter\n",
    "\n",
    "\n",
    "%matplotlib inline"
   ]
  },
  {
   "cell_type": "code",
   "execution_count": 2,
   "metadata": {},
   "outputs": [],
   "source": [
    "cwd = os.getcwd()\n",
    "\n",
    "rel_path = \"sample_graphs/sourcecred_sourcecred.json\"\n",
    "abs_file_path = os.path.abspath(os.path.join(cwd, '..', rel_path))\n",
    "\n",
    "with open(abs_file_path) as json_file:  \n",
    "    data = json.load(json_file)"
   ]
  },
  {
   "cell_type": "code",
   "execution_count": 3,
   "metadata": {},
   "outputs": [
    {
     "data": {
      "text/plain": [
       "5932"
      ]
     },
     "execution_count": 3,
     "metadata": {},
     "output_type": "execute_result"
    }
   ],
   "source": [
    "len(data[1][\"nodes\"])"
   ]
  },
  {
   "cell_type": "code",
   "execution_count": 4,
   "metadata": {},
   "outputs": [],
   "source": [
    "def jsonToMultiDiGraph(json):\n",
    "    [compat, data] = json\n",
    "    assert compat[\"type\"] == \"sourcecred/graph\"\n",
    "    assert compat[\"version\"] == \"0.4.0\"\n",
    "    \n",
    "    def propertyDict(address):\n",
    "        # Note: This code \"happens to work\" for the sourcecred/git and sourcecred/github\n",
    "        # plugins. However, it is not a requirement that e.g. the third element of the address\n",
    "        # is a type, so this code should not be used in production or with general user-provided\n",
    "        # plugins\n",
    "        plugin = address[1]\n",
    "        type = address[2]\n",
    "        return {\"address\": tuple(address), \"plugin\": plugin, \"type\": type}\n",
    "\n",
    "    \n",
    "    nodes = data[\"nodes\"]\n",
    "    edges = data[\"edges\"]\n",
    "    g = nx.MultiDiGraph()\n",
    "    for (i, n) in enumerate(nodes):\n",
    "        g.add_node(i, **propertyDict(n))\n",
    "    for e in edges:\n",
    "        g.add_edge(e[\"srcIndex\"], e[\"dstIndex\"], **propertyDict(e[\"address\"]))\n",
    "    return g"
   ]
  },
  {
   "cell_type": "code",
   "execution_count": 5,
   "metadata": {},
   "outputs": [],
   "source": [
    "G = jsonToMultiDiGraph(data)"
   ]
  },
  {
   "cell_type": "code",
   "execution_count": null,
   "metadata": {},
   "outputs": [],
   "source": []
  },
  {
   "cell_type": "markdown",
   "metadata": {},
   "source": [
    "I think it would make sense to try to structure the data in one of these formats. What you have alread isn't that far from the first one in the link below.\n",
    "\n",
    "https://networkx.github.io/documentation/stable/reference/readwrite/json_graph.html\n",
    "\n",
    "the fact is we'll probably want to be doing both graph generators and graph analysis with networkX \n",
    "\n",
    "https://networkx.github.io/documentation/stable/_downloads/networkx_reference.pdf\n",
    "\n",
    "so it would make it a lot smoother to move between reality and R&D if the data formats matched."
   ]
  },
  {
   "cell_type": "code",
   "execution_count": 6,
   "metadata": {
    "scrolled": false
   },
   "outputs": [
    {
     "data": {
      "image/png": "[encoded data removed]",
      "text/plain": [
       "<Figure size 432x288 with 1 Axes>"
      ]
     },
     "metadata": {
      "needs_background": "light"
     },
     "output_type": "display_data"
    }
   ],
   "source": [
    "def nodeDegreeHistogram():\n",
    "    h = nx.degree_histogram(G)\n",
    "    plt.hist(h)\n",
    "    plt.yscale('log')\n",
    "    plt.suptitle(\"Nodes by degree\")\n",
    "    plt.show()\n",
    "nodeDegreeHistogram()"
   ]
  },
  {
   "cell_type": "code",
   "execution_count": 7,
   "metadata": {},
   "outputs": [
    {
     "data": {
      "image/png": "[encoded data removed]",
      "text/plain": [
       "<Figure size 864x216 with 1 Axes>"
      ]
     },
     "metadata": {
      "needs_background": "light"
     },
     "output_type": "display_data"
    }
   ],
   "source": [
    "def nodeCountBarChart():\n",
    "    node_count = Counter()\n",
    "    for n in G.nodes(data=True):\n",
    "        node_count[n[1][\"type\"]] += 1\n",
    "\n",
    "    (fig, ax) = plt.subplots(figsize=(12,3))\n",
    "    ax.bar(node_count.keys(), node_count.values())\n",
    "    fig.suptitle('Node count by node type')\n",
    "    plt.show()\n",
    "nodeCountBarChart()"
   ]
  },
  {
   "cell_type": "code",
   "execution_count": 8,
   "metadata": {
    "scrolled": true
   },
   "outputs": [
    {
     "data": {
      "image/png": "[encoded data removed]",
      "text/plain": [
       "<Figure size 864x216 with 1 Axes>"
      ]
     },
     "metadata": {
      "needs_background": "light"
     },
     "output_type": "display_data"
    }
   ],
   "source": [
    "def edgeCountBarChart():\n",
    "    edge_count = Counter()\n",
    "    for e in G.edges(data=True):\n",
    "        edge_count[e[2][\"type\"]] += 1\n",
    "\n",
    "    (fig, ax) = plt.subplots(figsize=(12,3))\n",
    "    ax.bar(edge_count.keys(), edge_count.values())\n",
    "    fig.suptitle('Edge count by edge type')\n",
    "    plt.show()\n",
    "    \n",
    "edgeCountBarChart()"
   ]
  },
  {
   "cell_type": "code",
   "execution_count": 9,
   "metadata": {},
   "outputs": [
    {
     "data": {
      "text/plain": [
       "15588"
      ]
     },
     "execution_count": 9,
     "metadata": {},
     "output_type": "execute_result"
    }
   ],
   "source": [
    "len(G.edges(data=True))"
   ]
  },
  {
   "cell_type": "code",
   "execution_count": 10,
   "metadata": {},
   "outputs": [
    {
     "data": {
      "image/png": "[encoded data removed]",
      "text/plain": [
       "<Figure size 864x216 with 1 Axes>"
      ]
     },
     "metadata": {
      "needs_background": "light"
     },
     "output_type": "display_data"
    }
   ],
   "source": [
    "def nodeDegreeByTypeChart():\n",
    "    type_count = Counter()\n",
    "    node_type_degree = Counter()\n",
    "    for n in G.nodes(data=True):\n",
    "        type = n[1][\"type\"]\n",
    "        type_count[type] += 1\n",
    "        node_type_degree[type] += G.degree(n[0])\n",
    "    \n",
    "    average_degree = {}\n",
    "    for type in type_count.keys():\n",
    "        average_degree[type] = node_type_degree[type] / type_count[type]\n",
    "    \n",
    "    (fig, ax) = plt.subplots(figsize=(12,3))\n",
    "    ax.bar(average_degree.keys(), average_degree.values())\n",
    "    ax.set_yscale(\"log\")\n",
    "    fig.suptitle('Average degree by node type (log scaled)')\n",
    "    plt.show()\n",
    "nodeDegreeByTypeChart()"
   ]
  },
  {
   "cell_type": "code",
   "execution_count": 11,
   "metadata": {},
   "outputs": [],
   "source": [
    "#drawing here is pretty lame without more attention to layout but you solve for you own positions\n",
    "#this is a hybrid of random and circular because the simple algs were trivially useless\n",
    "#and the complex algorithms couldn't compute in reasonable time\n",
    "\n",
    "deg = dict(nx.degree(G))\n",
    "N = len(G.nodes)\n",
    "\n",
    "\n",
    "\n",
    "r1 = 1\n",
    "t1 = 10\n",
    "r2 = 400\n",
    "t2 = 20\n",
    "r3 = 1000\n",
    "\n",
    "def get_pos(r, n, rv=True):\n",
    "    if rv:\n",
    "        rvx = np.random.rand()\n",
    "        rvy = np.random.rand()\n",
    "    else:\n",
    "        rvx = 1\n",
    "        rvy = 1\n",
    "    \n",
    "    return np.array([r*rvx*np.cos(2*np.pi*n/N) , r*rvy*np.sin(2*np.pi*n/N) ])\n",
    "\n",
    "pos = {}\n",
    "for n in G.nodes:\n",
    "    if deg[n]<t1:\n",
    "        pos[n] = get_pos(r1, n)\n",
    "    elif deg[n]<t2:\n",
    "        pos[n] = get_pos(r2, n)\n",
    "    else :\n",
    "        pos[n] = get_pos(r3, n)\n",
    "\n",
    "#squelched to save runtime but not deleting,\n",
    "#still referencing the above while working on plotting\n",
    "#nx.draw(G, pos)"
   ]
  },
  {
   "cell_type": "markdown",
   "metadata": {},
   "source": [
    "Nothing particularly interesting until we get the Graph objects \"G\" correctly labeled with all the meta data so we can use the more fun features of networkX.\n",
    "\n",
    "Ongoing work below"
   ]
  },
  {
   "cell_type": "code",
   "execution_count": 12,
   "metadata": {},
   "outputs": [
    {
     "data": {
      "text/plain": [
       "{'address': ('sourcecred',\n",
       "  'git',\n",
       "  'COMMIT',\n",
       "  '007cf88172d7ea9b0cdada78f124f7a41b811b30'),\n",
       " 'plugin': 'git',\n",
       " 'type': 'COMMIT'}"
      ]
     },
     "execution_count": 12,
     "metadata": {},
     "output_type": "execute_result"
    }
   ],
   "source": [
    "#this is stored in a relatively intuitive way\n",
    "#though I see some redundancy between the top level field\n",
    "#I assuming we'll put anything we need for analysis as a top level field\n",
    "\n",
    "G.nodes(data=True)[0]"
   ]
  },
  {
   "cell_type": "code",
   "execution_count": 13,
   "metadata": {},
   "outputs": [],
   "source": [
    "#inspection helper function\n",
    "def getNodeAttributeUniques(g, attr):\n",
    "    print(type(attr))\n",
    "    return set(nx.get_node_attributes(g,attr).values())"
   ]
  },
  {
   "cell_type": "code",
   "execution_count": 14,
   "metadata": {},
   "outputs": [
    {
     "name": "stdout",
     "output_type": "stream",
     "text": [
      "{'REVIEW', 'USERLIKE', 'COMMIT', 'ISSUE', 'REPO', 'COMMENT', 'PULL'}\n"
     ]
    }
   ],
   "source": [
    "node_types = set(nx.get_node_attributes(G,'type').values())\n",
    "node_sources = set(nx.get_node_attributes(G,'plugin').values())\n",
    "\n",
    "print(node_types)\n",
    "cmap = plt.cm.jet\n",
    "Nc = cmap.N\n",
    "Nt = len(node_types)\n",
    "dN = int(Nc/Nt)\n",
    "cmaplist = [cmap(i*dN) for i in range(Nt)]"
   ]
  },
  {
   "cell_type": "code",
   "execution_count": 15,
   "metadata": {},
   "outputs": [
    {
     "name": "stdout",
     "output_type": "stream",
     "text": [
      "<class 'str'>\n"
     ]
    },
    {
     "data": {
      "text/plain": [
       "{'git', 'github'}"
      ]
     },
     "execution_count": 15,
     "metadata": {},
     "output_type": "execute_result"
    }
   ],
   "source": [
    "getNodeAttributeUniques(G, 'plugin')"
   ]
  },
  {
   "cell_type": "code",
   "execution_count": 16,
   "metadata": {},
   "outputs": [
    {
     "name": "stdout",
     "output_type": "stream",
     "text": [
      "plugin\n",
      "<class 'str'>\n",
      "{'git', 'github'}\n",
      "type\n",
      "<class 'str'>\n",
      "{'REVIEW', 'USERLIKE', 'COMMIT', 'ISSUE', 'REPO', 'COMMENT', 'PULL'}\n"
     ]
    }
   ],
   "source": [
    "for k in ['plugin', 'type']:\n",
    "    print(k)\n",
    "    print(getNodeAttributeUniques(G, k))"
   ]
  },
  {
   "cell_type": "code",
   "execution_count": null,
   "metadata": {},
   "outputs": [],
   "source": []
  },
  {
   "cell_type": "code",
   "execution_count": 38,
   "metadata": {},
   "outputs": [],
   "source": [
    "#fair warning\n",
    "#this is not a very efficient implementaiton\n",
    "#took a few passes to get it working\n",
    "\n",
    "colors = {}\n",
    "bunches = {}\n",
    "\n",
    "counter = 0\n",
    "for nt in node_types:\n",
    "    bunches[nt] = [x for x,y in G.nodes(data=True) if y['type']==nt]\n",
    "    colors[nt]  = cmaplist[counter]\n",
    "    counter = counter + 1    \n",
    "    \n",
    "node_color = {}\n",
    "for x,y in G.nodes(data=True):\n",
    "    G.nodes[x]['color'] = colors[y['type']]\n",
    "    if (y['type']==\"REPO\") or (y['type']==\"USERLIKE\"):\n",
    "        G.nodes[x]['label']= y['address'][4]\n",
    "    else :\n",
    "        G.nodes[x]['label']=y['type']\n",
    "    \n",
    "\n",
    "\n",
    "markers = [\".\",\",\",\"o\",\"v\",\"^\",\"<\",\">\",\"1\",\"2\",\"3\",\"4\",\"8\",\"s\",\"p\",\"P\",\"*\",\"h\",\"H\",\"+\",\"x\",\"X\",\"D\",\"d\"]\n",
    "\n",
    "node_shape = {}\n",
    "shapes= {}\n",
    "\n",
    "counter = 0\n",
    "for ns in node_sources:\n",
    "    bunches[ns] = [x for x,y in G.nodes(data=True) if y['plugin']==ns]\n",
    "    shapes[ns]  = markers[counter]\n",
    "    counter = counter+1\n",
    "\n",
    "for x,y in G.nodes(data=True):\n",
    "    G.nodes[x]['shape'] = shapes[y['plugin']]"
   ]
  },
  {
   "cell_type": "code",
   "execution_count": null,
   "metadata": {},
   "outputs": [],
   "source": [
    "\n",
    "    "
   ]
  },
  {
   "cell_type": "code",
   "execution_count": 18,
   "metadata": {},
   "outputs": [
    {
     "data": {
      "text/plain": [
       "{'address': ('sourcecred',\n",
       "  'git',\n",
       "  'COMMIT',\n",
       "  '007cf88172d7ea9b0cdada78f124f7a41b811b30'),\n",
       " 'plugin': 'git',\n",
       " 'type': 'COMMIT',\n",
       " 'color': (0.0, 0.6294117647058823, 1.0, 1.0),\n",
       " 'shape': '.'}"
      ]
     },
     "execution_count": 18,
     "metadata": {},
     "output_type": "execute_result"
    }
   ],
   "source": [
    "G.nodes[0]"
   ]
  },
  {
   "cell_type": "code",
   "execution_count": 19,
   "metadata": {},
   "outputs": [
    {
     "data": {
      "text/plain": [
       "{'address': ('sourcecred',\n",
       "  'github',\n",
       "  'COMMENT',\n",
       "  'ISSUE',\n",
       "  'sourcecred',\n",
       "  'sourcecred',\n",
       "  '190',\n",
       "  '391216103'),\n",
       " 'plugin': 'github',\n",
       " 'type': 'COMMENT',\n",
       " 'color': (1.0, 0.7559912854030507, 0.0, 1.0),\n",
       " 'shape': ','}"
      ]
     },
     "execution_count": 19,
     "metadata": {},
     "output_type": "execute_result"
    }
   ],
   "source": [
    "G.nodes[1000]"
   ]
  },
  {
   "cell_type": "code",
   "execution_count": 20,
   "metadata": {},
   "outputs": [
    {
     "data": {
      "text/plain": [
       "(0.0, 0.6294117647058823, 1.0, 1.0)"
      ]
     },
     "execution_count": 20,
     "metadata": {},
     "output_type": "execute_result"
    }
   ],
   "source": [
    "nx.get_node_attributes(G, 'color')[0]"
   ]
  },
  {
   "cell_type": "code",
   "execution_count": 85,
   "metadata": {},
   "outputs": [],
   "source": [
    "def inspectSubGraph(g, seed, expand=True, verbose=False, label=True,pos = \"kk\"):\n",
    "    \n",
    "    nbunch = seed\n",
    "    if expand:\n",
    "        for s in seed:\n",
    "            nbunch = list(nx.all_neighbors(g,s))+nbunch\n",
    "            \n",
    "    #print(nbunch)\n",
    "    sg = nx.subgraph(g,set(nbunch))\n",
    "    sgc = np.array(list(nx.get_node_attributes(sg,'color').values()))\n",
    "    #sgs = nx.get_node_attributes(sg,'shape')\n",
    "    #print(sgc)\n",
    "    #nx.draw_kamada_kawai(sg, node_color =sgc, node_shape=sgs , alpha=.5)\n",
    "    \n",
    "    if verbose:\n",
    "        print(\"nodes\")\n",
    "        for n in sg.nodes:\n",
    "            print(n)\n",
    "            print(sg.nodes[n])\n",
    "        \n",
    "        print(\"\")\n",
    "        print(\"edges\")\n",
    "        for e in sg.edges:\n",
    "            print(e)\n",
    "            print(sg.edges[e])\n",
    "    \n",
    "    labels = None\n",
    "    if label:\n",
    "        labels = nx.get_node_attributes(sg, 'label')\n",
    "        \n",
    "    if pos == \"kk\":\n",
    "        nx.draw_kamada_kawai(sg, node_color =sgc, node_shape = '.',alpha=.5, labels=labels, font_size=8)\n",
    "    elif pos ==\"spring\":\n",
    "        nx.draw_spring(sg, node_color =sgc, node_shape = '.',alpha=.5, labels=labels, font_size=8)\n",
    "    elif pos == \"spectral\":\n",
    "        nx.draw_spectral(sg, node_color =sgc, node_shape = '.',alpha=.5, labels=labels, font_size=8)\n",
    "    else:\n",
    "        nx.draw_circular(sg, node_color =sgc, node_shape = '.',alpha=.5, labels=labels, font_size=8)"
   ]
  },
  {
   "cell_type": "markdown",
   "metadata": {},
   "source": [
    "further research shows that in order to dynamically determine shape from attributes i need to plot subsets of nodes at a time. this means I am going to need to break apart the substeps in the helper function above and solve the node positions, the node colors, and the node shapes as seperate helper functions, then put them back together to get an inspectSubGraph function that really works as intended.\n",
    "\n",
    "it will also make sense to add labels and legends to make this more interpretable"
   ]
  },
  {
   "cell_type": "code",
   "execution_count": 40,
   "metadata": {},
   "outputs": [
    {
     "data": {
      "text/plain": [
       "[4292, 505]"
      ]
     },
     "execution_count": 40,
     "metadata": {},
     "output_type": "execute_result"
    }
   ],
   "source": [
    "list(G.neighbors(4291))"
   ]
  },
  {
   "cell_type": "code",
   "execution_count": 45,
   "metadata": {},
   "outputs": [
    {
     "name": "stdout",
     "output_type": "stream",
     "text": [
      "nodes\n",
      "4291\n",
      "{'address': ('sourcecred', 'github', 'PULL', 'sourcecred', 'sourcecred', '999'), 'plugin': 'github', 'type': 'PULL', 'color': (1.0, 0.2331154684095862, 0.0, 1.0), 'shape': ',', 'label': 'PULL'}\n",
      "4292\n",
      "{'address': ('sourcecred', 'github', 'REPO', 'sourcecred', 'sourcecred'), 'plugin': 'github', 'type': 'REPO', 'color': (0.6925996204933585, 1.0, 0.27514231499051234, 1.0), 'shape': ',', 'label': 'sourcecred'}\n",
      "5930\n",
      "{'address': ('sourcecred', 'github', 'USERLIKE', 'USER', 'wchargin'), 'plugin': 'github', 'type': 'USERLIKE', 'color': (0.0, 0.06470588235294118, 1.0, 1.0), 'shape': ',', 'label': 'wchargin'}\n",
      "5898\n",
      "{'address': ('sourcecred', 'github', 'REVIEW', 'sourcecred', 'sourcecred', '999', '173104259'), 'plugin': 'github', 'type': 'REVIEW', 'color': (0.0, 0.0, 0.5, 1.0), 'shape': ',', 'label': 'REVIEW'}\n",
      "505\n",
      "{'address': ('sourcecred', 'git', 'COMMIT', '897ba78d5c85e254a092006fd390e023f8e5487a'), 'plugin': 'git', 'type': 'COMMIT', 'color': (0.0, 0.6294117647058823, 1.0, 1.0), 'shape': '.', 'label': 'COMMIT'}\n",
      "957\n",
      "{'address': ('sourcecred', 'github', 'COMMENT', 'ISSUE', 'sourcecred', 'sourcecred', '1066', '456293533'), 'plugin': 'github', 'type': 'COMMENT', 'color': (1.0, 0.7559912854030507, 0.0, 1.0), 'shape': ',', 'label': 'COMMENT'}\n",
      "\n",
      "edges\n",
      "(4291, 4292, 0)\n",
      "{'address': ('sourcecred', 'github', 'HAS_PARENT', '6', 'sourcecred', 'github', 'PULL', 'sourcecred', 'sourcecred', '999'), 'plugin': 'github', 'type': 'HAS_PARENT'}\n",
      "(4291, 505, 0)\n",
      "{'address': ('sourcecred', 'github', 'MERGED_AS', '6', 'sourcecred', 'github', 'PULL', 'sourcecred', 'sourcecred', '999'), 'plugin': 'github', 'type': 'MERGED_AS'}\n",
      "(5930, 4291, 0)\n",
      "{'address': ('sourcecred', 'github', 'AUTHORS', '5', 'sourcecred', 'github', 'USERLIKE', 'USER', 'wchargin', '6', 'sourcecred', 'github', 'PULL', 'sourcecred', 'sourcecred', '999'), 'plugin': 'github', 'type': 'AUTHORS'}\n",
      "(5930, 505, 0)\n",
      "{'address': ('sourcecred', 'github', 'AUTHORS', '5', 'sourcecred', 'github', 'USERLIKE', 'USER', 'wchargin', '4', 'sourcecred', 'git', 'COMMIT', '897ba78d5c85e254a092006fd390e023f8e5487a'), 'plugin': 'github', 'type': 'AUTHORS'}\n",
      "(5930, 957, 0)\n",
      "{'address': ('sourcecred', 'github', 'AUTHORS', '5', 'sourcecred', 'github', 'USERLIKE', 'USER', 'wchargin', '8', 'sourcecred', 'github', 'COMMENT', 'ISSUE', 'sourcecred', 'sourcecred', '1066', '456293533'), 'plugin': 'github', 'type': 'AUTHORS'}\n",
      "(5898, 4291, 0)\n",
      "{'address': ('sourcecred', 'github', 'HAS_PARENT', '7', 'sourcecred', 'github', 'REVIEW', 'sourcecred', 'sourcecred', '999', '173104259'), 'plugin': 'github', 'type': 'HAS_PARENT'}\n",
      "(505, 4291, 0)\n",
      "{'address': ('sourcecred', 'github', 'REFERENCES', '4', 'sourcecred', 'git', 'COMMIT', '897ba78d5c85e254a092006fd390e023f8e5487a', '6', 'sourcecred', 'github', 'PULL', 'sourcecred', 'sourcecred', '999'), 'plugin': 'github', 'type': 'REFERENCES'}\n",
      "(957, 4291, 0)\n",
      "{'address': ('sourcecred', 'github', 'REFERENCES', '8', 'sourcecred', 'github', 'COMMENT', 'ISSUE', 'sourcecred', 'sourcecred', '1066', '456293533', '6', 'sourcecred', 'github', 'PULL', 'sourcecred', 'sourcecred', '999'), 'plugin': 'github', 'type': 'REFERENCES'}\n"
     ]
    },
    {
     "data": {
      "image/png": "[encoded data removed]",
      "text/plain": [
       "<Figure size 432x288 with 1 Axes>"
      ]
     },
     "metadata": {},
     "output_type": "display_data"
    }
   ],
   "source": [
    "inspectSubGraph(G, [4291], verbose=True)"
   ]
  },
  {
   "cell_type": "code",
   "execution_count": 67,
   "metadata": {},
   "outputs": [
    {
     "data": {
      "image/png": "[encoded data removed]",
      "text/plain": [
       "<Figure size 432x288 with 1 Axes>"
      ]
     },
     "metadata": {},
     "output_type": "display_data"
    }
   ],
   "source": [
    "inspectSubGraph(G, [4291, 5898, 957, 505], verbose=False, pos=\"kk\")"
   ]
  },
  {
   "cell_type": "code",
   "execution_count": 68,
   "metadata": {},
   "outputs": [],
   "source": [
    "#inspectSubGraph(G, bunches[\"USERLIKE\"])"
   ]
  },
  {
   "cell_type": "code",
   "execution_count": 70,
   "metadata": {},
   "outputs": [
    {
     "name": "stdout",
     "output_type": "stream",
     "text": [
      "000drax\n",
      "AChildAtPlay\n",
      "BrianLitwin\n",
      "DeepAndy\n",
      "Dim25\n",
      "Recmo\n",
      "ajbouh\n",
      "anthrocypher\n",
      "ashwaniYDV\n",
      "asood123\n",
      "bzz\n",
      "campoy\n",
      "chriscool\n",
      "claireandcode\n",
      "decentralion\n",
      "devonzuegel\n",
      "dfield\n",
      "expravit\n",
      "hamidzr\n",
      "ianjdarrow\n",
      "jart\n",
      "lanzafame\n",
      "lpatmo\n",
      "mikeal\n",
      "mkosowsk\n",
      "nayafia\n",
      "owocki\n",
      "sethtroisi\n",
      "sgrove\n",
      "victorb\n",
      "vmarkovtsev\n",
      "wchargin\n",
      "wpank\n"
     ]
    }
   ],
   "source": [
    "users = [G.nodes[n]['address'][4] for n in bunches[\"USERLIKE\"]]\n",
    "for u in users:\n",
    "    print(u)"
   ]
  },
  {
   "cell_type": "code",
   "execution_count": 25,
   "metadata": {},
   "outputs": [],
   "source": [
    "#inspectSubGraph(G, bunches[\"ISSUE\"])"
   ]
  },
  {
   "cell_type": "code",
   "execution_count": 26,
   "metadata": {},
   "outputs": [
    {
     "data": {
      "text/plain": [
       "('sourcecred',\n",
       " 'git',\n",
       " 'HAS_PARENT',\n",
       " '2',\n",
       " 'COMMIT',\n",
       " '007cf88172d7ea9b0cdada78f124f7a41b811b30',\n",
       " '2',\n",
       " 'COMMIT',\n",
       " 'd310561b9473ecaa0e22da3dac089ab61df2f723')"
      ]
     },
     "execution_count": 26,
     "metadata": {},
     "output_type": "execute_result"
    }
   ],
   "source": [
    "#inspecting edges: this is harder to parse; the keys are tuples\n",
    "nx.get_edge_attributes(G, 'address')[(0, 736, 0)]"
   ]
  },
  {
   "cell_type": "code",
   "execution_count": 27,
   "metadata": {},
   "outputs": [
    {
     "data": {
      "text/plain": [
       "'HAS_PARENT'"
      ]
     },
     "execution_count": 27,
     "metadata": {},
     "output_type": "execute_result"
    }
   ],
   "source": [
    "nx.get_edge_attributes(G, 'type')[(0, 736, 0)]"
   ]
  },
  {
   "cell_type": "code",
   "execution_count": 28,
   "metadata": {},
   "outputs": [
    {
     "data": {
      "text/plain": [
       "'git'"
      ]
     },
     "execution_count": 28,
     "metadata": {},
     "output_type": "execute_result"
    }
   ],
   "source": [
    "nx.get_edge_attributes(G, 'plugin')[(0, 736, 0)]"
   ]
  },
  {
   "cell_type": "code",
   "execution_count": 29,
   "metadata": {},
   "outputs": [
    {
     "data": {
      "text/plain": [
       "{'address': ('sourcecred',\n",
       "  'git',\n",
       "  'HAS_PARENT',\n",
       "  '2',\n",
       "  'COMMIT',\n",
       "  '007cf88172d7ea9b0cdada78f124f7a41b811b30',\n",
       "  '2',\n",
       "  'COMMIT',\n",
       "  'd310561b9473ecaa0e22da3dac089ab61df2f723'),\n",
       " 'plugin': 'git',\n",
       " 'type': 'HAS_PARENT'}"
      ]
     },
     "execution_count": 29,
     "metadata": {},
     "output_type": "execute_result"
    }
   ],
   "source": [
    "G.edges[(0, 736, 0)]"
   ]
  },
  {
   "cell_type": "code",
   "execution_count": 30,
   "metadata": {},
   "outputs": [
    {
     "data": {
      "text/plain": [
       "{'srcIndex': 0,\n",
       " 'dstIndex': 736,\n",
       " 'address': ['sourcecred',\n",
       "  'git',\n",
       "  'HAS_PARENT',\n",
       "  '2',\n",
       "  'COMMIT',\n",
       "  '007cf88172d7ea9b0cdada78f124f7a41b811b30',\n",
       "  '2',\n",
       "  'COMMIT',\n",
       "  'd310561b9473ecaa0e22da3dac089ab61df2f723']}"
      ]
     },
     "execution_count": 30,
     "metadata": {},
     "output_type": "execute_result"
    }
   ],
   "source": [
    "data[1]['edges'][0]"
   ]
  },
  {
   "cell_type": "code",
   "execution_count": 31,
   "metadata": {},
   "outputs": [],
   "source": [
    "q = [k for k in G.edges.keys() if k[2]==1 ]"
   ]
  },
  {
   "cell_type": "code",
   "execution_count": 32,
   "metadata": {},
   "outputs": [
    {
     "data": {
      "text/plain": [
       "[(391, 121, 1),\n",
       " (648, 154, 1),\n",
       " (910, 3190, 1),\n",
       " (934, 3203, 1),\n",
       " (941, 3204, 1),\n",
       " (945, 3204, 1),\n",
       " (987, 3220, 1),\n",
       " (1035, 3243, 1),\n",
       " (1049, 3245, 1),\n",
       " (1072, 3259, 1),\n",
       " (1073, 3259, 1),\n",
       " (1085, 3262, 1),\n",
       " (1100, 3270, 1),\n",
       " (1107, 3276, 1),\n",
       " (1169, 3300, 1),\n",
       " (1180, 3306, 1),\n",
       " (1206, 3321, 1),\n",
       " (1220, 3337, 1),\n",
       " (1257, 3365, 1),\n",
       " (1264, 3365, 1),\n",
       " (1265, 3365, 1),\n",
       " (1321, 3393, 1),\n",
       " (1326, 3395, 1),\n",
       " (1344, 3405, 1),\n",
       " (1368, 3415, 1),\n",
       " (1369, 3415, 1),\n",
       " (1391, 3440, 1),\n",
       " (1393, 3440, 1),\n",
       " (1394, 3440, 1),\n",
       " (1544, 3759, 1),\n",
       " (1567, 3833, 1),\n",
       " (1609, 3933, 1),\n",
       " (1757, 4246, 1),\n",
       " (1762, 4271, 1),\n",
       " (5913, 3820, 1),\n",
       " (5913, 4238, 1),\n",
       " (5930, 3204, 1)]"
      ]
     },
     "execution_count": 32,
     "metadata": {},
     "output_type": "execute_result"
    }
   ],
   "source": [
    "q"
   ]
  },
  {
   "cell_type": "markdown",
   "metadata": {},
   "source": [
    "Inspection above is exploring why the edge keys are 3 values not simply 2 where the values represent the source and destination nodes, as far as we can tell the third element is an index which allows us to encode successive links between the same source and destination. The relatively small number of edges with the 3rd index equals 1, indicates such duplication is rare, and in the current graph ther are no edges with third index values greater than 1."
   ]
  },
  {
   "cell_type": "code",
   "execution_count": 33,
   "metadata": {},
   "outputs": [
    {
     "name": "stdout",
     "output_type": "stream",
     "text": [
      "[]\n"
     ]
    }
   ],
   "source": [
    "print([k for k in G.edges.keys() if k[2]>1 ])"
   ]
  },
  {
   "cell_type": "code",
   "execution_count": 72,
   "metadata": {},
   "outputs": [
    {
     "name": "stdout",
     "output_type": "stream",
     "text": [
      "nodes\n",
      "121\n",
      "{'address': ('sourcecred', 'git', 'COMMIT', '1e78437f7130fef43fc15d5978aa8f3b6b55e683'), 'plugin': 'git', 'type': 'COMMIT', 'color': (0.0, 0.6294117647058823, 1.0, 1.0), 'shape': '.', 'label': 'COMMIT'}\n",
      "260\n",
      "{'address': ('sourcecred', 'git', 'COMMIT', '466d33e4e67bbab9258841db31aca642bbd0c790'), 'plugin': 'git', 'type': 'COMMIT', 'color': (0.0, 0.6294117647058823, 1.0, 1.0), 'shape': '.', 'label': 'COMMIT'}\n",
      "391\n",
      "{'address': ('sourcecred', 'git', 'COMMIT', '6a9be3b7f47613d00111a6172c2e437fe0456554'), 'plugin': 'git', 'type': 'COMMIT', 'color': (0.0, 0.6294117647058823, 1.0, 1.0), 'shape': '.', 'label': 'COMMIT'}\n",
      "5906\n",
      "{'address': ('sourcecred', 'github', 'USERLIKE', 'USER', 'anthrocypher'), 'plugin': 'github', 'type': 'USERLIKE', 'color': (0.0, 0.06470588235294118, 1.0, 1.0), 'shape': ',', 'label': 'anthrocypher'}\n",
      "3417\n",
      "{'address': ('sourcecred', 'github', 'PULL', 'sourcecred', 'sourcecred', '1074'), 'plugin': 'github', 'type': 'PULL', 'color': (1.0, 0.2331154684095862, 0.0, 1.0), 'shape': ',', 'label': 'PULL'}\n",
      "3422\n",
      "{'address': ('sourcecred', 'github', 'PULL', 'sourcecred', 'sourcecred', '1079'), 'plugin': 'github', 'type': 'PULL', 'color': (1.0, 0.2331154684095862, 0.0, 1.0), 'shape': ',', 'label': 'PULL'}\n",
      "31\n",
      "{'address': ('sourcecred', 'git', 'COMMIT', '072e2953a381d118472b247d39fc020c5e556524'), 'plugin': 'git', 'type': 'COMMIT', 'color': (0.0, 0.6294117647058823, 1.0, 1.0), 'shape': '.', 'label': 'COMMIT'}\n",
      "\n",
      "edges\n",
      "(121, 31, 0)\n",
      "{'address': ('sourcecred', 'git', 'HAS_PARENT', '2', 'COMMIT', '1e78437f7130fef43fc15d5978aa8f3b6b55e683', '2', 'COMMIT', '072e2953a381d118472b247d39fc020c5e556524'), 'plugin': 'git', 'type': 'HAS_PARENT'}\n",
      "(121, 3417, 0)\n",
      "{'address': ('sourcecred', 'github', 'REFERENCES', '4', 'sourcecred', 'git', 'COMMIT', '1e78437f7130fef43fc15d5978aa8f3b6b55e683', '6', 'sourcecred', 'github', 'PULL', 'sourcecred', 'sourcecred', '1074'), 'plugin': 'github', 'type': 'REFERENCES'}\n",
      "(260, 391, 0)\n",
      "{'address': ('sourcecred', 'git', 'HAS_PARENT', '2', 'COMMIT', '466d33e4e67bbab9258841db31aca642bbd0c790', '2', 'COMMIT', '6a9be3b7f47613d00111a6172c2e437fe0456554'), 'plugin': 'git', 'type': 'HAS_PARENT'}\n",
      "(391, 121, 0)\n",
      "{'address': ('sourcecred', 'git', 'HAS_PARENT', '2', 'COMMIT', '6a9be3b7f47613d00111a6172c2e437fe0456554', '2', 'COMMIT', '1e78437f7130fef43fc15d5978aa8f3b6b55e683'), 'plugin': 'git', 'type': 'HAS_PARENT'}\n",
      "(391, 121, 1)\n",
      "{'address': ('sourcecred', 'github', 'REFERENCES', '4', 'sourcecred', 'git', 'COMMIT', '6a9be3b7f47613d00111a6172c2e437fe0456554', '4', 'sourcecred', 'git', 'COMMIT', '1e78437f7130fef43fc15d5978aa8f3b6b55e683'), 'plugin': 'github', 'type': 'REFERENCES'}\n",
      "(391, 3417, 0)\n",
      "{'address': ('sourcecred', 'github', 'REFERENCES', '4', 'sourcecred', 'git', 'COMMIT', '6a9be3b7f47613d00111a6172c2e437fe0456554', '6', 'sourcecred', 'github', 'PULL', 'sourcecred', 'sourcecred', '1074'), 'plugin': 'github', 'type': 'REFERENCES'}\n",
      "(391, 3422, 0)\n",
      "{'address': ('sourcecred', 'github', 'REFERENCES', '4', 'sourcecred', 'git', 'COMMIT', '6a9be3b7f47613d00111a6172c2e437fe0456554', '6', 'sourcecred', 'github', 'PULL', 'sourcecred', 'sourcecred', '1079'), 'plugin': 'github', 'type': 'REFERENCES'}\n",
      "(5906, 121, 0)\n",
      "{'address': ('sourcecred', 'github', 'AUTHORS', '5', 'sourcecred', 'github', 'USERLIKE', 'USER', 'anthrocypher', '4', 'sourcecred', 'git', 'COMMIT', '1e78437f7130fef43fc15d5978aa8f3b6b55e683'), 'plugin': 'github', 'type': 'AUTHORS'}\n",
      "(5906, 260, 0)\n",
      "{'address': ('sourcecred', 'github', 'AUTHORS', '5', 'sourcecred', 'github', 'USERLIKE', 'USER', 'anthrocypher', '4', 'sourcecred', 'git', 'COMMIT', '466d33e4e67bbab9258841db31aca642bbd0c790'), 'plugin': 'github', 'type': 'AUTHORS'}\n",
      "(5906, 391, 0)\n",
      "{'address': ('sourcecred', 'github', 'AUTHORS', '5', 'sourcecred', 'github', 'USERLIKE', 'USER', 'anthrocypher', '4', 'sourcecred', 'git', 'COMMIT', '6a9be3b7f47613d00111a6172c2e437fe0456554'), 'plugin': 'github', 'type': 'AUTHORS'}\n",
      "(5906, 3417, 0)\n",
      "{'address': ('sourcecred', 'github', 'AUTHORS', '5', 'sourcecred', 'github', 'USERLIKE', 'USER', 'anthrocypher', '6', 'sourcecred', 'github', 'PULL', 'sourcecred', 'sourcecred', '1074'), 'plugin': 'github', 'type': 'AUTHORS'}\n",
      "(5906, 3422, 0)\n",
      "{'address': ('sourcecred', 'github', 'AUTHORS', '5', 'sourcecred', 'github', 'USERLIKE', 'USER', 'anthrocypher', '6', 'sourcecred', 'github', 'PULL', 'sourcecred', 'sourcecred', '1079'), 'plugin': 'github', 'type': 'AUTHORS'}\n",
      "(3417, 121, 0)\n",
      "{'address': ('sourcecred', 'github', 'MERGED_AS', '6', 'sourcecred', 'github', 'PULL', 'sourcecred', 'sourcecred', '1074'), 'plugin': 'github', 'type': 'MERGED_AS'}\n",
      "(3422, 391, 0)\n",
      "{'address': ('sourcecred', 'github', 'MERGED_AS', '6', 'sourcecred', 'github', 'PULL', 'sourcecred', 'sourcecred', '1079'), 'plugin': 'github', 'type': 'MERGED_AS'}\n",
      "(3422, 3417, 0)\n",
      "{'address': ('sourcecred', 'github', 'REFERENCES', '6', 'sourcecred', 'github', 'PULL', 'sourcecred', 'sourcecred', '1079', '6', 'sourcecred', 'github', 'PULL', 'sourcecred', 'sourcecred', '1074'), 'plugin': 'github', 'type': 'REFERENCES'}\n"
     ]
    },
    {
     "data": {
      "image/png": "[encoded data removed]",
      "text/plain": [
       "<Figure size 432x288 with 1 Axes>"
      ]
     },
     "metadata": {},
     "output_type": "display_data"
    }
   ],
   "source": [
    "inspectSubGraph(G, [391, 121], verbose=True, pos=\"kk\")"
   ]
  },
  {
   "cell_type": "code",
   "execution_count": 79,
   "metadata": {},
   "outputs": [
    {
     "name": "stdout",
     "output_type": "stream",
     "text": [
      "(391, 121)\n",
      "COMMIT\n",
      "REFERENCES\n",
      "HAS_PARENT\n",
      "COMMIT\n",
      "\n",
      "(648, 154)\n",
      "COMMIT\n",
      "REFERENCES\n",
      "HAS_PARENT\n",
      "COMMIT\n",
      "\n",
      "(910, 3190)\n",
      "COMMENT\n",
      "MENTIONS_AUTHOR\n",
      "HAS_PARENT\n",
      "ISSUE\n",
      "\n",
      "(934, 3203)\n",
      "COMMENT\n",
      "MENTIONS_AUTHOR\n",
      "HAS_PARENT\n",
      "ISSUE\n",
      "\n",
      "(941, 3204)\n",
      "COMMENT\n",
      "MENTIONS_AUTHOR\n",
      "HAS_PARENT\n",
      "ISSUE\n",
      "\n",
      "(945, 3204)\n",
      "COMMENT\n",
      "MENTIONS_AUTHOR\n",
      "HAS_PARENT\n",
      "ISSUE\n",
      "\n",
      "(987, 3220)\n",
      "COMMENT\n",
      "MENTIONS_AUTHOR\n",
      "HAS_PARENT\n",
      "ISSUE\n",
      "\n",
      "(1035, 3243)\n",
      "COMMENT\n",
      "MENTIONS_AUTHOR\n",
      "HAS_PARENT\n",
      "ISSUE\n",
      "\n",
      "(1049, 3245)\n",
      "COMMENT\n",
      "MENTIONS_AUTHOR\n",
      "HAS_PARENT\n",
      "ISSUE\n",
      "\n",
      "(1072, 3259)\n",
      "COMMENT\n",
      "MENTIONS_AUTHOR\n",
      "HAS_PARENT\n",
      "ISSUE\n",
      "\n",
      "(1073, 3259)\n",
      "COMMENT\n",
      "MENTIONS_AUTHOR\n",
      "HAS_PARENT\n",
      "ISSUE\n",
      "\n",
      "(1085, 3262)\n",
      "COMMENT\n",
      "MENTIONS_AUTHOR\n",
      "HAS_PARENT\n",
      "ISSUE\n",
      "\n",
      "(1100, 3270)\n",
      "COMMENT\n",
      "MENTIONS_AUTHOR\n",
      "HAS_PARENT\n",
      "ISSUE\n",
      "\n",
      "(1107, 3276)\n",
      "COMMENT\n",
      "MENTIONS_AUTHOR\n",
      "HAS_PARENT\n",
      "ISSUE\n",
      "\n",
      "(1169, 3300)\n",
      "COMMENT\n",
      "MENTIONS_AUTHOR\n",
      "HAS_PARENT\n",
      "ISSUE\n",
      "\n",
      "(1180, 3306)\n",
      "COMMENT\n",
      "MENTIONS_AUTHOR\n",
      "HAS_PARENT\n",
      "ISSUE\n",
      "\n",
      "(1206, 3321)\n",
      "COMMENT\n",
      "MENTIONS_AUTHOR\n",
      "HAS_PARENT\n",
      "ISSUE\n",
      "\n",
      "(1220, 3337)\n",
      "COMMENT\n",
      "MENTIONS_AUTHOR\n",
      "HAS_PARENT\n",
      "ISSUE\n",
      "\n",
      "(1257, 3365)\n",
      "COMMENT\n",
      "MENTIONS_AUTHOR\n",
      "HAS_PARENT\n",
      "ISSUE\n",
      "\n",
      "(1264, 3365)\n",
      "COMMENT\n",
      "MENTIONS_AUTHOR\n",
      "HAS_PARENT\n",
      "ISSUE\n",
      "\n",
      "(1265, 3365)\n",
      "COMMENT\n",
      "MENTIONS_AUTHOR\n",
      "HAS_PARENT\n",
      "ISSUE\n",
      "\n",
      "(1321, 3393)\n",
      "COMMENT\n",
      "MENTIONS_AUTHOR\n",
      "HAS_PARENT\n",
      "PULL\n",
      "\n",
      "(1326, 3395)\n",
      "COMMENT\n",
      "MENTIONS_AUTHOR\n",
      "HAS_PARENT\n",
      "PULL\n",
      "\n",
      "(1344, 3405)\n",
      "COMMENT\n",
      "MENTIONS_AUTHOR\n",
      "HAS_PARENT\n",
      "PULL\n",
      "\n",
      "(1368, 3415)\n",
      "COMMENT\n",
      "MENTIONS_AUTHOR\n",
      "HAS_PARENT\n",
      "PULL\n",
      "\n",
      "(1369, 3415)\n",
      "COMMENT\n",
      "MENTIONS_AUTHOR\n",
      "HAS_PARENT\n",
      "PULL\n",
      "\n",
      "(1391, 3440)\n",
      "COMMENT\n",
      "MENTIONS_AUTHOR\n",
      "HAS_PARENT\n",
      "PULL\n",
      "\n",
      "(1393, 3440)\n",
      "COMMENT\n",
      "MENTIONS_AUTHOR\n",
      "HAS_PARENT\n",
      "PULL\n",
      "\n",
      "(1394, 3440)\n",
      "COMMENT\n",
      "MENTIONS_AUTHOR\n",
      "HAS_PARENT\n",
      "PULL\n",
      "\n",
      "(1544, 3759)\n",
      "COMMENT\n",
      "MENTIONS_AUTHOR\n",
      "HAS_PARENT\n",
      "PULL\n",
      "\n",
      "(1567, 3833)\n",
      "COMMENT\n",
      "MENTIONS_AUTHOR\n",
      "HAS_PARENT\n",
      "PULL\n",
      "\n",
      "(1609, 3933)\n",
      "COMMENT\n",
      "MENTIONS_AUTHOR\n",
      "HAS_PARENT\n",
      "PULL\n",
      "\n",
      "(1757, 4246)\n",
      "COMMENT\n",
      "MENTIONS_AUTHOR\n",
      "HAS_PARENT\n",
      "PULL\n",
      "\n",
      "(1762, 4271)\n",
      "COMMENT\n",
      "MENTIONS_AUTHOR\n",
      "HAS_PARENT\n",
      "PULL\n",
      "\n",
      "(5913, 3820)\n",
      "USERLIKE\n",
      "REACTS\n",
      "AUTHORS\n",
      "PULL\n",
      "\n",
      "(5913, 4238)\n",
      "USERLIKE\n",
      "REACTS\n",
      "REACTS\n",
      "PULL\n",
      "\n",
      "(5930, 3204)\n",
      "USERLIKE\n",
      "REACTS\n",
      "AUTHORS\n",
      "ISSUE\n",
      "\n"
     ]
    }
   ],
   "source": [
    "for e in q:\n",
    "    print((e[0],e[1]))\n",
    "    print(G.nodes[e[0]]['type'])\n",
    "    print(G.edges[e][\"type\"])\n",
    "    print(G.edges[(e[0],e[1],0)]['type'])\n",
    "    print(G.nodes[e[1]]['type'])\n",
    "    print(\"\")"
   ]
  },
  {
   "cell_type": "code",
   "execution_count": 81,
   "metadata": {},
   "outputs": [
    {
     "name": "stdout",
     "output_type": "stream",
     "text": [
      "nodes\n",
      "5913\n",
      "{'address': ('sourcecred', 'github', 'USERLIKE', 'USER', 'decentralion'), 'plugin': 'github', 'type': 'USERLIKE', 'color': (0.0, 0.06470588235294118, 1.0, 1.0), 'shape': ',', 'label': 'decentralion'}\n",
      "5930\n",
      "{'address': ('sourcecred', 'github', 'USERLIKE', 'USER', 'wchargin'), 'plugin': 'github', 'type': 'USERLIKE', 'color': (0.0, 0.06470588235294118, 1.0, 1.0), 'shape': ',', 'label': 'wchargin'}\n",
      "3321\n",
      "{'address': ('sourcecred', 'github', 'ISSUE', 'sourcecred', 'sourcecred', '761'), 'plugin': 'github', 'type': 'ISSUE', 'color': (0.2371916508538899, 1.0, 0.7305502846299811, 1.0), 'shape': ',', 'label': 'ISSUE'}\n",
      "1206\n",
      "{'address': ('sourcecred', 'github', 'COMMENT', 'ISSUE', 'sourcecred', 'sourcecred', '761', '454109558'), 'plugin': 'github', 'type': 'COMMENT', 'color': (1.0, 0.7559912854030507, 0.0, 1.0), 'shape': ',', 'label': 'COMMENT'}\n",
      "\n",
      "edges\n",
      "(5913, 1206, 0)\n",
      "{'address': ('sourcecred', 'github', 'AUTHORS', '5', 'sourcecred', 'github', 'USERLIKE', 'USER', 'decentralion', '8', 'sourcecred', 'github', 'COMMENT', 'ISSUE', 'sourcecred', 'sourcecred', '761', '454109558'), 'plugin': 'github', 'type': 'AUTHORS'}\n",
      "(5930, 3321, 0)\n",
      "{'address': ('sourcecred', 'github', 'AUTHORS', '5', 'sourcecred', 'github', 'USERLIKE', 'USER', 'wchargin', '6', 'sourcecred', 'github', 'ISSUE', 'sourcecred', 'sourcecred', '761'), 'plugin': 'github', 'type': 'AUTHORS'}\n",
      "(5930, 1206, 0)\n",
      "{'address': ('sourcecred', 'github', 'REACTS', 'THUMBS_UP', '5', 'sourcecred', 'github', 'USERLIKE', 'USER', 'wchargin', '8', 'sourcecred', 'github', 'COMMENT', 'ISSUE', 'sourcecred', 'sourcecred', '761', '454109558'), 'plugin': 'github', 'type': 'REACTS'}\n",
      "(1206, 3321, 0)\n",
      "{'address': ('sourcecred', 'github', 'HAS_PARENT', '8', 'sourcecred', 'github', 'COMMENT', 'ISSUE', 'sourcecred', 'sourcecred', '761', '454109558'), 'plugin': 'github', 'type': 'HAS_PARENT'}\n",
      "(1206, 3321, 1)\n",
      "{'address': ('sourcecred', 'github', 'MENTIONS_AUTHOR', '8', 'sourcecred', 'github', 'COMMENT', 'ISSUE', 'sourcecred', 'sourcecred', '761', '454109558', '6', 'sourcecred', 'github', 'ISSUE', 'sourcecred', 'sourcecred', '761', '5', 'sourcecred', 'github', 'USERLIKE', 'USER', 'wchargin'), 'plugin': 'github', 'type': 'MENTIONS_AUTHOR'}\n",
      "(1206, 5930, 0)\n",
      "{'address': ('sourcecred', 'github', 'REFERENCES', '8', 'sourcecred', 'github', 'COMMENT', 'ISSUE', 'sourcecred', 'sourcecred', '761', '454109558', '5', 'sourcecred', 'github', 'USERLIKE', 'USER', 'wchargin'), 'plugin': 'github', 'type': 'REFERENCES'}\n"
     ]
    },
    {
     "data": {
      "image/png": "[encoded data removed]",
      "text/plain": [
       "<Figure size 432x288 with 1 Axes>"
      ]
     },
     "metadata": {},
     "output_type": "display_data"
    }
   ],
   "source": [
    "inspectSubGraph(G, [1206], verbose=True, pos=\"kk\")"
   ]
  },
  {
   "cell_type": "code",
   "execution_count": 82,
   "metadata": {},
   "outputs": [
    {
     "name": "stdout",
     "output_type": "stream",
     "text": [
      "nodes\n",
      "4292\n",
      "{'address': ('sourcecred', 'github', 'REPO', 'sourcecred', 'sourcecred'), 'plugin': 'github', 'type': 'REPO', 'color': (0.6925996204933585, 1.0, 0.27514231499051234, 1.0), 'shape': ',', 'label': 'sourcecred'}\n",
      "4069\n",
      "{'address': ('sourcecred', 'github', 'PULL', 'sourcecred', 'sourcecred', '755'), 'plugin': 'github', 'type': 'PULL', 'color': (1.0, 0.2331154684095862, 0.0, 1.0), 'shape': ',', 'label': 'PULL'}\n",
      "5930\n",
      "{'address': ('sourcecred', 'github', 'USERLIKE', 'USER', 'wchargin'), 'plugin': 'github', 'type': 'USERLIKE', 'color': (0.0, 0.06470588235294118, 1.0, 1.0), 'shape': ',', 'label': 'wchargin'}\n",
      "3316\n",
      "{'address': ('sourcecred', 'github', 'ISSUE', 'sourcecred', 'sourcecred', '732'), 'plugin': 'github', 'type': 'ISSUE', 'color': (0.2371916508538899, 1.0, 0.7305502846299811, 1.0), 'shape': ',', 'label': 'ISSUE'}\n",
      "1206\n",
      "{'address': ('sourcecred', 'github', 'COMMENT', 'ISSUE', 'sourcecred', 'sourcecred', '761', '454109558'), 'plugin': 'github', 'type': 'COMMENT', 'color': (1.0, 0.7559912854030507, 0.0, 1.0), 'shape': ',', 'label': 'COMMENT'}\n",
      "3321\n",
      "{'address': ('sourcecred', 'github', 'ISSUE', 'sourcecred', 'sourcecred', '761'), 'plugin': 'github', 'type': 'ISSUE', 'color': (0.2371916508538899, 1.0, 0.7305502846299811, 1.0), 'shape': ',', 'label': 'ISSUE'}\n",
      "\n",
      "edges\n",
      "(4069, 4292, 0)\n",
      "{'address': ('sourcecred', 'github', 'HAS_PARENT', '6', 'sourcecred', 'github', 'PULL', 'sourcecred', 'sourcecred', '755'), 'plugin': 'github', 'type': 'HAS_PARENT'}\n",
      "(4069, 3316, 0)\n",
      "{'address': ('sourcecred', 'github', 'REFERENCES', '6', 'sourcecred', 'github', 'PULL', 'sourcecred', 'sourcecred', '755', '6', 'sourcecred', 'github', 'ISSUE', 'sourcecred', 'sourcecred', '732'), 'plugin': 'github', 'type': 'REFERENCES'}\n",
      "(5930, 1206, 0)\n",
      "{'address': ('sourcecred', 'github', 'REACTS', 'THUMBS_UP', '5', 'sourcecred', 'github', 'USERLIKE', 'USER', 'wchargin', '8', 'sourcecred', 'github', 'COMMENT', 'ISSUE', 'sourcecred', 'sourcecred', '761', '454109558'), 'plugin': 'github', 'type': 'REACTS'}\n",
      "(5930, 3321, 0)\n",
      "{'address': ('sourcecred', 'github', 'AUTHORS', '5', 'sourcecred', 'github', 'USERLIKE', 'USER', 'wchargin', '6', 'sourcecred', 'github', 'ISSUE', 'sourcecred', 'sourcecred', '761'), 'plugin': 'github', 'type': 'AUTHORS'}\n",
      "(3316, 4292, 0)\n",
      "{'address': ('sourcecred', 'github', 'HAS_PARENT', '6', 'sourcecred', 'github', 'ISSUE', 'sourcecred', 'sourcecred', '732'), 'plugin': 'github', 'type': 'HAS_PARENT'}\n",
      "(1206, 3321, 0)\n",
      "{'address': ('sourcecred', 'github', 'HAS_PARENT', '8', 'sourcecred', 'github', 'COMMENT', 'ISSUE', 'sourcecred', 'sourcecred', '761', '454109558'), 'plugin': 'github', 'type': 'HAS_PARENT'}\n",
      "(1206, 3321, 1)\n",
      "{'address': ('sourcecred', 'github', 'MENTIONS_AUTHOR', '8', 'sourcecred', 'github', 'COMMENT', 'ISSUE', 'sourcecred', 'sourcecred', '761', '454109558', '6', 'sourcecred', 'github', 'ISSUE', 'sourcecred', 'sourcecred', '761', '5', 'sourcecred', 'github', 'USERLIKE', 'USER', 'wchargin'), 'plugin': 'github', 'type': 'MENTIONS_AUTHOR'}\n",
      "(1206, 5930, 0)\n",
      "{'address': ('sourcecred', 'github', 'REFERENCES', '8', 'sourcecred', 'github', 'COMMENT', 'ISSUE', 'sourcecred', 'sourcecred', '761', '454109558', '5', 'sourcecred', 'github', 'USERLIKE', 'USER', 'wchargin'), 'plugin': 'github', 'type': 'REFERENCES'}\n",
      "(3321, 4292, 0)\n",
      "{'address': ('sourcecred', 'github', 'HAS_PARENT', '6', 'sourcecred', 'github', 'ISSUE', 'sourcecred', 'sourcecred', '761'), 'plugin': 'github', 'type': 'HAS_PARENT'}\n",
      "(3321, 3316, 0)\n",
      "{'address': ('sourcecred', 'github', 'REFERENCES', '6', 'sourcecred', 'github', 'ISSUE', 'sourcecred', 'sourcecred', '761', '6', 'sourcecred', 'github', 'ISSUE', 'sourcecred', 'sourcecred', '732'), 'plugin': 'github', 'type': 'REFERENCES'}\n",
      "(3321, 4069, 0)\n",
      "{'address': ('sourcecred', 'github', 'REFERENCES', '6', 'sourcecred', 'github', 'ISSUE', 'sourcecred', 'sourcecred', '761', '6', 'sourcecred', 'github', 'PULL', 'sourcecred', 'sourcecred', '755'), 'plugin': 'github', 'type': 'REFERENCES'}\n"
     ]
    },
    {
     "data": {
      "image/png": "[encoded data removed]",
      "text/plain": [
       "<Figure size 432x288 with 1 Axes>"
      ]
     },
     "metadata": {},
     "output_type": "display_data"
    }
   ],
   "source": [
    "inspectSubGraph(G, [3321], verbose=True, pos=\"kk\")"
   ]
  },
  {
   "cell_type": "code",
   "execution_count": 84,
   "metadata": {},
   "outputs": [
    {
     "name": "stdout",
     "output_type": "stream",
     "text": [
      "nodes\n",
      "33\n",
      "{'address': ('sourcecred', 'git', 'COMMIT', '08219f98bf145dcaa08c88e012f89e7ef8247136'), 'plugin': 'git', 'type': 'COMMIT', 'color': (0.0, 0.6294117647058823, 1.0, 1.0), 'shape': '.', 'label': 'COMMIT'}\n",
      "4292\n",
      "{'address': ('sourcecred', 'github', 'REPO', 'sourcecred', 'sourcecred'), 'plugin': 'github', 'type': 'REPO', 'color': (0.6925996204933585, 1.0, 0.27514231499051234, 1.0), 'shape': ',', 'label': 'sourcecred'}\n",
      "5930\n",
      "{'address': ('sourcecred', 'github', 'USERLIKE', 'USER', 'wchargin'), 'plugin': 'github', 'type': 'USERLIKE', 'color': (0.0, 0.06470588235294118, 1.0, 1.0), 'shape': ',', 'label': 'wchargin'}\n",
      "4238\n",
      "{'address': ('sourcecred', 'github', 'PULL', 'sourcecred', 'sourcecred', '937'), 'plugin': 'github', 'type': 'PULL', 'color': (1.0, 0.2331154684095862, 0.0, 1.0), 'shape': ',', 'label': 'PULL'}\n",
      "5913\n",
      "{'address': ('sourcecred', 'github', 'USERLIKE', 'USER', 'decentralion'), 'plugin': 'github', 'type': 'USERLIKE', 'color': (0.0, 0.06470588235294118, 1.0, 1.0), 'shape': ',', 'label': 'decentralion'}\n",
      "3351\n",
      "{'address': ('sourcecred', 'github', 'ISSUE', 'sourcecred', 'sourcecred', '923'), 'plugin': 'github', 'type': 'ISSUE', 'color': (0.2371916508538899, 1.0, 0.7305502846299811, 1.0), 'shape': ',', 'label': 'ISSUE'}\n",
      "1241\n",
      "{'address': ('sourcecred', 'github', 'COMMENT', 'ISSUE', 'sourcecred', 'sourcecred', '920', '433732215'), 'plugin': 'github', 'type': 'COMMENT', 'color': (1.0, 0.7559912854030507, 0.0, 1.0), 'shape': ',', 'label': 'COMMENT'}\n",
      "1242\n",
      "{'address': ('sourcecred', 'github', 'COMMENT', 'ISSUE', 'sourcecred', 'sourcecred', '923', '433732269'), 'plugin': 'github', 'type': 'COMMENT', 'color': (1.0, 0.7559912854030507, 0.0, 1.0), 'shape': ',', 'label': 'COMMENT'}\n",
      "5822\n",
      "{'address': ('sourcecred', 'github', 'REVIEW', 'sourcecred', 'sourcecred', '937', '169066010'), 'plugin': 'github', 'type': 'REVIEW', 'color': (0.0, 0.0, 0.5, 1.0), 'shape': ',', 'label': 'REVIEW'}\n",
      "\n",
      "edges\n",
      "(33, 3351, 0)\n",
      "{'address': ('sourcecred', 'github', 'REFERENCES', '4', 'sourcecred', 'git', 'COMMIT', '08219f98bf145dcaa08c88e012f89e7ef8247136', '6', 'sourcecred', 'github', 'ISSUE', 'sourcecred', 'sourcecred', '923'), 'plugin': 'github', 'type': 'REFERENCES'}\n",
      "(33, 4238, 0)\n",
      "{'address': ('sourcecred', 'github', 'REFERENCES', '4', 'sourcecred', 'git', 'COMMIT', '08219f98bf145dcaa08c88e012f89e7ef8247136', '6', 'sourcecred', 'github', 'PULL', 'sourcecred', 'sourcecred', '937'), 'plugin': 'github', 'type': 'REFERENCES'}\n",
      "(5930, 33, 0)\n",
      "{'address': ('sourcecred', 'github', 'AUTHORS', '5', 'sourcecred', 'github', 'USERLIKE', 'USER', 'wchargin', '4', 'sourcecred', 'git', 'COMMIT', '08219f98bf145dcaa08c88e012f89e7ef8247136'), 'plugin': 'github', 'type': 'AUTHORS'}\n",
      "(5930, 4238, 0)\n",
      "{'address': ('sourcecred', 'github', 'AUTHORS', '5', 'sourcecred', 'github', 'USERLIKE', 'USER', 'wchargin', '6', 'sourcecred', 'github', 'PULL', 'sourcecred', 'sourcecred', '937'), 'plugin': 'github', 'type': 'AUTHORS'}\n",
      "(5930, 3351, 0)\n",
      "{'address': ('sourcecred', 'github', 'AUTHORS', '5', 'sourcecred', 'github', 'USERLIKE', 'USER', 'wchargin', '6', 'sourcecred', 'github', 'ISSUE', 'sourcecred', 'sourcecred', '923'), 'plugin': 'github', 'type': 'AUTHORS'}\n",
      "(5930, 1241, 0)\n",
      "{'address': ('sourcecred', 'github', 'AUTHORS', '5', 'sourcecred', 'github', 'USERLIKE', 'USER', 'wchargin', '8', 'sourcecred', 'github', 'COMMENT', 'ISSUE', 'sourcecred', 'sourcecred', '920', '433732215'), 'plugin': 'github', 'type': 'AUTHORS'}\n",
      "(5930, 1242, 0)\n",
      "{'address': ('sourcecred', 'github', 'AUTHORS', '5', 'sourcecred', 'github', 'USERLIKE', 'USER', 'wchargin', '8', 'sourcecred', 'github', 'COMMENT', 'ISSUE', 'sourcecred', 'sourcecred', '923', '433732269'), 'plugin': 'github', 'type': 'AUTHORS'}\n",
      "(4238, 4292, 0)\n",
      "{'address': ('sourcecred', 'github', 'HAS_PARENT', '6', 'sourcecred', 'github', 'PULL', 'sourcecred', 'sourcecred', '937'), 'plugin': 'github', 'type': 'HAS_PARENT'}\n",
      "(4238, 33, 0)\n",
      "{'address': ('sourcecred', 'github', 'MERGED_AS', '6', 'sourcecred', 'github', 'PULL', 'sourcecred', 'sourcecred', '937'), 'plugin': 'github', 'type': 'MERGED_AS'}\n",
      "(4238, 3351, 0)\n",
      "{'address': ('sourcecred', 'github', 'REFERENCES', '6', 'sourcecred', 'github', 'PULL', 'sourcecred', 'sourcecred', '937', '6', 'sourcecred', 'github', 'ISSUE', 'sourcecred', 'sourcecred', '923'), 'plugin': 'github', 'type': 'REFERENCES'}\n",
      "(5913, 4238, 0)\n",
      "{'address': ('sourcecred', 'github', 'REACTS', 'HEART', '5', 'sourcecred', 'github', 'USERLIKE', 'USER', 'decentralion', '6', 'sourcecred', 'github', 'PULL', 'sourcecred', 'sourcecred', '937'), 'plugin': 'github', 'type': 'REACTS'}\n",
      "(5913, 4238, 1)\n",
      "{'address': ('sourcecred', 'github', 'REACTS', 'HOORAY', '5', 'sourcecred', 'github', 'USERLIKE', 'USER', 'decentralion', '6', 'sourcecred', 'github', 'PULL', 'sourcecred', 'sourcecred', '937'), 'plugin': 'github', 'type': 'REACTS'}\n",
      "(5913, 5822, 0)\n",
      "{'address': ('sourcecred', 'github', 'AUTHORS', '5', 'sourcecred', 'github', 'USERLIKE', 'USER', 'decentralion', '7', 'sourcecred', 'github', 'REVIEW', 'sourcecred', 'sourcecred', '937', '169066010'), 'plugin': 'github', 'type': 'AUTHORS'}\n",
      "(3351, 4292, 0)\n",
      "{'address': ('sourcecred', 'github', 'HAS_PARENT', '6', 'sourcecred', 'github', 'ISSUE', 'sourcecred', 'sourcecred', '923'), 'plugin': 'github', 'type': 'HAS_PARENT'}\n",
      "(1241, 4238, 0)\n",
      "{'address': ('sourcecred', 'github', 'REFERENCES', '8', 'sourcecred', 'github', 'COMMENT', 'ISSUE', 'sourcecred', 'sourcecred', '920', '433732215', '6', 'sourcecred', 'github', 'PULL', 'sourcecred', 'sourcecred', '937'), 'plugin': 'github', 'type': 'REFERENCES'}\n",
      "(1242, 3351, 0)\n",
      "{'address': ('sourcecred', 'github', 'HAS_PARENT', '8', 'sourcecred', 'github', 'COMMENT', 'ISSUE', 'sourcecred', 'sourcecred', '923', '433732269'), 'plugin': 'github', 'type': 'HAS_PARENT'}\n",
      "(1242, 4238, 0)\n",
      "{'address': ('sourcecred', 'github', 'REFERENCES', '8', 'sourcecred', 'github', 'COMMENT', 'ISSUE', 'sourcecred', 'sourcecred', '923', '433732269', '6', 'sourcecred', 'github', 'PULL', 'sourcecred', 'sourcecred', '937'), 'plugin': 'github', 'type': 'REFERENCES'}\n",
      "(1242, 1241, 0)\n",
      "{'address': ('sourcecred', 'github', 'REFERENCES', '8', 'sourcecred', 'github', 'COMMENT', 'ISSUE', 'sourcecred', 'sourcecred', '923', '433732269', '8', 'sourcecred', 'github', 'COMMENT', 'ISSUE', 'sourcecred', 'sourcecred', '920', '433732215'), 'plugin': 'github', 'type': 'REFERENCES'}\n",
      "(5822, 4238, 0)\n",
      "{'address': ('sourcecred', 'github', 'HAS_PARENT', '7', 'sourcecred', 'github', 'REVIEW', 'sourcecred', 'sourcecred', '937', '169066010'), 'plugin': 'github', 'type': 'HAS_PARENT'}\n"
     ]
    },
    {
     "data": {
      "image/png": "[encoded data removed]",
      "text/plain": [
       "<Figure size 432x288 with 1 Axes>"
      ]
     },
     "metadata": {},
     "output_type": "display_data"
    }
   ],
   "source": [
    "inspectSubGraph(G, [4238], verbose=True, pos=\"kk\")"
   ]
  },
  {
   "cell_type": "code",
   "execution_count": 89,
   "metadata": {},
   "outputs": [
    {
     "name": "stdout",
     "output_type": "stream",
     "text": [
      "nodes\n",
      "3321\n",
      "{'address': ('sourcecred', 'github', 'ISSUE', 'sourcecred', 'sourcecred', '761'), 'plugin': 'github', 'type': 'ISSUE', 'color': (0.2371916508538899, 1.0, 0.7305502846299811, 1.0), 'shape': ',', 'label': 'ISSUE'}\n",
      "1206\n",
      "{'address': ('sourcecred', 'github', 'COMMENT', 'ISSUE', 'sourcecred', 'sourcecred', '761', '454109558'), 'plugin': 'github', 'type': 'COMMENT', 'color': (1.0, 0.7559912854030507, 0.0, 1.0), 'shape': ',', 'label': 'COMMENT'}\n",
      "\n",
      "edges\n",
      "(1206, 3321, 0)\n",
      "{'address': ('sourcecred', 'github', 'HAS_PARENT', '8', 'sourcecred', 'github', 'COMMENT', 'ISSUE', 'sourcecred', 'sourcecred', '761', '454109558'), 'plugin': 'github', 'type': 'HAS_PARENT'}\n",
      "(1206, 3321, 1)\n",
      "{'address': ('sourcecred', 'github', 'MENTIONS_AUTHOR', '8', 'sourcecred', 'github', 'COMMENT', 'ISSUE', 'sourcecred', 'sourcecred', '761', '454109558', '6', 'sourcecred', 'github', 'ISSUE', 'sourcecred', 'sourcecred', '761', '5', 'sourcecred', 'github', 'USERLIKE', 'USER', 'wchargin'), 'plugin': 'github', 'type': 'MENTIONS_AUTHOR'}\n"
     ]
    },
    {
     "data": {
      "image/png": "[encoded data removed]",
      "text/plain": [
       "<Figure size 432x288 with 1 Axes>"
      ]
     },
     "metadata": {},
     "output_type": "display_data"
    }
   ],
   "source": [
    "inspectSubGraph(G, [1206, 3321],expand=False, verbose=True, pos=\"kk\") "
   ]
  },
  {
   "cell_type": "code",
   "execution_count": 99,
   "metadata": {},
   "outputs": [
    {
     "name": "stdout",
     "output_type": "stream",
     "text": [
      "nodes\n",
      "3321\n",
      "{'address': ('sourcecred', 'github', 'ISSUE', 'sourcecred', 'sourcecred', '761'), 'plugin': 'github', 'type': 'ISSUE', 'color': (0.2371916508538899, 1.0, 0.7305502846299811, 1.0), 'shape': ',', 'label': 'ISSUE'}\n",
      "5930\n",
      "{'address': ('sourcecred', 'github', 'USERLIKE', 'USER', 'wchargin'), 'plugin': 'github', 'type': 'USERLIKE', 'color': (0.0, 0.06470588235294118, 1.0, 1.0), 'shape': ',', 'label': 'wchargin'}\n",
      "1206\n",
      "{'address': ('sourcecred', 'github', 'COMMENT', 'ISSUE', 'sourcecred', 'sourcecred', '761', '454109558'), 'plugin': 'github', 'type': 'COMMENT', 'color': (1.0, 0.7559912854030507, 0.0, 1.0), 'shape': ',', 'label': 'COMMENT'}\n",
      "5913\n",
      "{'address': ('sourcecred', 'github', 'USERLIKE', 'USER', 'decentralion'), 'plugin': 'github', 'type': 'USERLIKE', 'color': (0.0, 0.06470588235294118, 1.0, 1.0), 'shape': ',', 'label': 'decentralion'}\n",
      "\n",
      "edges\n",
      "(5930, 3321, 0)\n",
      "{'address': ('sourcecred', 'github', 'AUTHORS', '5', 'sourcecred', 'github', 'USERLIKE', 'USER', 'wchargin', '6', 'sourcecred', 'github', 'ISSUE', 'sourcecred', 'sourcecred', '761'), 'plugin': 'github', 'type': 'AUTHORS'}\n",
      "(5930, 1206, 0)\n",
      "{'address': ('sourcecred', 'github', 'REACTS', 'THUMBS_UP', '5', 'sourcecred', 'github', 'USERLIKE', 'USER', 'wchargin', '8', 'sourcecred', 'github', 'COMMENT', 'ISSUE', 'sourcecred', 'sourcecred', '761', '454109558'), 'plugin': 'github', 'type': 'REACTS'}\n",
      "(1206, 3321, 0)\n",
      "{'address': ('sourcecred', 'github', 'HAS_PARENT', '8', 'sourcecred', 'github', 'COMMENT', 'ISSUE', 'sourcecred', 'sourcecred', '761', '454109558'), 'plugin': 'github', 'type': 'HAS_PARENT'}\n",
      "(1206, 3321, 1)\n",
      "{'address': ('sourcecred', 'github', 'MENTIONS_AUTHOR', '8', 'sourcecred', 'github', 'COMMENT', 'ISSUE', 'sourcecred', 'sourcecred', '761', '454109558', '6', 'sourcecred', 'github', 'ISSUE', 'sourcecred', 'sourcecred', '761', '5', 'sourcecred', 'github', 'USERLIKE', 'USER', 'wchargin'), 'plugin': 'github', 'type': 'MENTIONS_AUTHOR'}\n",
      "(1206, 5930, 0)\n",
      "{'address': ('sourcecred', 'github', 'REFERENCES', '8', 'sourcecred', 'github', 'COMMENT', 'ISSUE', 'sourcecred', 'sourcecred', '761', '454109558', '5', 'sourcecred', 'github', 'USERLIKE', 'USER', 'wchargin'), 'plugin': 'github', 'type': 'REFERENCES'}\n",
      "(5913, 1206, 0)\n",
      "{'address': ('sourcecred', 'github', 'AUTHORS', '5', 'sourcecred', 'github', 'USERLIKE', 'USER', 'decentralion', '8', 'sourcecred', 'github', 'COMMENT', 'ISSUE', 'sourcecred', 'sourcecred', '761', '454109558'), 'plugin': 'github', 'type': 'AUTHORS'}\n"
     ]
    },
    {
     "data": {
      "image/png": "[encoded data removed]",
      "text/plain": [
       "<Figure size 432x288 with 1 Axes>"
      ]
     },
     "metadata": {},
     "output_type": "display_data"
    }
   ],
   "source": [
    "inspectSubGraph(G, [1206, 3321,5930,5913],expand=False, verbose=True, pos=\"kk\") "
   ]
  },
  {
   "cell_type": "code",
   "execution_count": null,
   "metadata": {},
   "outputs": [],
   "source": []
  },
  {
   "cell_type": "code",
   "execution_count": 96,
   "metadata": {},
   "outputs": [],
   "source": [
    "ma_links = [(G.nodes[e[0]]['type'],G.nodes[e[1]]['type'])\n",
    "            for e in G.edges if G.edges[e]['type']=='MENTIONS_AUTHOR']"
   ]
  },
  {
   "cell_type": "code",
   "execution_count": 97,
   "metadata": {},
   "outputs": [
    {
     "data": {
      "text/plain": [
       "{('COMMENT', 'COMMENT'),\n",
       " ('COMMENT', 'ISSUE'),\n",
       " ('COMMENT', 'PULL'),\n",
       " ('ISSUE', 'COMMENT'),\n",
       " ('ISSUE', 'ISSUE'),\n",
       " ('PULL', 'COMMENT'),\n",
       " ('PULL', 'PULL')}"
      ]
     },
     "execution_count": 97,
     "metadata": {},
     "output_type": "execute_result"
    }
   ],
   "source": [
    "set(ma_links)"
   ]
  },
  {
   "cell_type": "code",
   "execution_count": 100,
   "metadata": {},
   "outputs": [],
   "source": [
    "r_links = [(G.nodes[e[0]]['type'],G.nodes[e[1]]['type'])\n",
    "            for e in G.edges if G.edges[e]['type']=='REFERENCES']"
   ]
  },
  {
   "cell_type": "code",
   "execution_count": 101,
   "metadata": {},
   "outputs": [
    {
     "data": {
      "text/plain": [
       "{('COMMENT', 'COMMENT'),\n",
       " ('COMMENT', 'COMMIT'),\n",
       " ('COMMENT', 'ISSUE'),\n",
       " ('COMMENT', 'PULL'),\n",
       " ('COMMENT', 'REVIEW'),\n",
       " ('COMMENT', 'USERLIKE'),\n",
       " ('COMMIT', 'COMMENT'),\n",
       " ('COMMIT', 'COMMIT'),\n",
       " ('COMMIT', 'ISSUE'),\n",
       " ('COMMIT', 'PULL'),\n",
       " ('COMMIT', 'USERLIKE'),\n",
       " ('ISSUE', 'COMMENT'),\n",
       " ('ISSUE', 'COMMIT'),\n",
       " ('ISSUE', 'ISSUE'),\n",
       " ('ISSUE', 'PULL'),\n",
       " ('ISSUE', 'USERLIKE'),\n",
       " ('PULL', 'COMMENT'),\n",
       " ('PULL', 'COMMIT'),\n",
       " ('PULL', 'ISSUE'),\n",
       " ('PULL', 'PULL'),\n",
       " ('PULL', 'USERLIKE'),\n",
       " ('REVIEW', 'COMMENT'),\n",
       " ('REVIEW', 'ISSUE'),\n",
       " ('REVIEW', 'PULL'),\n",
       " ('REVIEW', 'USERLIKE')}"
      ]
     },
     "execution_count": 101,
     "metadata": {},
     "output_type": "execute_result"
    }
   ],
   "source": [
    "set(r_links)"
   ]
  },
  {
   "cell_type": "code",
   "execution_count": null,
   "metadata": {},
   "outputs": [],
   "source": []
  }
 ],
 "metadata": {
  "kernelspec": {
   "display_name": "Python 3",
   "language": "python",
   "name": "python3"
  },
  "language_info": {
   "codemirror_mode": {
    "name": "ipython",
    "version": 3
   },
   "file_extension": ".py",
   "mimetype": "text/x-python",
   "name": "python",
   "nbconvert_exporter": "python",
   "pygments_lexer": "ipython3",
   "version": "3.6.8"
  }
 },
 "nbformat": 4,
 "nbformat_minor": 2
}
