{
 "cells": [
  {
   "cell_type": "code",
   "execution_count": 1,
   "metadata": {},
   "outputs": [],
   "source": [
    "import json\n",
    "import os\n",
    "import pandas as pd\n",
    "import networkx as nx\n",
    "\n",
    "import numpy as np\n",
    "import matplotlib.pyplot as plt\n",
    "\n",
    "%matplotlib inline"
   ]
  },
  {
   "cell_type": "code",
   "execution_count": 2,
   "metadata": {},
   "outputs": [],
   "source": [
    "cwd = os.getcwd()\n",
    "\n",
    "rel_path = \"sample_graphs/sourcecred_sourcecred.json\"\n",
    "abs_file_path = os.path.abspath(os.path.join(cwd, '..', rel_path))\n",
    "\n",
    "with open(abs_file_path) as json_file:  \n",
    "    data = json.load(json_file)"
   ]
  },
  {
   "cell_type": "code",
   "execution_count": 3,
   "metadata": {},
   "outputs": [
    {
     "data": {
      "text/plain": [
       "list"
      ]
     },
     "execution_count": 3,
     "metadata": {},
     "output_type": "execute_result"
    }
   ],
   "source": [
    "type(data)"
   ]
  },
  {
   "cell_type": "code",
   "execution_count": 4,
   "metadata": {},
   "outputs": [
    {
     "data": {
      "text/plain": [
       "2"
      ]
     },
     "execution_count": 4,
     "metadata": {},
     "output_type": "execute_result"
    }
   ],
   "source": [
    "len(data)"
   ]
  },
  {
   "cell_type": "code",
   "execution_count": 5,
   "metadata": {},
   "outputs": [
    {
     "data": {
      "text/plain": [
       "{'type': 'sourcecred/graph', 'version': '0.4.0'}"
      ]
     },
     "execution_count": 5,
     "metadata": {},
     "output_type": "execute_result"
    }
   ],
   "source": [
    "data[0]"
   ]
  },
  {
   "cell_type": "code",
   "execution_count": 6,
   "metadata": {},
   "outputs": [
    {
     "data": {
      "text/plain": [
       "dict_keys(['nodes', 'edges'])"
      ]
     },
     "execution_count": 6,
     "metadata": {},
     "output_type": "execute_result"
    }
   ],
   "source": [
    "data[1].keys()"
   ]
  },
  {
   "cell_type": "code",
   "execution_count": 7,
   "metadata": {},
   "outputs": [
    {
     "data": {
      "text/plain": [
       "[['sourcecred', 'git', 'COMMIT', '007cf88172d7ea9b0cdada78f124f7a41b811b30'],\n",
       " ['sourcecred', 'git', 'COMMIT', '00bc9a94616d867c9e66ef77bfb239e578d3569e'],\n",
       " ['sourcecred', 'git', 'COMMIT', '00da630bb29708fc34cce66069812d3c5a63ba79'],\n",
       " ['sourcecred', 'git', 'COMMIT', '00e2a674778ad43eede379b6666b84b2205ce2ee'],\n",
       " ['sourcecred', 'git', 'COMMIT', '01071866be710d194689e16b3654a0edb2fc46b3']]"
      ]
     },
     "execution_count": 7,
     "metadata": {},
     "output_type": "execute_result"
    }
   ],
   "source": [
    "data[1]['nodes'][:5]"
   ]
  },
  {
   "cell_type": "code",
   "execution_count": 8,
   "metadata": {},
   "outputs": [],
   "source": [
    "ndf= pd.DataFrame(data[1]['nodes'])"
   ]
  },
  {
   "cell_type": "code",
   "execution_count": 9,
   "metadata": {},
   "outputs": [
    {
     "data": {
      "text/plain": [
       "(5932, 9)"
      ]
     },
     "execution_count": 9,
     "metadata": {},
     "output_type": "execute_result"
    }
   ],
   "source": [
    "ndf.shape"
   ]
  },
  {
   "cell_type": "code",
   "execution_count": 10,
   "metadata": {},
   "outputs": [
    {
     "data": {
      "text/html": [
       "<div>\n",
       "<style scoped>\n",
       "    .dataframe tbody tr th:only-of-type {\n",
       "        vertical-align: middle;\n",
       "    }\n",
       "\n",
       "    .dataframe tbody tr th {\n",
       "        vertical-align: top;\n",
       "    }\n",
       "\n",
       "    .dataframe thead th {\n",
       "        text-align: right;\n",
       "    }\n",
       "</style>\n",
       "<table border=\"1\" class=\"dataframe\">\n",
       "  <thead>\n",
       "    <tr style=\"text-align: right;\">\n",
       "      <th></th>\n",
       "      <th>0</th>\n",
       "      <th>1</th>\n",
       "      <th>2</th>\n",
       "      <th>3</th>\n",
       "      <th>4</th>\n",
       "      <th>5</th>\n",
       "      <th>6</th>\n",
       "      <th>7</th>\n",
       "      <th>8</th>\n",
       "    </tr>\n",
       "  </thead>\n",
       "  <tbody>\n",
       "    <tr>\n",
       "      <th>0</th>\n",
       "      <td>sourcecred</td>\n",
       "      <td>git</td>\n",
       "      <td>COMMIT</td>\n",
       "      <td>007cf88172d7ea9b0cdada78f124f7a41b811b30</td>\n",
       "      <td>None</td>\n",
       "      <td>None</td>\n",
       "      <td>None</td>\n",
       "      <td>None</td>\n",
       "      <td>None</td>\n",
       "    </tr>\n",
       "    <tr>\n",
       "      <th>1</th>\n",
       "      <td>sourcecred</td>\n",
       "      <td>git</td>\n",
       "      <td>COMMIT</td>\n",
       "      <td>00bc9a94616d867c9e66ef77bfb239e578d3569e</td>\n",
       "      <td>None</td>\n",
       "      <td>None</td>\n",
       "      <td>None</td>\n",
       "      <td>None</td>\n",
       "      <td>None</td>\n",
       "    </tr>\n",
       "    <tr>\n",
       "      <th>2</th>\n",
       "      <td>sourcecred</td>\n",
       "      <td>git</td>\n",
       "      <td>COMMIT</td>\n",
       "      <td>00da630bb29708fc34cce66069812d3c5a63ba79</td>\n",
       "      <td>None</td>\n",
       "      <td>None</td>\n",
       "      <td>None</td>\n",
       "      <td>None</td>\n",
       "      <td>None</td>\n",
       "    </tr>\n",
       "    <tr>\n",
       "      <th>3</th>\n",
       "      <td>sourcecred</td>\n",
       "      <td>git</td>\n",
       "      <td>COMMIT</td>\n",
       "      <td>00e2a674778ad43eede379b6666b84b2205ce2ee</td>\n",
       "      <td>None</td>\n",
       "      <td>None</td>\n",
       "      <td>None</td>\n",
       "      <td>None</td>\n",
       "      <td>None</td>\n",
       "    </tr>\n",
       "    <tr>\n",
       "      <th>4</th>\n",
       "      <td>sourcecred</td>\n",
       "      <td>git</td>\n",
       "      <td>COMMIT</td>\n",
       "      <td>01071866be710d194689e16b3654a0edb2fc46b3</td>\n",
       "      <td>None</td>\n",
       "      <td>None</td>\n",
       "      <td>None</td>\n",
       "      <td>None</td>\n",
       "      <td>None</td>\n",
       "    </tr>\n",
       "  </tbody>\n",
       "</table>\n",
       "</div>"
      ],
      "text/plain": [
       "            0    1       2                                         3     4  \\\n",
       "0  sourcecred  git  COMMIT  007cf88172d7ea9b0cdada78f124f7a41b811b30  None   \n",
       "1  sourcecred  git  COMMIT  00bc9a94616d867c9e66ef77bfb239e578d3569e  None   \n",
       "2  sourcecred  git  COMMIT  00da630bb29708fc34cce66069812d3c5a63ba79  None   \n",
       "3  sourcecred  git  COMMIT  00e2a674778ad43eede379b6666b84b2205ce2ee  None   \n",
       "4  sourcecred  git  COMMIT  01071866be710d194689e16b3654a0edb2fc46b3  None   \n",
       "\n",
       "      5     6     7     8  \n",
       "0  None  None  None  None  \n",
       "1  None  None  None  None  \n",
       "2  None  None  None  None  \n",
       "3  None  None  None  None  \n",
       "4  None  None  None  None  "
      ]
     },
     "execution_count": 10,
     "metadata": {},
     "output_type": "execute_result"
    }
   ],
   "source": [
    "ndf.head()"
   ]
  },
  {
   "cell_type": "code",
   "execution_count": 11,
   "metadata": {},
   "outputs": [
    {
     "name": "stdout",
     "output_type": "stream",
     "text": [
      "0\n",
      "['sourcecred']\n",
      "\n",
      "1\n",
      "['git' 'github']\n",
      "\n",
      "2\n",
      "['COMMIT' 'COMMENT' 'ISSUE' 'PULL' 'REPO' 'REVIEW' 'USERLIKE']\n",
      "\n",
      "3\n",
      "['007cf88172d7ea9b0cdada78f124f7a41b811b30'\n",
      " '00bc9a94616d867c9e66ef77bfb239e578d3569e'\n",
      " '00da630bb29708fc34cce66069812d3c5a63ba79'\n",
      " '00e2a674778ad43eede379b6666b84b2205ce2ee'\n",
      " '01071866be710d194689e16b3654a0edb2fc46b3'\n",
      " '011e9a755befa499a1e2e254379f5b261bc5305c'\n",
      " '0128df8c1871db9f3e09719b8bfff31b862d5083'\n",
      " '0149d74971dae0f791b0b8761641f88333a79f61'\n",
      " '01510ca63f511335b4125bb5d1f414bcc3a9687d'\n",
      " '01634aabcca3756b38e13aaf2f451cfbda2ad5ea']\n",
      "\n",
      "4\n",
      "[None 'sourcecred' '000drax' 'AChildAtPlay' 'BrianLitwin' 'DeepAndy'\n",
      " 'Dim25' 'Recmo' 'ajbouh' 'anthrocypher']\n",
      "\n",
      "5\n",
      "[None 'sourcecred' '1004' '1011' '1019' '1020' '1021' '1022' '1023' '1027']\n",
      "\n",
      "6\n",
      "[None '1004' '1019' '1020' '1021' '1023' '1027' '1028' '103' '1033']\n",
      "\n",
      "7\n",
      "[None '437639471' '437713677' '437715066' '438340491' '439641568'\n",
      " '439726352' '440105645' '441301857' '441308649']\n",
      "\n",
      "8\n",
      "[None '165852057' '175968709' '234392807' '234392898' '234392952'\n",
      " '234393296' '234393373' '234395328' '234395347']\n",
      "\n"
     ]
    }
   ],
   "source": [
    "for c in ndf.columns:\n",
    "    print(c)\n",
    "    result = ndf[c].unique()\n",
    "    if len(result)>10:\n",
    "        print(result[:10])\n",
    "    else:\n",
    "        print(result)\n",
    "        \n",
    "    print(\"\")"
   ]
  },
  {
   "cell_type": "code",
   "execution_count": 12,
   "metadata": {},
   "outputs": [
    {
     "data": {
      "text/plain": [
       "[{'srcIndex': 0,\n",
       "  'dstIndex': 736,\n",
       "  'address': ['sourcecred',\n",
       "   'git',\n",
       "   'HAS_PARENT',\n",
       "   '2',\n",
       "   'COMMIT',\n",
       "   '007cf88172d7ea9b0cdada78f124f7a41b811b30',\n",
       "   '2',\n",
       "   'COMMIT',\n",
       "   'd310561b9473ecaa0e22da3dac089ab61df2f723']},\n",
       " {'srcIndex': 1,\n",
       "  'dstIndex': 844,\n",
       "  'address': ['sourcecred',\n",
       "   'git',\n",
       "   'HAS_PARENT',\n",
       "   '2',\n",
       "   'COMMIT',\n",
       "   '00bc9a94616d867c9e66ef77bfb239e578d3569e',\n",
       "   '2',\n",
       "   'COMMIT',\n",
       "   'f100cd02ccabdab93a502f777fdce268b88a0db5']},\n",
       " {'srcIndex': 2,\n",
       "  'dstIndex': 322,\n",
       "  'address': ['sourcecred',\n",
       "   'git',\n",
       "   'HAS_PARENT',\n",
       "   '2',\n",
       "   'COMMIT',\n",
       "   '00da630bb29708fc34cce66069812d3c5a63ba79',\n",
       "   '2',\n",
       "   'COMMIT',\n",
       "   '59ac10b6126ac2d4c9912e93b13e6b4d8edfa986']},\n",
       " {'srcIndex': 3,\n",
       "  'dstIndex': 134,\n",
       "  'address': ['sourcecred',\n",
       "   'git',\n",
       "   'HAS_PARENT',\n",
       "   '2',\n",
       "   'COMMIT',\n",
       "   '00e2a674778ad43eede379b6666b84b2205ce2ee',\n",
       "   '2',\n",
       "   'COMMIT',\n",
       "   '233bec4f5e80a8deee915c91cc86f2c1c1ff328e']},\n",
       " {'srcIndex': 4,\n",
       "  'dstIndex': 184,\n",
       "  'address': ['sourcecred',\n",
       "   'git',\n",
       "   'HAS_PARENT',\n",
       "   '2',\n",
       "   'COMMIT',\n",
       "   '01071866be710d194689e16b3654a0edb2fc46b3',\n",
       "   '2',\n",
       "   'COMMIT',\n",
       "   '2d28bd5de4e29b859be5732b520e6a7168d003c5']}]"
      ]
     },
     "execution_count": 12,
     "metadata": {},
     "output_type": "execute_result"
    }
   ],
   "source": [
    "data[1]['edges'][:5]"
   ]
  },
  {
   "cell_type": "code",
   "execution_count": 13,
   "metadata": {},
   "outputs": [],
   "source": [
    "edge_data = data[1]['edges']"
   ]
  },
  {
   "cell_type": "code",
   "execution_count": 14,
   "metadata": {},
   "outputs": [
    {
     "data": {
      "text/plain": [
       "dict_keys(['srcIndex', 'dstIndex', 'address'])"
      ]
     },
     "execution_count": 14,
     "metadata": {},
     "output_type": "execute_result"
    }
   ],
   "source": [
    "edge_data[0].keys()"
   ]
  },
  {
   "cell_type": "code",
   "execution_count": 15,
   "metadata": {},
   "outputs": [
    {
     "data": {
      "text/plain": [
       "0"
      ]
     },
     "execution_count": 15,
     "metadata": {},
     "output_type": "execute_result"
    }
   ],
   "source": [
    "edge_data[0]['srcIndex']"
   ]
  },
  {
   "cell_type": "code",
   "execution_count": 16,
   "metadata": {},
   "outputs": [
    {
     "data": {
      "text/plain": [
       "['sourcecred',\n",
       " 'git',\n",
       " 'HAS_PARENT',\n",
       " '2',\n",
       " 'COMMIT',\n",
       " '007cf88172d7ea9b0cdada78f124f7a41b811b30',\n",
       " '2',\n",
       " 'COMMIT',\n",
       " 'd310561b9473ecaa0e22da3dac089ab61df2f723']"
      ]
     },
     "execution_count": 16,
     "metadata": {},
     "output_type": "execute_result"
    }
   ],
   "source": [
    "edge_data[0]['address']"
   ]
  },
  {
   "cell_type": "code",
   "execution_count": 17,
   "metadata": {},
   "outputs": [],
   "source": [
    "edf = pd.DataFrame([ [edge_data[r]['srcIndex'],edge_data[r]['dstIndex'] ] + edge_data[0]['address']\n",
    "                    for r in range(len(edge_data))])"
   ]
  },
  {
   "cell_type": "code",
   "execution_count": 18,
   "metadata": {},
   "outputs": [
    {
     "data": {
      "text/html": [
       "<div>\n",
       "<style scoped>\n",
       "    .dataframe tbody tr th:only-of-type {\n",
       "        vertical-align: middle;\n",
       "    }\n",
       "\n",
       "    .dataframe tbody tr th {\n",
       "        vertical-align: top;\n",
       "    }\n",
       "\n",
       "    .dataframe thead th {\n",
       "        text-align: right;\n",
       "    }\n",
       "</style>\n",
       "<table border=\"1\" class=\"dataframe\">\n",
       "  <thead>\n",
       "    <tr style=\"text-align: right;\">\n",
       "      <th></th>\n",
       "      <th>0</th>\n",
       "      <th>1</th>\n",
       "      <th>2</th>\n",
       "      <th>3</th>\n",
       "      <th>4</th>\n",
       "      <th>5</th>\n",
       "      <th>6</th>\n",
       "      <th>7</th>\n",
       "      <th>8</th>\n",
       "      <th>9</th>\n",
       "      <th>10</th>\n",
       "    </tr>\n",
       "  </thead>\n",
       "  <tbody>\n",
       "    <tr>\n",
       "      <th>0</th>\n",
       "      <td>0</td>\n",
       "      <td>736</td>\n",
       "      <td>sourcecred</td>\n",
       "      <td>git</td>\n",
       "      <td>HAS_PARENT</td>\n",
       "      <td>2</td>\n",
       "      <td>COMMIT</td>\n",
       "      <td>007cf88172d7ea9b0cdada78f124f7a41b811b30</td>\n",
       "      <td>2</td>\n",
       "      <td>COMMIT</td>\n",
       "      <td>d310561b9473ecaa0e22da3dac089ab61df2f723</td>\n",
       "    </tr>\n",
       "    <tr>\n",
       "      <th>1</th>\n",
       "      <td>1</td>\n",
       "      <td>844</td>\n",
       "      <td>sourcecred</td>\n",
       "      <td>git</td>\n",
       "      <td>HAS_PARENT</td>\n",
       "      <td>2</td>\n",
       "      <td>COMMIT</td>\n",
       "      <td>007cf88172d7ea9b0cdada78f124f7a41b811b30</td>\n",
       "      <td>2</td>\n",
       "      <td>COMMIT</td>\n",
       "      <td>d310561b9473ecaa0e22da3dac089ab61df2f723</td>\n",
       "    </tr>\n",
       "    <tr>\n",
       "      <th>2</th>\n",
       "      <td>2</td>\n",
       "      <td>322</td>\n",
       "      <td>sourcecred</td>\n",
       "      <td>git</td>\n",
       "      <td>HAS_PARENT</td>\n",
       "      <td>2</td>\n",
       "      <td>COMMIT</td>\n",
       "      <td>007cf88172d7ea9b0cdada78f124f7a41b811b30</td>\n",
       "      <td>2</td>\n",
       "      <td>COMMIT</td>\n",
       "      <td>d310561b9473ecaa0e22da3dac089ab61df2f723</td>\n",
       "    </tr>\n",
       "    <tr>\n",
       "      <th>3</th>\n",
       "      <td>3</td>\n",
       "      <td>134</td>\n",
       "      <td>sourcecred</td>\n",
       "      <td>git</td>\n",
       "      <td>HAS_PARENT</td>\n",
       "      <td>2</td>\n",
       "      <td>COMMIT</td>\n",
       "      <td>007cf88172d7ea9b0cdada78f124f7a41b811b30</td>\n",
       "      <td>2</td>\n",
       "      <td>COMMIT</td>\n",
       "      <td>d310561b9473ecaa0e22da3dac089ab61df2f723</td>\n",
       "    </tr>\n",
       "    <tr>\n",
       "      <th>4</th>\n",
       "      <td>4</td>\n",
       "      <td>184</td>\n",
       "      <td>sourcecred</td>\n",
       "      <td>git</td>\n",
       "      <td>HAS_PARENT</td>\n",
       "      <td>2</td>\n",
       "      <td>COMMIT</td>\n",
       "      <td>007cf88172d7ea9b0cdada78f124f7a41b811b30</td>\n",
       "      <td>2</td>\n",
       "      <td>COMMIT</td>\n",
       "      <td>d310561b9473ecaa0e22da3dac089ab61df2f723</td>\n",
       "    </tr>\n",
       "  </tbody>\n",
       "</table>\n",
       "</div>"
      ],
      "text/plain": [
       "   0    1           2    3           4  5       6   \\\n",
       "0   0  736  sourcecred  git  HAS_PARENT  2  COMMIT   \n",
       "1   1  844  sourcecred  git  HAS_PARENT  2  COMMIT   \n",
       "2   2  322  sourcecred  git  HAS_PARENT  2  COMMIT   \n",
       "3   3  134  sourcecred  git  HAS_PARENT  2  COMMIT   \n",
       "4   4  184  sourcecred  git  HAS_PARENT  2  COMMIT   \n",
       "\n",
       "                                         7  8       9   \\\n",
       "0  007cf88172d7ea9b0cdada78f124f7a41b811b30  2  COMMIT   \n",
       "1  007cf88172d7ea9b0cdada78f124f7a41b811b30  2  COMMIT   \n",
       "2  007cf88172d7ea9b0cdada78f124f7a41b811b30  2  COMMIT   \n",
       "3  007cf88172d7ea9b0cdada78f124f7a41b811b30  2  COMMIT   \n",
       "4  007cf88172d7ea9b0cdada78f124f7a41b811b30  2  COMMIT   \n",
       "\n",
       "                                         10  \n",
       "0  d310561b9473ecaa0e22da3dac089ab61df2f723  \n",
       "1  d310561b9473ecaa0e22da3dac089ab61df2f723  \n",
       "2  d310561b9473ecaa0e22da3dac089ab61df2f723  \n",
       "3  d310561b9473ecaa0e22da3dac089ab61df2f723  \n",
       "4  d310561b9473ecaa0e22da3dac089ab61df2f723  "
      ]
     },
     "execution_count": 18,
     "metadata": {},
     "output_type": "execute_result"
    }
   ],
   "source": [
    "edf.head()"
   ]
  },
  {
   "cell_type": "code",
   "execution_count": 19,
   "metadata": {},
   "outputs": [
    {
     "name": "stdout",
     "output_type": "stream",
     "text": [
      "0\n",
      "[0 1 2 3 4 5 6 7 8 9]\n",
      "\n",
      "1\n",
      "[736 844 322 134 184 133 627 788 734 789]\n",
      "\n",
      "2\n",
      "['sourcecred']\n",
      "\n",
      "3\n",
      "['git']\n",
      "\n",
      "4\n",
      "['HAS_PARENT']\n",
      "\n",
      "5\n",
      "['2']\n",
      "\n",
      "6\n",
      "['COMMIT']\n",
      "\n",
      "7\n",
      "['007cf88172d7ea9b0cdada78f124f7a41b811b30']\n",
      "\n",
      "8\n",
      "['2']\n",
      "\n",
      "9\n",
      "['COMMIT']\n",
      "\n",
      "10\n",
      "['d310561b9473ecaa0e22da3dac089ab61df2f723']\n",
      "\n"
     ]
    }
   ],
   "source": [
    "for c in edf.columns:\n",
    "    print(c)\n",
    "    result = edf[c].unique()\n",
    "    if len(result)>10:\n",
    "        print(result[:10])\n",
    "    else:\n",
    "        print(result)\n",
    "        \n",
    "    print(\"\")"
   ]
  },
  {
   "cell_type": "code",
   "execution_count": 20,
   "metadata": {},
   "outputs": [],
   "source": [
    "G = nx.Graph()\n",
    "\n",
    "for r in range(len(edge_data)):\n",
    "    G.add_edge(edge_data[r]['srcIndex'], edge_data[r]['dstIndex'])"
   ]
  },
  {
   "cell_type": "markdown",
   "metadata": {},
   "source": [
    "I think it would make sense to try to structure the data in one of these formats. What you have alread isn't that far from the first one in the link below.\n",
    "\n",
    "https://networkx.github.io/documentation/stable/reference/readwrite/json_graph.html\n",
    "\n",
    "the fact is we'll probably want to be doing both graph generators and graph analysis with networkX \n",
    "\n",
    "https://networkx.github.io/documentation/stable/_downloads/networkx_reference.pdf\n",
    "\n",
    "so it would make it a lot smoother to move between reality and R&D if the data formats matched."
   ]
  },
  {
   "cell_type": "code",
   "execution_count": 21,
   "metadata": {
    "scrolled": false
   },
   "outputs": [],
   "source": [
    "h = nx.degree_histogram(G)"
   ]
  },
  {
   "cell_type": "code",
   "execution_count": 22,
   "metadata": {},
   "outputs": [
    {
     "data": {
      "image/png": "[encoded data removed]",
      "text/plain": [
       "<Figure size 432x288 with 1 Axes>"
      ]
     },
     "metadata": {
      "needs_background": "light"
     },
     "output_type": "display_data"
    }
   ],
   "source": [
    "plt.hist(h)\n",
    "plt.yscale('log')"
   ]
  },
  {
   "cell_type": "code",
   "execution_count": 23,
   "metadata": {},
   "outputs": [
    {
     "name": "stderr",
     "output_type": "stream",
     "text": [
      "/anaconda3/lib/python3.6/site-packages/networkx/drawing/nx_pylab.py:611: MatplotlibDeprecationWarning: isinstance(..., numbers.Number)\n",
      "  if cb.is_numlike(alpha):\n"
     ]
    },
    {
     "data": {
      "image/png": "[encoded data removed]",
      "text/plain": [
       "<Figure size 432x288 with 1 Axes>"
      ]
     },
     "metadata": {},
     "output_type": "display_data"
    }
   ],
   "source": [
    "#drawing here is pretty lame without more attention to layout but you solve for you own positions\n",
    "#this is a hybrid of random and circular because the simple algs were trivially useless\n",
    "#and the complex algorithms couldn't compute in reasonable time\n",
    "\n",
    "deg = nx.degree(G)\n",
    "N = len(G.nodes)\n",
    "r1 = 1\n",
    "t1 = 10\n",
    "r2 = 400\n",
    "t2 = 20\n",
    "r3 = 1000\n",
    "\n",
    "def get_pos(r, n, rv=True):\n",
    "    if rv:\n",
    "        rvx = np.random.rand()\n",
    "        rvy = np.random.rand()\n",
    "    else:\n",
    "        rvx = 1\n",
    "        rvy = 1\n",
    "    \n",
    "    return np.array([r*rvx*np.cos(2*np.pi*n/N) , r*rvy*np.sin(2*np.pi*n/N) ])\n",
    "\n",
    "pos = {}\n",
    "for n in G.nodes:\n",
    "    if deg[n]<t1:\n",
    "        pos[n] = get_pos(r1, n)\n",
    "    elif deg[n]<t2:\n",
    "        pos[n] = get_pos(r2, n)\n",
    "    else :\n",
    "        pos[n] = get_pos(r3, n)\n",
    "\n",
    "nx.draw(G, pos)"
   ]
  },
  {
   "cell_type": "markdown",
   "metadata": {},
   "source": [
    "Nothing particularly interesting until we get the Graph objects \"G\" correctly labeled with all the meta data so we can use the more fun features of networkX."
   ]
  }
 ],
 "metadata": {
  "kernelspec": {
   "display_name": "Python 3",
   "language": "python",
   "name": "python3"
  },
  "language_info": {
   "codemirror_mode": {
    "name": "ipython",
    "version": 3
   },
   "file_extension": ".py",
   "mimetype": "text/x-python",
   "name": "python",
   "nbconvert_exporter": "python",
   "pygments_lexer": "ipython3",
   "version": "3.6.8"
  }
 },
 "nbformat": 4,
 "nbformat_minor": 2
}
