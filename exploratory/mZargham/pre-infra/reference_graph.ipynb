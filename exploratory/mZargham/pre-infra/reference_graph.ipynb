{
 "cells": [
  {
   "cell_type": "code",
   "execution_count": 1,
   "metadata": {},
   "outputs": [],
   "source": [
    "import numpy as np\n",
    "import pandas as pd\n",
    "import networkx as nx\n",
    "import json\n",
    "import os\n",
    "import page_ranker as pr\n",
    "import inspect_subgraph as isg\n",
    "\n",
    "import matplotlib.pyplot as plt\n",
    "%matplotlib inline"
   ]
  },
  {
   "cell_type": "code",
   "execution_count": 2,
   "metadata": {},
   "outputs": [],
   "source": [
    "cwd = os.getcwd()\n",
    "\n",
    "dir_as_list = cwd.split('/')\n",
    "base_path=''\n",
    "go = True\n",
    "i=0\n",
    "while go:\n",
    "    base_path= base_path+dir_as_list[i]+'/'\n",
    "    if dir_as_list[i]=='research':\n",
    "        go = False\n",
    "    i=i+1\n",
    "    \n",
    "rel_path = \"sample-graphs/sourcecred_sourcecred.json\"\n",
    "\n",
    "abs_file_path = os.path.abspath(os.path.join(base_path, rel_path))"
   ]
  },
  {
   "cell_type": "code",
   "execution_count": 3,
   "metadata": {},
   "outputs": [],
   "source": [
    "import sys\n",
    "infra_path = 'infra/'\n",
    "sys.path.insert(0, os.path.join(base_path, infra_path))\n",
    "import import_graph as ig"
   ]
  },
  {
   "cell_type": "code",
   "execution_count": 4,
   "metadata": {},
   "outputs": [],
   "source": [
    "with open(abs_file_path) as json_file:  \n",
    "    data = json.load(json_file)"
   ]
  },
  {
   "cell_type": "code",
   "execution_count": 5,
   "metadata": {},
   "outputs": [],
   "source": [
    "G = ig.json_to_graph(data)"
   ]
  },
  {
   "cell_type": "code",
   "execution_count": 6,
   "metadata": {},
   "outputs": [
    {
     "name": "stdout",
     "output_type": "stream",
     "text": [
      "nodes\n",
      "4130\n",
      "{'address': ('sourcecred', 'github', 'PULL', 'sourcecred', 'sourcecred', '708'), 'type': 'github/pull', 'color': (0.0, 0.503921568627451, 1.0, 1.0), 'label': 'pull'}\n",
      "3035\n",
      "{'address': ('sourcecred', 'github', 'COMMENT', 'REVIEW', 'sourcecred', 'sourcecred', '708', '151528085', '214458072'), 'type': 'github/comment', 'color': (0.4901960784313725, 1.0, 0.4775458570524984, 1.0), 'label': 'comment'}\n",
      "5652\n",
      "{'address': ('sourcecred', 'github', 'REVIEW', 'sourcecred', 'sourcecred', '708', '151528085'), 'type': 'github/review', 'color': (1.0, 0.5816993464052289, 0.0, 1.0), 'label': 'review'}\n",
      "6077\n",
      "{'address': ('sourcecred', 'github', 'USERLIKE', 'USER', 'wchargin'), 'type': 'github/user', 'color': (0.0, 0.0, 0.5, 1.0), 'label': 'wchargin'}\n",
      "\n",
      "edges\n",
      "(3035, 5652, 0)\n",
      "{'address': ('sourcecred', 'github', 'HAS_PARENT', '9', 'sourcecred', 'github', 'COMMENT', 'REVIEW', 'sourcecred', 'sourcecred', '708', '151528085', '214458072'), 'type': 'github/hasParent'}\n",
      "(5652, 4130, 0)\n",
      "{'address': ('sourcecred', 'github', 'HAS_PARENT', '7', 'sourcecred', 'github', 'REVIEW', 'sourcecred', 'sourcecred', '708', '151528085'), 'type': 'github/hasParent'}\n",
      "(6077, 3035, 0)\n",
      "{'address': ('sourcecred', 'github', 'AUTHORS', '5', 'sourcecred', 'github', 'USERLIKE', 'USER', 'wchargin', '9', 'sourcecred', 'github', 'COMMENT', 'REVIEW', 'sourcecred', 'sourcecred', '708', '151528085', '214458072'), 'type': 'github/authors'}\n",
      "(6077, 5652, 0)\n",
      "{'address': ('sourcecred', 'github', 'AUTHORS', '5', 'sourcecred', 'github', 'USERLIKE', 'USER', 'wchargin', '7', 'sourcecred', 'github', 'REVIEW', 'sourcecred', 'sourcecred', '708', '151528085'), 'type': 'github/authors'}\n"
     ]
    },
    {
     "data": {
      "image/png": "[encoded data removed]",
      "text/plain": [
       "<matplotlib.figure.Figure at 0x11633a470>"
      ]
     },
     "metadata": {},
     "output_type": "display_data"
    }
   ],
   "source": [
    "isg.inspectSubGraph(G, [3035,5652], expand=True, verbose=True, label=True,pos = \"kk\")"
   ]
  },
  {
   "cell_type": "code",
   "execution_count": 7,
   "metadata": {},
   "outputs": [],
   "source": [
    "#use the above subgraph as a simple reference case: \"comment on my own review\""
   ]
  },
  {
   "cell_type": "code",
   "execution_count": 8,
   "metadata": {},
   "outputs": [
    {
     "name": "stdout",
     "output_type": "stream",
     "text": [
      "nodes\n",
      "4000\n",
      "{'address': ('sourcecred', 'github', 'PULL', 'sourcecred', 'sourcecred', '557'), 'type': 'github/pull', 'color': (0.0, 0.503921568627451, 1.0, 1.0), 'label': 'pull'}\n",
      "2897\n",
      "{'address': ('sourcecred', 'github', 'COMMENT', 'REVIEW', 'sourcecred', 'sourcecred', '557', '141306711', '205932030'), 'type': 'github/comment', 'color': (0.4901960784313725, 1.0, 0.4775458570524984, 1.0), 'label': 'comment'}\n",
      "5443\n",
      "{'address': ('sourcecred', 'github', 'REVIEW', 'sourcecred', 'sourcecred', '557', '141306711'), 'type': 'github/review', 'color': (1.0, 0.5816993464052289, 0.0, 1.0), 'label': 'review'}\n",
      "6077\n",
      "{'address': ('sourcecred', 'github', 'USERLIKE', 'USER', 'wchargin'), 'type': 'github/user', 'color': (0.0, 0.0, 0.5, 1.0), 'label': 'wchargin'}\n",
      "\n",
      "edges\n",
      "(2897, 5443, 0)\n",
      "{'address': ('sourcecred', 'github', 'HAS_PARENT', '9', 'sourcecred', 'github', 'COMMENT', 'REVIEW', 'sourcecred', 'sourcecred', '557', '141306711', '205932030'), 'type': 'github/hasParent'}\n",
      "(5443, 4000, 0)\n",
      "{'address': ('sourcecred', 'github', 'HAS_PARENT', '7', 'sourcecred', 'github', 'REVIEW', 'sourcecred', 'sourcecred', '557', '141306711'), 'type': 'github/hasParent'}\n",
      "(6077, 4000, 0)\n",
      "{'address': ('sourcecred', 'github', 'AUTHORS', '5', 'sourcecred', 'github', 'USERLIKE', 'USER', 'wchargin', '6', 'sourcecred', 'github', 'PULL', 'sourcecred', 'sourcecred', '557'), 'type': 'github/authors'}\n",
      "(6077, 2897, 0)\n",
      "{'address': ('sourcecred', 'github', 'AUTHORS', '5', 'sourcecred', 'github', 'USERLIKE', 'USER', 'wchargin', '9', 'sourcecred', 'github', 'COMMENT', 'REVIEW', 'sourcecred', 'sourcecred', '557', '141306711', '205932030'), 'type': 'github/authors'}\n",
      "(6077, 5443, 0)\n",
      "{'address': ('sourcecred', 'github', 'AUTHORS', '5', 'sourcecred', 'github', 'USERLIKE', 'USER', 'wchargin', '7', 'sourcecred', 'github', 'REVIEW', 'sourcecred', 'sourcecred', '557', '141306711'), 'type': 'github/authors'}\n"
     ]
    },
    {
     "data": {
      "image/png": "[encoded data removed]",
      "text/plain": [
       "<matplotlib.figure.Figure at 0x11532ff60>"
      ]
     },
     "metadata": {},
     "output_type": "display_data"
    }
   ],
   "source": [
    "#comment on your own review then pull\n",
    "isg.inspectSubGraph(G, [5443,2897], expand=True, verbose=True, label=True,pos = \"kk\")"
   ]
  },
  {
   "cell_type": "code",
   "execution_count": 9,
   "metadata": {},
   "outputs": [
    {
     "name": "stdout",
     "output_type": "stream",
     "text": [
      "nodes\n",
      "5007\n",
      "{'address': ('sourcecred', 'github', 'REVIEW', 'sourcecred', 'sourcecred', '305', '123797511'), 'type': 'github/review', 'color': (1.0, 0.5816993464052289, 0.0, 1.0), 'label': 'review'}\n",
      "3746\n",
      "{'address': ('sourcecred', 'github', 'PULL', 'sourcecred', 'sourcecred', '305'), 'type': 'github/pull', 'color': (0.0, 0.503921568627451, 1.0, 1.0), 'label': 'pull'}\n",
      "6059\n",
      "{'address': ('sourcecred', 'github', 'USERLIKE', 'USER', 'decentralion'), 'type': 'github/user', 'color': (0.0, 0.0, 0.5, 1.0), 'label': 'decentralion'}\n",
      "2495\n",
      "{'address': ('sourcecred', 'github', 'COMMENT', 'REVIEW', 'sourcecred', 'sourcecred', '305', '123797511', '191260475'), 'type': 'github/comment', 'color': (0.4901960784313725, 1.0, 0.4775458570524984, 1.0), 'label': 'comment'}\n",
      "\n",
      "edges\n",
      "(5007, 3746, 0)\n",
      "{'address': ('sourcecred', 'github', 'HAS_PARENT', '7', 'sourcecred', 'github', 'REVIEW', 'sourcecred', 'sourcecred', '305', '123797511'), 'type': 'github/hasParent'}\n",
      "(3746, 3746, 0)\n",
      "{'address': ('sourcecred', 'github', 'MENTIONS_AUTHOR', '6', 'sourcecred', 'github', 'PULL', 'sourcecred', 'sourcecred', '305', '6', 'sourcecred', 'github', 'PULL', 'sourcecred', 'sourcecred', '305', '5', 'sourcecred', 'github', 'USERLIKE', 'USER', 'wchargin'), 'type': 'github/mentionsAuthor'}\n",
      "(6059, 5007, 0)\n",
      "{'address': ('sourcecred', 'github', 'AUTHORS', '5', 'sourcecred', 'github', 'USERLIKE', 'USER', 'decentralion', '7', 'sourcecred', 'github', 'REVIEW', 'sourcecred', 'sourcecred', '305', '123797511'), 'type': 'github/authors'}\n",
      "(6059, 3746, 0)\n",
      "{'address': ('sourcecred', 'github', 'AUTHORS', '5', 'sourcecred', 'github', 'USERLIKE', 'USER', 'decentralion', '6', 'sourcecred', 'github', 'PULL', 'sourcecred', 'sourcecred', '305'), 'type': 'github/authors'}\n",
      "(6059, 2495, 0)\n",
      "{'address': ('sourcecred', 'github', 'AUTHORS', '5', 'sourcecred', 'github', 'USERLIKE', 'USER', 'decentralion', '9', 'sourcecred', 'github', 'COMMENT', 'REVIEW', 'sourcecred', 'sourcecred', '305', '123797511', '191260475'), 'type': 'github/authors'}\n",
      "(2495, 5007, 0)\n",
      "{'address': ('sourcecred', 'github', 'HAS_PARENT', '9', 'sourcecred', 'github', 'COMMENT', 'REVIEW', 'sourcecred', 'sourcecred', '305', '123797511', '191260475'), 'type': 'github/hasParent'}\n"
     ]
    },
    {
     "data": {
      "image/png": "[encoded data removed]",
      "text/plain": [
       "<matplotlib.figure.Figure at 0x11859c3c8>"
      ]
     },
     "metadata": {},
     "output_type": "display_data"
    }
   ],
   "source": [
    "isg.inspectSubGraph(G, [5007,2495], expand=True, verbose=True, label=True,pos = \"kk\")"
   ]
  },
  {
   "cell_type": "code",
   "execution_count": 10,
   "metadata": {},
   "outputs": [
    {
     "data": {
      "image/png": "[encoded data removed]",
      "text/plain": [
       "<matplotlib.figure.Figure at 0x109d668d0>"
      ]
     },
     "metadata": {},
     "output_type": "display_data"
    }
   ],
   "source": [
    "isg.inspectSubGraph(G,[6077,6059,5007,2495,3746], expand=False, verbose=False, label=True,pos = \"kk\")"
   ]
  },
  {
   "cell_type": "code",
   "execution_count": 11,
   "metadata": {},
   "outputs": [],
   "source": [
    "ref = nx.subgraph(G,[6077,6059,5007,2495,3746])"
   ]
  },
  {
   "cell_type": "code",
   "execution_count": 12,
   "metadata": {},
   "outputs": [],
   "source": [
    "def extract_base_case(graph, bunch):\n",
    "    \n",
    "    ref_graph = nx.subgraph(graph,bunch)\n",
    "    num_nodes = len(ref_graph.nodes)\n",
    "    node_indices = range(num_nodes)\n",
    "    \n",
    "    node_maps = [n for n in ref_graph.nodes]\n",
    "    node_dict = {node_maps[i]:i for i in node_indices}\n",
    "    node_types = nx.get_node_attributes(ref_graph,'type')\n",
    "    edge_types = nx.get_edge_attributes(ref_graph,'type')\n",
    "    \n",
    "    mapped_node_types = {i:node_types[node_maps[i]] for i in node_indices}\n",
    "    \n",
    "    new_graph = nx.MultiDiGraph()\n",
    "    \n",
    "    for node in node_indices:\n",
    "        new_graph.add_node(node)\n",
    "        new_graph.nodes[node]['type'] = mapped_node_types[node]\n",
    "    \n",
    "    #new_graph.set_node_attibutes('type', mapped_node_types)\n",
    "    \n",
    "    mapped_edge_types = {}\n",
    "    for edge in ref_graph.edges:\n",
    "        old_edge_src = edge[0]\n",
    "        new_edge_src = node_dict[old_edge_src]\n",
    "        \n",
    "        old_edge_dst = edge[1]\n",
    "        new_edge_dst = node_dict[old_edge_dst]\n",
    "        \n",
    "        edge_counter = edge[2]\n",
    "        \n",
    "        new_graph.add_edge(new_edge_src,new_edge_dst)\n",
    "        \n",
    "        new_graph.edges[(new_edge_src,new_edge_dst,edge_counter)]['type']=edge_types[edge]\n",
    "    \n",
    "    \n",
    "    return new_graph, node_dict\n",
    "\n",
    "def add_comment(graph,comment_on, comment_by):\n",
    "    g = graph.copy()\n",
    "    node = len(g.nodes)\n",
    "    \n",
    "    if g.nodes[comment_by]['type'] != 'github/user':\n",
    "        print(\"comment_by type must be 'github/user'\")\n",
    "        \n",
    "    else:\n",
    "        g.add_node(node)\n",
    "        g.nodes[node]['type'] = 'github/comment'\n",
    "        \n",
    "        g.add_edge(node,comment_on)\n",
    "        g.edges[(node,comment_on,0)]['type'] = 'github/hasParent'\n",
    "        \n",
    "        g.add_edge(comment_by,node)\n",
    "        g.edges[(comment_by,node,0)]['type'] = 'github/authors'\n",
    "        \n",
    "    \n",
    "    return g"
   ]
  },
  {
   "cell_type": "code",
   "execution_count": 13,
   "metadata": {},
   "outputs": [],
   "source": [
    "bunch = [6077,6059,5007,2495,3746]"
   ]
  },
  {
   "cell_type": "code",
   "execution_count": 14,
   "metadata": {},
   "outputs": [],
   "source": [
    "G.add_node(len(G.nodes))"
   ]
  },
  {
   "cell_type": "code",
   "execution_count": 15,
   "metadata": {},
   "outputs": [
    {
     "data": {
      "text/plain": [
       "[3746, 6059, 5007, 6077, 2495]"
      ]
     },
     "execution_count": 15,
     "metadata": {},
     "output_type": "execute_result"
    }
   ],
   "source": [
    "[n for n in ref.nodes]"
   ]
  },
  {
   "cell_type": "code",
   "execution_count": 16,
   "metadata": {},
   "outputs": [],
   "source": [
    "rcg, nd=extract_base_case(G, bunch)"
   ]
  },
  {
   "cell_type": "code",
   "execution_count": 17,
   "metadata": {},
   "outputs": [
    {
     "name": "stdout",
     "output_type": "stream",
     "text": [
      "github/pull\n",
      "{'type': 'github/mentionsAuthor'}\n",
      "github/pull\n",
      "\n",
      "github/pull\n",
      "{'type': 'github/references'}\n",
      "github/user\n",
      "\n",
      "github/user\n",
      "{'type': 'github/authors'}\n",
      "github/pull\n",
      "\n",
      "github/user\n",
      "{'type': 'github/authors'}\n",
      "github/review\n",
      "\n",
      "github/user\n",
      "{'type': 'github/authors'}\n",
      "github/comment\n",
      "\n",
      "github/review\n",
      "{'type': 'github/hasParent'}\n",
      "github/pull\n",
      "\n",
      "github/user\n",
      "{'type': 'github/authors'}\n",
      "github/pull\n",
      "\n",
      "github/comment\n",
      "{'type': 'github/hasParent'}\n",
      "github/review\n",
      "\n"
     ]
    }
   ],
   "source": [
    "for e in rcg.edges:\n",
    "    print(rcg.nodes[e[0]]['type'])\n",
    "    print(rcg.edges[e])\n",
    "    print(rcg.nodes[e[1]]['type'])\n",
    "    print('')"
   ]
  },
  {
   "cell_type": "code",
   "execution_count": 18,
   "metadata": {},
   "outputs": [
    {
     "data": {
      "text/plain": [
       "{'address': ('sourcecred',\n",
       "  'git',\n",
       "  'COMMIT',\n",
       "  '007cf88172d7ea9b0cdada78f124f7a41b811b30'),\n",
       " 'type': 'git/commit'}"
      ]
     },
     "execution_count": 18,
     "metadata": {},
     "output_type": "execute_result"
    }
   ],
   "source": [
    "G.nodes[0]"
   ]
  },
  {
   "cell_type": "code",
   "execution_count": 19,
   "metadata": {},
   "outputs": [],
   "source": [
    "node_types = nx.get_node_attributes(ref,'type')"
   ]
  },
  {
   "cell_type": "code",
   "execution_count": 20,
   "metadata": {},
   "outputs": [],
   "source": [
    "edge_types = nx.get_edge_attributes(ref,'type')"
   ]
  },
  {
   "cell_type": "code",
   "execution_count": 21,
   "metadata": {},
   "outputs": [
    {
     "data": {
      "text/plain": [
       "{'type': 'github/pull'}"
      ]
     },
     "execution_count": 21,
     "metadata": {},
     "output_type": "execute_result"
    }
   ],
   "source": [
    "rcg.nodes[0]"
   ]
  },
  {
   "cell_type": "code",
   "execution_count": 22,
   "metadata": {},
   "outputs": [
    {
     "data": {
      "text/plain": [
       "{'type': 'github/authors'}"
      ]
     },
     "execution_count": 22,
     "metadata": {},
     "output_type": "execute_result"
    }
   ],
   "source": [
    "rcg.edges[(1,0,0)]"
   ]
  },
  {
   "cell_type": "code",
   "execution_count": 23,
   "metadata": {},
   "outputs": [
    {
     "data": {
      "text/plain": [
       "OutMultiEdgeView([(3746, 3746, 0), (3746, 6077, 0), (6059, 3746, 0), (6059, 5007, 0), (6059, 2495, 0), (5007, 3746, 0), (6077, 3746, 0), (2495, 5007, 0)])"
      ]
     },
     "execution_count": 23,
     "metadata": {},
     "output_type": "execute_result"
    }
   ],
   "source": [
    "ref.edges"
   ]
  },
  {
   "cell_type": "code",
   "execution_count": 24,
   "metadata": {},
   "outputs": [
    {
     "data": {
      "image/png": "[encoded data removed]",
      "text/plain": [
       "<matplotlib.figure.Figure at 0x1189f3cf8>"
      ]
     },
     "metadata": {},
     "output_type": "display_data"
    }
   ],
   "source": [
    "nx.draw_kamada_kawai(ref)"
   ]
  },
  {
   "cell_type": "code",
   "execution_count": 25,
   "metadata": {},
   "outputs": [
    {
     "data": {
      "image/png": "[encoded data removed]",
      "text/plain": [
       "<matplotlib.figure.Figure at 0x118bafc88>"
      ]
     },
     "metadata": {},
     "output_type": "display_data"
    }
   ],
   "source": [
    "nx.draw_kamada_kawai(rcg)"
   ]
  },
  {
   "cell_type": "code",
   "execution_count": 26,
   "metadata": {},
   "outputs": [
    {
     "data": {
      "text/plain": [
       "{'type': 'github/mentionsAuthor'}"
      ]
     },
     "execution_count": 26,
     "metadata": {},
     "output_type": "execute_result"
    }
   ],
   "source": [
    "rcg.edges[(0,0,0)]"
   ]
  },
  {
   "cell_type": "code",
   "execution_count": 27,
   "metadata": {},
   "outputs": [
    {
     "data": {
      "text/plain": [
       "{'address': ('sourcecred',\n",
       "  'github',\n",
       "  'MENTIONS_AUTHOR',\n",
       "  '6',\n",
       "  'sourcecred',\n",
       "  'github',\n",
       "  'PULL',\n",
       "  'sourcecred',\n",
       "  'sourcecred',\n",
       "  '305',\n",
       "  '6',\n",
       "  'sourcecred',\n",
       "  'github',\n",
       "  'PULL',\n",
       "  'sourcecred',\n",
       "  'sourcecred',\n",
       "  '305',\n",
       "  '5',\n",
       "  'sourcecred',\n",
       "  'github',\n",
       "  'USERLIKE',\n",
       "  'USER',\n",
       "  'wchargin'),\n",
       " 'type': 'github/mentionsAuthor'}"
      ]
     },
     "execution_count": 27,
     "metadata": {},
     "output_type": "execute_result"
    }
   ],
   "source": [
    "ref.edges[(3746, 3746, 0)]"
   ]
  },
  {
   "cell_type": "code",
   "execution_count": 28,
   "metadata": {},
   "outputs": [
    {
     "data": {
      "text/plain": [
       "'github/comment'"
      ]
     },
     "execution_count": 28,
     "metadata": {},
     "output_type": "execute_result"
    }
   ],
   "source": [
    "rcg.nodes[4]['type']"
   ]
  },
  {
   "cell_type": "code",
   "execution_count": 29,
   "metadata": {},
   "outputs": [
    {
     "data": {
      "text/plain": [
       "{'type': 'github/pull'}"
      ]
     },
     "execution_count": 29,
     "metadata": {},
     "output_type": "execute_result"
    }
   ],
   "source": [
    "rcg.nodes[0]"
   ]
  },
  {
   "cell_type": "code",
   "execution_count": 30,
   "metadata": {},
   "outputs": [
    {
     "data": {
      "text/plain": [
       "{2495: 4, 3746: 0, 5007: 2, 6059: 1, 6077: 3}"
      ]
     },
     "execution_count": 30,
     "metadata": {},
     "output_type": "execute_result"
    }
   ],
   "source": [
    "nd"
   ]
  },
  {
   "cell_type": "code",
   "execution_count": 34,
   "metadata": {},
   "outputs": [],
   "source": [
    "bunch = [6077,6059,5007,2495,3746]\n",
    "base_case, nd=extract_base_case(G, bunch)\n",
    "spam_graphs = {0:base_case}\n",
    "\n",
    "comment_count = 30\n",
    "for s in range(1,comment_count):\n",
    "    spam_graphs[s] = add_comment(spam_graphs[s-1],nd[5007] ,1)\n",
    "    \n",
    "\n",
    "#after constructing the spam graphs compare their page rank"
   ]
  },
  {
   "cell_type": "code",
   "execution_count": 35,
   "metadata": {},
   "outputs": [],
   "source": [
    "iterations = 20\n",
    "\n",
    "\n",
    "alpha = 0\n",
    "self_loop_wt = 1/1000"
   ]
  },
  {
   "cell_type": "code",
   "execution_count": 37,
   "metadata": {},
   "outputs": [],
   "source": [
    "\n",
    "\n",
    "results = {}\n",
    "ratio = np.zeros(comment_count)\n",
    "for s in range(comment_count):\n",
    "    r, df,_ = pr.pageRanker(spam_graphs[s],\n",
    "                         alpha,\n",
    "                         iterations,\n",
    "                         lazy=True,\n",
    "                         self_loop_wt=self_loop_wt)\n",
    "    results[s]=r\n",
    "    #print(sum(r))\n",
    "    ratio[s] = r[2]/r[3]\n",
    "    \n",
    "    "
   ]
  },
  {
   "cell_type": "code",
   "execution_count": 38,
   "metadata": {},
   "outputs": [
    {
     "data": {
      "text/plain": [
       "[<matplotlib.lines.Line2D at 0x118b9b908>]"
      ]
     },
     "execution_count": 38,
     "metadata": {},
     "output_type": "execute_result"
    },
    {
     "data": {
      "image/png": "[encoded data removed]",
      "text/plain": [
       "<matplotlib.figure.Figure at 0x118c6e5c0>"
      ]
     },
     "metadata": {},
     "output_type": "display_data"
    }
   ],
   "source": [
    "plt.plot(range(comment_count), ratio)"
   ]
  },
  {
   "cell_type": "code",
   "execution_count": 40,
   "metadata": {},
   "outputs": [
    {
     "data": {
      "image/png": "[encoded data removed]",
      "text/plain": [
       "<matplotlib.figure.Figure at 0x1189e3c88>"
      ]
     },
     "metadata": {},
     "output_type": "display_data"
    }
   ],
   "source": [
    "for s in range(comment_count):\n",
    "    plt.semilogy(results[s], '.')"
   ]
  },
  {
   "cell_type": "code",
   "execution_count": 44,
   "metadata": {},
   "outputs": [
    {
     "data": {
      "image/png": "[encoded data removed]",
      "text/plain": [
       "<matplotlib.figure.Figure at 0x112f64470>"
      ]
     },
     "metadata": {},
     "output_type": "display_data"
    }
   ],
   "source": [
    "nx.draw_kamada_kawai(base_case, node_size = results[0]*1000, alpha=.5)"
   ]
  },
  {
   "cell_type": "code",
   "execution_count": 61,
   "metadata": {},
   "outputs": [
    {
     "data": {
      "image/png": "[encoded data removed]",
      "text/plain": [
       "<matplotlib.figure.Figure at 0x10b4413c8>"
      ]
     },
     "metadata": {},
     "output_type": "display_data"
    }
   ],
   "source": [
    "for s in range(comment_count):\n",
    "for s in range(comment_count):    plt.bar(range(s+5),results[s], alpha=.3)"
   ]
  },
  {
   "cell_type": "code",
   "execution_count": 66,
   "metadata": {},
   "outputs": [
    {
     "data": {
      "text/plain": [
       "([<matplotlib.patches.Wedge at 0x1520585a20>,\n",
       "  <matplotlib.patches.Wedge at 0x1520585ef0>,\n",
       "  <matplotlib.patches.Wedge at 0x1137ec470>,\n",
       "  <matplotlib.patches.Wedge at 0x1137ec9b0>,\n",
       "  <matplotlib.patches.Wedge at 0x1137ecef0>,\n",
       "  <matplotlib.patches.Wedge at 0x113825470>,\n",
       "  <matplotlib.patches.Wedge at 0x1138259b0>,\n",
       "  <matplotlib.patches.Wedge at 0x113825ef0>,\n",
       "  <matplotlib.patches.Wedge at 0x1137f7470>,\n",
       "  <matplotlib.patches.Wedge at 0x1137f7978>,\n",
       "  <matplotlib.patches.Wedge at 0x152055f748>,\n",
       "  <matplotlib.patches.Wedge at 0x1137ee400>,\n",
       "  <matplotlib.patches.Wedge at 0x1137ee940>,\n",
       "  <matplotlib.patches.Wedge at 0x1137eee80>,\n",
       "  <matplotlib.patches.Wedge at 0x11375d400>,\n",
       "  <matplotlib.patches.Wedge at 0x11375d940>,\n",
       "  <matplotlib.patches.Wedge at 0x11375de80>,\n",
       "  <matplotlib.patches.Wedge at 0x11378b400>,\n",
       "  <matplotlib.patches.Wedge at 0x11378b940>,\n",
       "  <matplotlib.patches.Wedge at 0x11378be80>,\n",
       "  <matplotlib.patches.Wedge at 0x113763400>,\n",
       "  <matplotlib.patches.Wedge at 0x113763940>,\n",
       "  <matplotlib.patches.Wedge at 0x113763e80>,\n",
       "  <matplotlib.patches.Wedge at 0x113758400>,\n",
       "  <matplotlib.patches.Wedge at 0x113758940>,\n",
       "  <matplotlib.patches.Wedge at 0x113758e80>,\n",
       "  <matplotlib.patches.Wedge at 0x113789400>,\n",
       "  <matplotlib.patches.Wedge at 0x113789940>,\n",
       "  <matplotlib.patches.Wedge at 0x113789e80>,\n",
       "  <matplotlib.patches.Wedge at 0x113022400>,\n",
       "  <matplotlib.patches.Wedge at 0x113022940>,\n",
       "  <matplotlib.patches.Wedge at 0x113022e80>,\n",
       "  <matplotlib.patches.Wedge at 0x11305d400>,\n",
       "  <matplotlib.patches.Wedge at 0x11305d940>],\n",
       " [Text(0.460015,0.999193,''),\n",
       "  Text(-1.04696,0.337449,''),\n",
       "  Text(-0.870892,-0.671973,''),\n",
       "  Text(-0.205197,-1.08069,''),\n",
       "  Text(0.158557,-1.08851,''),\n",
       "  Text(0.210974,-1.07958,''),\n",
       "  Text(0.262899,-1.06812,''),\n",
       "  Text(0.314209,-1.05417,''),\n",
       "  Text(0.364785,-1.03775,''),\n",
       "  Text(0.414508,-1.01891,''),\n",
       "  Text(0.463263,-0.997691,''),\n",
       "  Text(0.510935,-0.974138,''),\n",
       "  Text(0.557414,-0.948309,''),\n",
       "  Text(0.60259,-0.920264,''),\n",
       "  Text(0.646358,-0.890068,''),\n",
       "  Text(0.688615,-0.857793,''),\n",
       "  Text(0.729264,-0.823513,''),\n",
       "  Text(0.768208,-0.787309,''),\n",
       "  Text(0.805358,-0.749266,''),\n",
       "  Text(0.840625,-0.709471,''),\n",
       "  Text(0.873928,-0.668019,''),\n",
       "  Text(0.90519,-0.625006,''),\n",
       "  Text(0.934335,-0.580532,''),\n",
       "  Text(0.961298,-0.534702,''),\n",
       "  Text(0.986015,-0.487622,''),\n",
       "  Text(1.00843,-0.439403,''),\n",
       "  Text(1.02848,-0.390157,''),\n",
       "  Text(1.04614,-0.339999,''),\n",
       "  Text(1.06134,-0.289047,''),\n",
       "  Text(1.07407,-0.23742,''),\n",
       "  Text(1.08429,-0.185238,''),\n",
       "  Text(1.09198,-0.132623,''),\n",
       "  Text(1.09711,-0.0796979,''),\n",
       "  Text(1.09968,-0.0265867,'')])"
      ]
     },
     "execution_count": 66,
     "metadata": {},
     "output_type": "execute_result"
    },
    {
     "data": {
      "image/png": "[encoded data removed]",
      "text/plain": [
       "<matplotlib.figure.Figure at 0x112e4ba58>"
      ]
     },
     "metadata": {},
     "output_type": "display_data"
    }
   ],
   "source": [
    "plt.pie(results[comment_count-1])"
   ]
  },
  {
   "cell_type": "code",
   "execution_count": 67,
   "metadata": {},
   "outputs": [
    {
     "data": {
      "text/plain": [
       "([<matplotlib.patches.Wedge at 0x118bdc438>,\n",
       "  <matplotlib.patches.Wedge at 0x118bdc908>,\n",
       "  <matplotlib.patches.Wedge at 0x118bdce48>,\n",
       "  <matplotlib.patches.Wedge at 0x118bea3c8>,\n",
       "  <matplotlib.patches.Wedge at 0x118bea908>],\n",
       " [Text(-0.489783,0.984943,''),\n",
       "  Text(-0.336093,-1.0474,''),\n",
       "  Text(0.201071,-1.08147,''),\n",
       "  Text(0.856215,-0.690576,''),\n",
       "  Text(1.09777,-0.0700381,'')])"
      ]
     },
     "execution_count": 67,
     "metadata": {},
     "output_type": "execute_result"
    },
    {
     "data": {
      "image/png": "[encoded data removed]",
      "text/plain": [
       "<matplotlib.figure.Figure at 0x112e46cc0>"
      ]
     },
     "metadata": {},
     "output_type": "display_data"
    }
   ],
   "source": [
    "plt.pie(results[0])"
   ]
  },
  {
   "cell_type": "code",
   "execution_count": null,
   "metadata": {},
   "outputs": [],
   "source": []
  }
 ],
 "metadata": {
  "kernelspec": {
   "display_name": "Python 3",
   "language": "python",
   "name": "python3"
  },
  "language_info": {
   "codemirror_mode": {
    "name": "ipython",
    "version": 3
   },
   "file_extension": ".py",
   "mimetype": "text/x-python",
   "name": "python",
   "nbconvert_exporter": "python",
   "pygments_lexer": "ipython3",
   "version": "3.6.4"
  }
 },
 "nbformat": 4,
 "nbformat_minor": 2
}
