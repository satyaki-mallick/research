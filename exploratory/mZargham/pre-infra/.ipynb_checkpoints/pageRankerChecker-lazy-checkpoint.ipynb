{
 "cells": [
  {
   "cell_type": "code",
   "execution_count": 1,
   "metadata": {},
   "outputs": [],
   "source": [
    "import numpy as np\n",
    "import pandas as pd\n",
    "import networkx as nx\n",
    "import json\n",
    "import os\n",
    "import page_ranker as pr\n",
    "import import_graph as ig\n",
    "import inspect_subgraph as isg\n",
    "\n",
    "import matplotlib.pyplot as plt\n",
    "%matplotlib inline"
   ]
  },
  {
   "cell_type": "code",
   "execution_count": 2,
   "metadata": {},
   "outputs": [],
   "source": [
    "cwd = os.getcwd()\n",
    "\n",
    "rel_path = \"sample_graphs/sourcecred_sourcecred.json\"\n",
    "abs_file_path = os.path.abspath(os.path.join(cwd, '..', rel_path))\n",
    "\n",
    "with open(abs_file_path) as json_file:  \n",
    "    data = json.load(json_file)"
   ]
  },
  {
   "cell_type": "code",
   "execution_count": 3,
   "metadata": {},
   "outputs": [],
   "source": [
    "G = ig.jsonToMultiDiGraph(data)"
   ]
  },
  {
   "cell_type": "code",
   "execution_count": 4,
   "metadata": {},
   "outputs": [],
   "source": [
    "iterations = 50\n",
    "\n",
    "\n",
    "alpha = 0\n",
    "seed = {n:1/len(G.nodes) for n in G.nodes}\n",
    "self_loop_wt = 1/1000\n"
   ]
  },
  {
   "cell_type": "code",
   "execution_count": null,
   "metadata": {},
   "outputs": [],
   "source": [
    "r, df, g = pr.pageRanker(G,\n",
    "                         alpha,\n",
    "                         iterations,\n",
    "                         seed=seed,\n",
    "                         initial_value = seed,\n",
    "                         lazy=False,\n",
    "                         self_loop_wt=self_loop_wt)"
   ]
  },
  {
   "cell_type": "code",
   "execution_count": null,
   "metadata": {},
   "outputs": [
    {
     "data": {
      "text/plain": [
       "(array([2.000e+00, 2.000e+00, 1.000e+00, 5.100e+01, 2.051e+03, 1.723e+03,\n",
       "        9.860e+02, 5.520e+02, 5.390e+02, 2.100e+01, 1.000e+00, 0.000e+00,\n",
       "        0.000e+00, 2.000e+00, 1.000e+00]),\n",
       " array([-6.62636919, -6.2259882 , -5.82560721, -5.42522622, -5.02484523,\n",
       "        -4.62446424, -4.22408325, -3.82370226, -3.42332126, -3.02294027,\n",
       "        -2.62255928, -2.22217829, -1.8217973 , -1.42141631, -1.02103532,\n",
       "        -0.62065432]),\n",
       " <a list of 15 Patch objects>)"
      ]
     },
     "execution_count": 6,
     "metadata": {},
     "output_type": "execute_result"
    },
    {
     "data": {
      "image/png": "[encoded data removed]",
      "text/plain": [
       "<Figure size 432x288 with 1 Axes>"
      ]
     },
     "metadata": {
      "needs_background": "light"
     },
     "output_type": "display_data"
    }
   ],
   "source": [
    "plt.hist(np.log10(r), bins = 15)"
   ]
  },
  {
   "cell_type": "code",
   "execution_count": null,
   "metadata": {},
   "outputs": [],
   "source": [
    "df.apply(np.log10).plot(legend=False, figsize=(20,10),alpha=.5)"
   ]
  },
  {
   "cell_type": "code",
   "execution_count": null,
   "metadata": {},
   "outputs": [],
   "source": [
    "top25 = list(df.T.reset_index().sort_values(iterations).tail(25).index)"
   ]
  },
  {
   "cell_type": "code",
   "execution_count": null,
   "metadata": {},
   "outputs": [],
   "source": [
    "isg.inspectSubGraph(G, top25, expand=False, verbose=False, label=True,pos = \"kk\")"
   ]
  },
  {
   "cell_type": "code",
   "execution_count": null,
   "metadata": {},
   "outputs": [],
   "source": [
    "df.sum(axis=1)"
   ]
  },
  {
   "cell_type": "code",
   "execution_count": null,
   "metadata": {},
   "outputs": [],
   "source": [
    "plt.hist([np.log10(v) for v in list(nx.get_node_attributes(G,'total_wt').values())])"
   ]
  },
  {
   "cell_type": "code",
   "execution_count": null,
   "metadata": {},
   "outputs": [],
   "source": []
  }
 ],
 "metadata": {
  "kernelspec": {
   "display_name": "Python 3",
   "language": "python",
   "name": "python3"
  },
  "language_info": {
   "codemirror_mode": {
    "name": "ipython",
    "version": 3
   },
   "file_extension": ".py",
   "mimetype": "text/x-python",
   "name": "python",
   "nbconvert_exporter": "python",
   "pygments_lexer": "ipython3",
   "version": "3.6.8"
  }
 },
 "nbformat": 4,
 "nbformat_minor": 2
}
